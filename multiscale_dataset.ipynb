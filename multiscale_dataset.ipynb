{
 "cells": [
  {
   "cell_type": "code",
   "execution_count": null,
   "id": "20dc4c8a-6cd4-4812-85b8-eca7b554e921",
   "metadata": {},
   "outputs": [],
   "source": [
    "hasattr"
   ]
  },
  {
   "cell_type": "code",
   "execution_count": 1,
   "id": "12ff08aa-9221-4bba-b48a-73a05135429a",
   "metadata": {
    "tags": []
   },
   "outputs": [],
   "source": [
    "import pandas as pd\n",
    "from pathlib import Path\n",
    "import pathlib\n",
    "import os\n",
    "import numpy as np\n",
    "import torch\n",
    "from torch.utils.data import Dataset\n",
    "\n",
    "from shapely.geometry import Polygon\n",
    "import pdb\n",
    "import  cv2\n",
    "import PIL"
   ]
  },
  {
   "cell_type": "code",
   "execution_count": 2,
   "id": "cd8c910b-ffae-46a0-a673-8b896ba0beb1",
   "metadata": {},
   "outputs": [],
   "source": [
    "OPENSLIDE_PATH=Path('openslide-win64-20230414')\n",
    "\n",
    "OPENSLIDE_FOLDER=os.path.join(Path().resolve(),'openslide-win64-20230414','openslide-win64-20230414','bin')"
   ]
  },
  {
   "cell_type": "code",
   "execution_count": 3,
   "id": "5441f1db-0fa9-4e8b-9c38-4bebdd08d39d",
   "metadata": {
    "tags": []
   },
   "outputs": [],
   "source": [
    "if hasattr(os,'add_dll_directory'):\n",
    "    with os.add_dll_directory(OPENSLIDE_FOLDER):\n",
    "        import openslide\n",
    "else:\n",
    "    import openslide\n",
    "    \n",
    "    "
   ]
  },
  {
   "cell_type": "code",
   "execution_count": null,
   "id": "1b2e7e9b-a510-4b27-8e97-8b470d0452dd",
   "metadata": {
    "jupyter": {
     "source_hidden": true
    },
    "tags": []
   },
   "outputs": [],
   "source": [
    "def append_openslide_to_PATH(openslide_folder:str):\n",
    "    \"\"\"append openslide bin installation to PYTHONPATH from a fresh install of openslide \n",
    "       at the 'openslide_folder'. The path of the oprnslide folder is relative to the current file \"\"\"\n",
    "    \n",
    "    if not hasattr(PIL.Image, 'Resampling'):  # Pillow<9.0\n",
    "        PIL.Image.Resampling = PIL.Image\n",
    "    \n",
    "    \n",
    "    curr_abs_path=pathlib.Path().resolve()\n",
    "    openslide_abs_path=curr_abs_path/openslide_folder/openslide_folder/'bin'\n",
    "    #sys.path=[str(openslide_abs_path)]+sys.path\n",
    "    os.environ['PATH'] = str(openslide_abs_path) + ';' + os.environ['PATH']\n",
    "    "
   ]
  },
  {
   "cell_type": "code",
   "execution_count": 2,
   "id": "204b6657-d14c-4e6a-b178-153826adb606",
   "metadata": {
    "jupyter": {
     "source_hidden": true
    }
   },
   "outputs": [],
   "source": [
    "def append_openslide_to_PATH(openslide_folder:str):\n",
    "    \"\"\"append openslide bin installation to PYTHONPATH from a fresh install of openslide \n",
    "       at the 'openslide_folder'. The path of the oprnslide folder is relative to the current file \"\"\"\n",
    "    \n",
    "    if not hasattr(PIL.Image, 'Resampling'):  # Pillow<9.0\n",
    "        PIL.Image.Resampling = PIL.Image\n",
    "    \n",
    "    \n",
    "    curr_abs_path=pathlib.Path().resolve()\n",
    "    openslide_abs_path=curr_abs_path/openslide_folder/openslide_folder/'bin'\n",
    "    #sys.path=[str(openslide_abs_path)]+sys.path\n",
    "    os.environ['PATH'] = str(openslide_abs_path) + ';' + os.environ['PATH']\n",
    "    \n",
    "\n",
    "\n",
    "OPENSLIDE_PATH='openslide-win64-20230414'\n",
    "try:\n",
    "    import openslide\n",
    "    from openslide import OpenSlide\n",
    "except OSError:\n",
    "    append_openslide_to_PATH(OPENSLIDE_PATH) \n",
    "    import openslide\n",
    "    from openslide import OpenSlide\n",
    "    "
   ]
  },
  {
   "cell_type": "code",
   "execution_count": 10,
   "id": "d4a8695a-005e-46c7-b41b-401dc0970600",
   "metadata": {
    "jupyter": {
     "source_hidden": true
    }
   },
   "outputs": [],
   "source": [
    "\n",
    "\n",
    "from shapely.geometry import Polygon\n",
    "import pandas as pd\n",
    "from pathlib import Path\n",
    "import pathlib\n",
    "import os\n",
    "import numpy as np\n",
    "from typing import Tuple\n",
    "import json\n",
    "import openslide\n",
    "import pdb\n",
    "\n",
    "\n",
    "\n",
    "\n",
    "\n",
    "\n",
    "\n",
    "\n",
    "    \n",
    "class AnnotationParser():\n",
    "    \"\"\" Parses WSI Files and associated GeoJson annotations to create a composite data frame\n",
    "         from both.Also returns the annotations as line items for which th eparsing didn't work \n",
    "         Requires folder containing WSI files and Annotations\"\"\"\n",
    "    \n",
    "    def __init__(self,image_path:pathlib.Path,labels_path:pathlib.Path)->None:\n",
    "        self.image_path=image_path\n",
    "        self.labels_path=labels_path\n",
    "        \n",
    "        \n",
    "        \n",
    "    \n",
    "    \n",
    "    \n",
    "    def get_img_df(self)->pd.DataFrame:\n",
    "        \"\"\"use openslide to get properties,shape,levels etc.for each image\"\"\"\n",
    "        img_paths=[self.image_path/fn for fn in os.listdir(self.image_path)  if (self.image_path/fn).suffix == '.tiff']\n",
    "        img_df=pd.DataFrame({'image_path':img_paths})\n",
    "        img_df=img_df.assign(image_name=[img_path.stem for img_path in img_paths],\n",
    "                             WSI_size=[openslide.OpenSlide(img_path).dimensions for img_path in img_paths],\n",
    "                      levels=[openslide.OpenSlide(img_path).level_count for img_path in img_paths],\n",
    "                    downsample_levels=[{level:downsample for level,downsample in enumerate(openslide.OpenSlide(img_path).level_downsamples)} \n",
    "                           for img_path in img_paths])\n",
    "        return img_df\n",
    "\n",
    "\n",
    "    \n",
    "    def get_coordinates_array(self,anno_row:pd.Series)->np.ndarray:\n",
    "        \"\"\"parse the annotation json (as a series of rows to get coordinates\n",
    "           of the annotation as an array of dim n_points X 2 \"\"\"\n",
    "        \n",
    "       \n",
    "        \n",
    "        try:\n",
    "            coord_list=anno_row['geometry']['coordinates']\n",
    "        except KeyError:\n",
    "            \n",
    "            return 'coordinates_key_error'\n",
    "        \n",
    "        ### last 2 dimensions of every poly are n_points X 2\n",
    "       # pdb.set_trace() \n",
    "        try:\n",
    "            poly_arrays=[np.array(poly).reshape((np.array(poly).shape)[-2:]) for poly in coord_list]\n",
    "\n",
    "        except:\n",
    "            pdb.set_trace()\n",
    "            \n",
    "        \n",
    "        \n",
    "       \n",
    "        ## to get largest polygon if more than one get marked\n",
    "        largest_poly=max(poly_arrays,key=len)\n",
    "        #largest_poly=max(coord_list,key=lambda x:len(max(x,key=len))\n",
    "        \n",
    "       \n",
    "        return largest_poly\n",
    "\n",
    "    \n",
    "    def get_class_name_and_color(self,anno_row:pd.Series)->Tuple[str,int]:\n",
    "        \"\"\"Parse annotation to return class name for each anno and color assigned in QuPath\"\"\"\n",
    "        \n",
    "     \n",
    "        \n",
    "        try:\n",
    "            classification=anno_row['properties']['classification']\n",
    "            class_name=classification['name']\n",
    "            class_color=classification['color']\n",
    "            return class_name,np.array(class_color)\n",
    "        \n",
    "        except KeyError:\n",
    "            \n",
    "            \n",
    "            return 'class_name_error',0\n",
    "        \n",
    "            \n",
    "        \n",
    "    \n",
    "    def parse_json_file(self,json_path:pathlib.Path):\n",
    "        # need to be list of dicts (anno_list)\n",
    "        with open(json_path) as json_file:\n",
    "            anno_list = json.load(json_file)\n",
    "            if not isinstance(anno_list, list):\n",
    "                anno_list=[anno_list]\n",
    "            \n",
    "        \n",
    "        anno_df=pd.DataFrame(anno_list)\n",
    "        anno_df=anno_df.assign(image_name=json_path.stem)\n",
    "        #pdb.set_trace()\n",
    "        return anno_df\n",
    "\n",
    "        \n",
    "    \n",
    "    def get_anno_df(self,img_df:pd.DataFrame)->Tuple[pd.DataFrame,pd.DataFrame]:\n",
    "        \n",
    "        \"\"\" get annotation df including annotation for which parsing did not work (errored)\"\"\"\n",
    "        \n",
    "        jsons=[self.labels_path/fn for fn in os.listdir(self.labels_path)  if (self.labels_path/fn).suffix == '.geojson']\n",
    "        anno_df=pd.concat([self.parse_json_file(json_path) for json_path in jsons])\n",
    "        #pdb.set_trace()\n",
    "        #anno_df=pd.concat([pd.read_json(json,orient='records').assign(image_name=json.stem) for json in jsons],ignore_index=True)\n",
    "        \n",
    "        ## enrich with image specific attrs, total size,zoom levels etc.\n",
    "        anno_df=anno_df.merge(img_df,on='image_name')\n",
    "        ## add coordinates as np array and shapely polygon with transormed origin \n",
    "        anno_df['coordinates']=anno_df.apply(self.get_coordinates_array,1)\n",
    "        #pdb.set_trace()\n",
    "        anno_df['class_name'], anno_df['colour_RGB']=zip(*anno_df.apply(self.get_class_name_and_color,1))\n",
    "        \n",
    "        ## select the annos with errored coordinates (due to annotation issues)\n",
    "        errored=np.logical_or(anno_df['coordinates'].isin(['coordinates_key_error']),\n",
    "                              anno_df['class_name']=='class_name_error')\n",
    "        \n",
    "        errored_df=anno_df[errored]\n",
    "        anno_df=anno_df[~errored]\n",
    "        \n",
    "        #pdb.set_trace()\n",
    "        ## use shapely to compute polygon attrs\n",
    "        anno_df['polygon']=anno_df.apply(lambda x:Polygon(x['coordinates']),1)\n",
    "        anno_df['area']=anno_df.apply(lambda x:x['polygon'].area,1)\n",
    "        anno_df['circumference']=anno_df.apply(lambda x:x['polygon'].length,1)\n",
    "        #pdb.set_trace()\n",
    "        \n",
    "        return anno_df,errored_df\n",
    "    \n",
    "    \n",
    "    \n",
    "    def parse_annotations(self)->Tuple[pd.DataFrame,pd.DataFrame,pd.DataFrame]:\n",
    "        \"\"\" returns anno_df,img_df and errored df in that order \"\"\" \n",
    "        img_df=self.get_img_df()\n",
    "        anno_df,errored_df=self.get_anno_df(img_df)\n",
    "        \n",
    "        \n",
    "        return anno_df,img_df,errored_df\n",
    "        \n"
   ]
  },
  {
   "cell_type": "code",
   "execution_count": 8,
   "id": "db231725-36f9-4b6b-a114-8ee45c588184",
   "metadata": {
    "tags": []
   },
   "outputs": [],
   "source": [
    "from dataloading.src.wsi_datasets import WSI_Multiscale\n",
    "from dataloading.src.annotation_parser import AnnotationParser\n"
   ]
  },
  {
   "cell_type": "code",
   "execution_count": null,
   "id": "557bad30-8e66-4fc7-8bd1-0416798b8be0",
   "metadata": {
    "tags": []
   },
   "outputs": [
    {
     "name": "stdout",
     "output_type": "stream",
     "text": [
      "> \u001b[1;32mc:\\users\\ananya\\appdata\\local\\temp\\ipykernel_17640\\2005998499.py\u001b[0m(71)\u001b[0;36mget_coordinates_array\u001b[1;34m()\u001b[0m\n",
      "\n"
     ]
    },
    {
     "name": "stdin",
     "output_type": "stream",
     "text": [
      "ipdb>  poly_arrays=[np.array(poly).reshape((np.array(poly).shape)[-2:]) for poly in coord_list]\n"
     ]
    },
    {
     "name": "stdout",
     "output_type": "stream",
     "text": [
      "*** ValueError: setting an array element with a sequence. The requested array has an inhomogeneous shape after 1 dimensions. The detected shape was (2,) + inhomogeneous part.\n"
     ]
    }
   ],
   "source": [
    "import pdb\n",
    "root=Path('WSI_download/WSI_data')\n",
    "\n",
    "#label_path=root/'labels'\n",
    "label_path=root/'labels'\n",
    "image_path=root/'images'\n",
    "\n",
    "parser=AnnotationParser(image_path,label_path)\n",
    "anno_df,image_f,errored=parser.parse_annotations()"
   ]
  },
  {
   "cell_type": "code",
   "execution_count": 174,
   "id": "586caef5-083d-49f4-90dc-c78f2645d827",
   "metadata": {
    "collapsed": true,
    "jupyter": {
     "outputs_hidden": true
    },
    "tags": []
   },
   "outputs": [
    {
     "name": "stdout",
     "output_type": "stream",
     "text": [
      "Appending to dataloading/src/wsi_datasets.py\n"
     ]
    }
   ],
   "source": [
    "#``10.%%writefile -a dataloading/src/wsi_datasets.py\n",
    "from torch.utils.data import Dataset\n",
    "from shapely.geometry import Polygon,MultiPolygon\n",
    "import  cv2\n",
    "import numpy as np\n",
    "import pandas as pd\n",
    "\n",
    "\n",
    "\n",
    "class WSI_Multiscale(Dataset):\n",
    "    \n",
    "   \n",
    "    \n",
    "    def __init__(self,\n",
    "                 anno_df:pd.DataFrame,\n",
    "                 crop_pixel_size:tuple=(256,256),\n",
    "                 transform=None)->None:\n",
    "       \n",
    "        \"\"\"Pytorch Dataset class representing a multiscale WSI dataset.inputs are img and anno dfs containing info \n",
    "         about WSI images and annotations\"\"\"\n",
    "       \n",
    "        self.anno_df=anno_df\n",
    "        ## the size in pixel of  each crop -size is kept same at \n",
    "        ## various zoom levels for batching\n",
    "        self.crop_pixel_size=crop_pixel_size\n",
    "        self.item_transform = transform\n",
    "        self.class2num={'Tumor':1}\n",
    "        \n",
    "\n",
    "    def __len__(self):\n",
    "        return len(self.anno_df)\n",
    "    \n",
    "    \n",
    "    def get_random_crop(self,annotation_row:pd.Series)->(torch.tensor,torch.tensor):\n",
    "        \n",
    "        \"\"\" get a random center crop at any possible zoom level from the periphery\n",
    "           of an annotation \"\"\"\n",
    "       \n",
    "        downsample_dict=annotation_row['downsample_levels']\n",
    "        wsi_size,anno_coordinates=(torch.tensor(x) for x in [annotation_row['WSI_size'],\n",
    "                                                             annotation_row['coordinates']])\n",
    "\n",
    "        downsample_factors=torch.tensor(list(downsample_dict.values()))\n",
    "\n",
    "\n",
    "        ## create on self.device\n",
    "        offsets=torch.tensor(self.crop_pixel_size)//2\n",
    "        \n",
    "        offsets_arr=torch.tensor([[-1,1],[1,1],[1,-1],[-1,-1]])*offsets\n",
    "\n",
    "        ## create offsets to be made from each polygon boundary point\n",
    "\n",
    "        all_offsets=offsets_arr.unsqueeze(2)*downsample_factors.unsqueeze(0).unsqueeze(0)\n",
    "\n",
    "        all_crops=all_offsets.unsqueeze(0)+anno_coordinates.unsqueeze(1).unsqueeze(3)\n",
    "        all_crops=all_crops.permute(0,3,1,2)\n",
    "        all_crops=all_crops.flatten(end_dim=1)\n",
    "        \n",
    "\n",
    "        ## all_crops shape: N_points X Zoom factors X 4 (square tile points) X 2 (x,y coords)\n",
    "\n",
    "        ## check the boundary of the crops fall within the WSI image\n",
    "        max_bounds=torch.max(all_crops,axis=1).values<wsi_size.unsqueeze(0)\n",
    "        min_bounds=torch.min(all_crops,axis=1).values>torch.zeros_like(wsi_size.unsqueeze(0))\n",
    "\n",
    "        ## get all feasible crops/tiles associated with theat particular annotation\n",
    "        all_crops=all_crops[torch.logical_and(max_bounds.all(axis=1),min_bounds.all(axis=1))]\n",
    "\n",
    "       \n",
    "        random_crop_index=np.random.randint(0,all_crops.shape[0])\n",
    "        \n",
    "        ## select the random crop from one of the  vertices and zoom level\n",
    "        crop=all_crops[random_crop_index]\n",
    "        crop_sz=crop[:,0].max()-crop[:,0].min()\n",
    "       \n",
    "        ## record the zoom level of the chosen crop\n",
    "        zoom_level_idx=torch.argwhere(downsample_factors*self.crop_pixel_size[0]==crop_sz).flatten()\n",
    "       \n",
    "       \n",
    "        ## return the crop as a tensor of shape 4X2 (with corner coordinates of the crop) and \n",
    "        ## zoom level indicated by an index (0-8)\n",
    "        return np.array(crop),zoom_level_idx\n",
    "    \n",
    "    \n",
    "    def get_intersecting_polys(self,crop_poly:Polygon,anno_poly:Polygon,top_left:np.ndarray):\n",
    "        \"\"\"return the intersection between a crop square and annotation polygon\n",
    "         handles the case when the intersection is a multipolygon\"\"\"\n",
    "        \n",
    "        intersect=crop_poly.intersection(poly)\n",
    "        \n",
    "        \n",
    "        \n",
    "        \n",
    "   \n",
    "    def get_mask_per_class(self,class_annotation_data:pd.DataFrame,crop:np.ndarray,\n",
    "                          downsample_factor:float)->torch.tensor:\n",
    "       \n",
    "        \"\"\"\"function to create masks of each class given the annotation data and crop(image) \n",
    "            coordinates=(4X2 shape) also the donsample factor of the crop to scale the polygon coords\"\"\"\n",
    "        annotation_class=class_annotation_data['class_name'].iloc[0]\n",
    "        annotation_num=self.class2num[annotation_class]\n",
    "        \n",
    "        \n",
    "        ## select the top left point of the crop\n",
    "        ## its the point with the min X and Y corrdinates (top left of image is origin)\n",
    "        \n",
    "        top_left=crop.min(axis=0)\n",
    "        \n",
    "        ## create a shapely polygon from crop to find intersections between annotations and crop\n",
    "        \n",
    "        crop_poly=Polygon(crop)\n",
    "        \n",
    "        ## create list of intersecting polygons with crop to fill with clss encoding\n",
    "        \n",
    "        intersects=[]\n",
    "        for poly in  class_annotation_data['polygon']:\n",
    "            if not crop_poly.intersects(poly):\n",
    "                continue\n",
    "            else:\n",
    "                intersect=crop_poly.intersection(poly)\n",
    "                \n",
    "                if isinstance(intersect,MultiPolygon):\n",
    "                    for inter in intersect.geoms:\n",
    "                        ext_coords=((np.array(inter.convex_hull.exterior.coords)-top_left)//downsample_factor).astype(np.int32)\n",
    "                        intersects.append(ext_coords)\n",
    "                elif isinstance(intersect,Polygon):\n",
    "                        ext_coords=((np.array(intersect.convex_hull.exterior.coords)-top_left)//downsample_factor).astype(np.int32)\n",
    "                        intersects.append(ext_coords)\n",
    "                else:\n",
    "                        continue\n",
    "                        \n",
    "                        \n",
    "                \n",
    "\n",
    "                    \n",
    "        mask=np.zeros(self.crop_pixel_size,dtype=np.uint8)\n",
    "        \n",
    "       \n",
    "        ## fill the intersected polygons within the mask\n",
    "        cv2.fillPoly(mask,intersects,color=annotation_num)\n",
    "        \n",
    "        return torch.tensor(mask,dtype=torch.uint8)\n",
    "        \n",
    "        \n",
    "        \n",
    "    def read_slide_region(self,slide_obj:openslide.OpenSlide,top_left:np.array,\n",
    "                         level:int):\n",
    "        \"\"\" returns the pixel RGB from WSI given a location,crop_size and level\"\"\"\n",
    "        #pdb.set_trace()\n",
    "        return slide_obj.read_region(tuple(top_left),level,self.crop_pixel_size)\n",
    "\n",
    "    \n",
    "    def __getitem__(self, index):\n",
    "        ## select annotation \n",
    "        anno_row=self.anno_df.iloc[index]\n",
    "        \n",
    "        ## select all annotations in the same image as indexed annotation\n",
    "        image_name,anno_class=anno_row['image_name'],anno_row['class_name']\n",
    "        dowsample_levels=anno_row['downsample_levels']\n",
    "        image_path=anno_row['image_path']\n",
    "        image_anno_data=self.anno_df[self.anno_df['image_name']==image_name]\n",
    "        \n",
    "        ## select random crop from the annotation\n",
    "        crop,zoom_level_idx=self.get_random_crop(anno_row)\n",
    "        \n",
    "        ## get the top left corner of the crop\n",
    "        top_left=crop.min(axis=0).astype(np.int32)\n",
    "         ## Zoom level idx is a tensor convert to int to use as level in openslide\n",
    "        zoom_level=zoom_level_idx.item()\n",
    "        \n",
    "        ## Zoom level is a tensor convert to int to use as key\n",
    "        downsample_factor=dowsample_levels[zoom_level]\n",
    "        \n",
    "        crop_RGB=self.read_slide_region(openslide.OpenSlide(image_path),\n",
    "                                        top_left,\n",
    "                                        zoom_level)\n",
    "                                        \n",
    "        \n",
    "       ## get  classwise masks from the selected crop by selecting all annos on the same image\n",
    "        ## and within the same crop\n",
    "        \n",
    "        get_classwise_masks=partial(self.get_mask_per_class,\n",
    "                                          crop=crop,\n",
    "                                          downsample_factor=downsample_factor)\n",
    "        \n",
    "        \n",
    "      \n",
    "        class_wise_masks=image_anno_data.groupby('class_name').apply(get_classwise_masks)\n",
    "        \n",
    "       \n",
    "        \n",
    "       \n",
    "        ## stack the masks of various classes\n",
    "        stacked_masks=torch.stack(class_wise_masks.to_list(),dim=0)\n",
    "       \n",
    "        ## create a composite mask with higher class numbers taking precedence in case of ties\n",
    "       \n",
    "        composite_mask=stacked_masks.max(dim=0)\n",
    "        img_tens=torch.tensor(np.array(crop_RGB))[:,:,:-1].permute(2,0,1)\n",
    "        \n",
    "        return img_tens,composite_mask.values,zoom_level_idx"
   ]
  },
  {
   "cell_type": "code",
   "execution_count": 17,
   "id": "f51ab939-d32a-42cd-8f69-c6ab7a981e77",
   "metadata": {
    "tags": []
   },
   "outputs": [],
   "source": [
    "#%%writefile -a dataloading/src/wsi_datasets.py\n"
   ]
  },
  {
   "cell_type": "code",
   "execution_count": 5,
   "id": "d75dedf3-2434-4e46-a591-c6d7ed131d82",
   "metadata": {},
   "outputs": [],
   "source": [
    "from sklearn.model_selection import train_test_split\n",
    "ds_train,ds_val=(WSI_Multiscale(df) for df in train_test_split(anno_df,test_size=0.2,random_state=42))"
   ]
  },
  {
   "cell_type": "code",
   "execution_count": 23,
   "id": "9b1be6e5-8d30-497c-b34c-1a0537429c6f",
   "metadata": {},
   "outputs": [],
   "source": [
    "dl_train,dl_val=ds_train.get_dl(batch_size=16),ds_val.get_dl(batch_size=8)"
   ]
  },
  {
   "cell_type": "code",
   "execution_count": 13,
   "id": "1493d452-bdcd-461f-b36b-f79b247ac103",
   "metadata": {},
   "outputs": [],
   "source": [
    "import segmentation_models_pytorch as smp\n",
    "\n",
    "unet = smp.Unet(\n",
    "    encoder_name=\"resnet34\",        # choose encoder, e.g. mobilenet_v2 or efficientnet-b7\n",
    "    encoder_weights=None,     # use `imagenet` pre-trained weights for encoder initialization\n",
    "    in_channels=3,                  # model input channels (1 for gray-scale images, 3 for RGB, etc.)\n",
    "    classes=2,                      # model output channels (number of classes in your dataset)\n",
    ")"
   ]
  },
  {
   "cell_type": "code",
   "execution_count": 26,
   "id": "6baca1b7-ebb7-4282-a6c6-4cc20958b0e5",
   "metadata": {},
   "outputs": [
    {
     "name": "stderr",
     "output_type": "stream",
     "text": [
      "D:\\Projects_2023\\morphle_wsi_scans\\dataloading\\src\\wsi_datasets.py:117: UserWarning: __floordiv__ is deprecated, and its behavior will change in a future version of pytorch. It currently rounds toward 0 (like the 'trunc' function NOT 'floor'). This results in incorrect rounding for negative values. To keep the current behavior, use torch.div(a, b, rounding_mode='trunc'), or for actual floor division, use torch.div(a, b, rounding_mode='floor').\n",
      "  offsets=torch.tensor(self.crop_pixel_size)//2\n"
     ]
    }
   ],
   "source": [
    "img_b,mask_b,zoom_b=next(iter(dl))"
   ]
  },
  {
   "cell_type": "code",
   "execution_count": 9,
   "id": "4e0d2e69-a276-4a1a-be1f-89b90c6735f9",
   "metadata": {},
   "outputs": [],
   "source": [
    "import torch\n",
    "import torch.nn as nn\n",
    "import torch.optim as optim\n",
    "import pytorch_lightning as pl\n",
    "\n",
    "# Define your PyTorch Lightning module (inherits from pl.LightningModule)\n",
    "class SegLightningModule(pl.LightningModule):\n",
    "    def __init__(self, segmentation_model):\n",
    "        super(SegLightningModule, self).__init__()\n",
    "        # Define your model architecture here\n",
    "        self.segmentation_model=segmentation_model\n",
    "\n",
    "    def forward(self, x):\n",
    "        # Define the forward pass of your model\n",
    "        \n",
    "        return self.segmentation_model(x)\n",
    "    \n",
    "    def flattened_cross_entropy_loss(self,inp,tgt):\n",
    "        \n",
    "        tgt=tgt.flatten(start_dim=-2)\n",
    "        inp=inp.flatten(start_dim=-2)\n",
    "      \n",
    "        return nn.functional.cross_entropy(inp, tgt)\n",
    "    \n",
    "    \n",
    "    def training_step(self, batch, batch_idx):\n",
    "        # Define the training step\n",
    "      \n",
    "        img_b,mask_b,zoom_b=batch\n",
    "        img_b=img_b.to(torch.float32)\n",
    "        mask_b=mask_b.to(torch.int64)\n",
    "        zoom_b=zoom_b.to(torch.int64)\n",
    "        y_pred = self(img_b)\n",
    "        loss = self.flattened_cross_entropy_loss(y_pred, mask_b)\n",
    "        self.log('train_loss', loss)  # Log the training loss for TensorBoard\n",
    "        return loss\n",
    "\n",
    "    def configure_optimizers(self):\n",
    "        # Define your optimizer\n",
    "        optimizer = optim.Adam(self.parameters(), lr=0.001)\n",
    "        return optimizer"
   ]
  },
  {
   "cell_type": "code",
   "execution_count": 14,
   "id": "744b0704-461e-4ca5-86c3-ee4d297c0c4e",
   "metadata": {},
   "outputs": [],
   "source": [
    "seg_model=SegLightningModule(segmentation_model=unet)"
   ]
  },
  {
   "cell_type": "code",
   "execution_count": 15,
   "id": "5710476a-832e-4716-9e66-416c355302e0",
   "metadata": {},
   "outputs": [
    {
     "name": "stderr",
     "output_type": "stream",
     "text": [
      "D:\\Anaconda3\\envs\\fastai2022\\lib\\site-packages\\pytorch_lightning\\trainer\\connectors\\accelerator_connector.py:479: LightningDeprecationWarning: Setting `Trainer(gpus=1)` is deprecated in v1.7 and will be removed in v2.0. Please use `Trainer(accelerator='gpu', devices=1)` instead.\n",
      "  f\"Setting `Trainer(gpus={gpus!r})` is deprecated in v1.7 and will be removed\"\n",
      "GPU available: True (cuda), used: True\n",
      "TPU available: False, using: 0 TPU cores\n",
      "IPU available: False, using: 0 IPUs\n",
      "HPU available: False, using: 0 HPUs\n",
      "D:\\Anaconda3\\envs\\fastai2022\\lib\\site-packages\\pytorch_lightning\\trainer\\configuration_validator.py:106: UserWarning: You passed in a `val_dataloader` but have no `validation_step`. Skipping val loop.\n",
      "  rank_zero_warn(\"You passed in a `val_dataloader` but have no `validation_step`. Skipping val loop.\")\n",
      "LOCAL_RANK: 0 - CUDA_VISIBLE_DEVICES: [0]\n",
      "\n",
      "  | Name               | Type | Params\n",
      "--------------------------------------------\n",
      "0 | segmentation_model | Unet | 24.4 M\n",
      "--------------------------------------------\n",
      "24.4 M    Trainable params\n",
      "0         Non-trainable params\n",
      "24.4 M    Total params\n",
      "97.746    Total estimated model params size (MB)\n"
     ]
    },
    {
     "data": {
      "application/vnd.jupyter.widget-view+json": {
       "model_id": "c384d61d9c5b4a538472d1ccb5e2f267",
       "version_major": 2,
       "version_minor": 0
      },
      "text/plain": [
       "Training: 0it [00:00, ?it/s]"
      ]
     },
     "metadata": {},
     "output_type": "display_data"
    },
    {
     "name": "stderr",
     "output_type": "stream",
     "text": [
      "`Trainer.fit` stopped: `max_epochs=10` reached.\n"
     ]
    }
   ],
   "source": [
    "trainer = pl.Trainer(max_epochs=10, gpus=1)\n",
    "trainer.fit(model=seg_model, train_dataloaders=dl_train,val_dataloaders=dl_val)"
   ]
  },
  {
   "cell_type": "code",
   "execution_count": 16,
   "id": "61c94e4a-bff5-4de3-81c9-b3b143533425",
   "metadata": {
    "collapsed": true,
    "jupyter": {
     "outputs_hidden": true
    },
    "tags": []
   },
   "outputs": [
    {
     "name": "stdout",
     "output_type": "stream",
     "text": [
      "The tensorboard extension is already loaded. To reload it, use:\n",
      "  %reload_ext tensorboard\n"
     ]
    },
    {
     "data": {
      "text/plain": [
       "Reusing TensorBoard on port 6006 (pid 15596), started 0:12:25 ago. (Use '!kill 15596' to kill it.)"
      ]
     },
     "metadata": {},
     "output_type": "display_data"
    },
    {
     "data": {
      "text/html": [
       "\n",
       "      <iframe id=\"tensorboard-frame-f39534f4b06b14c9\" width=\"100%\" height=\"800\" frameborder=\"0\">\n",
       "      </iframe>\n",
       "      <script>\n",
       "        (function() {\n",
       "          const frame = document.getElementById(\"tensorboard-frame-f39534f4b06b14c9\");\n",
       "          const url = new URL(\"/\", window.location);\n",
       "          const port = 6006;\n",
       "          if (port) {\n",
       "            url.port = port;\n",
       "          }\n",
       "          frame.src = url;\n",
       "        })();\n",
       "      </script>\n",
       "    "
      ],
      "text/plain": [
       "<IPython.core.display.HTML object>"
      ]
     },
     "metadata": {},
     "output_type": "display_data"
    }
   ],
   "source": [
    "%load_ext tensorboard\n",
    "%tensorboard --logdir lightning_logs\n"
   ]
  },
  {
   "cell_type": "code",
   "execution_count": 51,
   "id": "8a0bd49f-499e-4f4e-a812-179937ee9e13",
   "metadata": {},
   "outputs": [],
   "source": [
    "def comp_fwd(model,img_b):\n",
    "    out=model.encoder(img_b)\n",
    "    \n",
    "    out=model.decoder(out[-1])\n",
    "    \n",
    "    out=model.segmentation_head(out)\n",
    "    return out"
   ]
  },
  {
   "cell_type": "code",
   "execution_count": 50,
   "id": "81a1a27e-b03a-4459-9da5-a58481e38b78",
   "metadata": {
    "tags": []
   },
   "outputs": [
    {
     "data": {
      "text/plain": [
       "segmentation_models_pytorch.decoders.unet.decoder.UnetDecoder"
      ]
     },
     "execution_count": 50,
     "metadata": {},
     "output_type": "execute_result"
    }
   ],
   "source": [
    "model.encoder"
   ]
  },
  {
   "cell_type": "code",
   "execution_count": 31,
   "id": "d4955eac-ba02-46c7-b4d8-e04dbd9a5725",
   "metadata": {},
   "outputs": [
    {
     "data": {
      "text/plain": [
       "torch.Size([16, 3, 256, 256])"
      ]
     },
     "execution_count": 31,
     "metadata": {},
     "output_type": "execute_result"
    }
   ],
   "source": [
    "img_b.shape"
   ]
  },
  {
   "cell_type": "code",
   "execution_count": 53,
   "id": "2e7e5253-50f0-48a2-b95d-23103d4e133c",
   "metadata": {
    "collapsed": true,
    "jupyter": {
     "outputs_hidden": true
    },
    "tags": []
   },
   "outputs": [
    {
     "data": {
      "text/plain": [
       "\u001b[1;31mSignature:\u001b[0m       \u001b[0mmodel\u001b[0m\u001b[1;33m.\u001b[0m\u001b[0mdecoder\u001b[0m\u001b[1;33m(\u001b[0m\u001b[1;33m*\u001b[0m\u001b[0minput\u001b[0m\u001b[1;33m,\u001b[0m \u001b[1;33m**\u001b[0m\u001b[0mkwargs\u001b[0m\u001b[1;33m)\u001b[0m\u001b[1;33m\u001b[0m\u001b[1;33m\u001b[0m\u001b[0m\n",
       "\u001b[1;31mType:\u001b[0m            UnetDecoder\n",
       "\u001b[1;31mString form:\u001b[0m    \n",
       "UnetDecoder(\n",
       "  (center): Identity()\n",
       "  (blocks): ModuleList(\n",
       "    (0): DecoderBlock(\n",
       "      (conv1): Conv2dReLU(\n",
       "        (0): Conv2d(768, 256, kernel_size=(3, 3), stride=(1, 1), padding=(1, 1), bias=False)\n",
       "        (1): BatchNorm2d(256, eps=1e-05, momentum=0.1, affine=True, track_running_stats=True)\n",
       "        (2): ReLU(inplace=True)\n",
       "      )\n",
       "      (attention1): Attention(\n",
       "        (attention): Identity()\n",
       "      )\n",
       "      (conv2): Conv2dReLU(\n",
       "        (0): Conv2d(256, 256, kernel_size=(3, 3), stride=(1, 1), padding=(1, 1), bias=False)\n",
       "        (1): BatchNorm2d(256, eps=1e-05, momentum=0.1, affine=True, track_running_stats=True)\n",
       "        (2): ReLU(inplace=True)\n",
       "      )\n",
       "      (attention2): Attention(\n",
       "        (attention): Identity()\n",
       "      )\n",
       "    )\n",
       "    (1): DecoderBlock(\n",
       "      (conv1): Conv2dReLU(\n",
       "        (0): Conv2d(384, 128, kernel_size=(3, 3), stride=(1, 1), padding=(1, 1), bias=False)\n",
       "        (1): BatchNorm2d(128, eps=1e-05, momentum=0.1, affine=True, track_running_stats=True)\n",
       "        (2): ReLU(inplace=True)\n",
       "      )\n",
       "      (attention1): Attention(\n",
       "        (attention): Identity()\n",
       "      )\n",
       "      (conv2): Conv2dReLU(\n",
       "        (0): Conv2d(128, 128, kernel_size=(3, 3), stride=(1, 1), padding=(1, 1), bias=False)\n",
       "        (1): BatchNorm2d(128, eps=1e-05, momentum=0.1, affine=True, track_running_stats=True)\n",
       "        (2): ReLU(inplace=True)\n",
       "      )\n",
       "      (attention2): Attention(\n",
       "        (attention): Identity()\n",
       "      )\n",
       "    )\n",
       "    (2): DecoderBlock(\n",
       "      (conv1): Conv2dReLU(\n",
       "        (0): Conv2d(192, 64, kernel_size=(3, 3), stride=(1, 1), padding=(1, 1), bias=False)\n",
       "        (1): BatchNorm2d(64, eps=1e-05, momentum=0.1, affine=True, track_running_stats=True)\n",
       "        (2): ReLU(inplace=True)\n",
       "      )\n",
       "      (attention1): Attention(\n",
       "        (attention): Identity()\n",
       "      )\n",
       "      (conv2): Conv2dReLU(\n",
       "        (0): Conv2d(64, 64, kernel_size=(3, 3), stride=(1, 1), padding=(1, 1), bias=False)\n",
       "        (1): BatchNorm2d(64, eps=1e-05, momentum=0.1, affine=True, track_running_stats=True)\n",
       "        (2): ReLU(inplace=True)\n",
       "      )\n",
       "      (attention2): Attention(\n",
       "        (attention): Identity()\n",
       "      )\n",
       "    )\n",
       "    (3): DecoderBlock(\n",
       "      (conv1): Conv2dReLU(\n",
       "        (0): Conv2d(128, 32, kernel_size=(3, 3), stride=(1, 1), padding=(1, 1), bias=False)\n",
       "        (1): BatchNorm2d(32, eps=1e-05, momentum=0.1, affine=True, track_running_stats=True)\n",
       "        (2): ReLU(inplace=True)\n",
       "      )\n",
       "      (attention1): Attention(\n",
       "        (attention): Identity()\n",
       "      )\n",
       "      (conv2): Conv2dReLU(\n",
       "        (0): Conv2d(32, 32, kernel_size=(3, 3), stride=(1, 1), padding=(1, 1), bias=False)\n",
       "        (1): BatchNorm2d(32, eps=1e-05, momentum=0.1, affine=True, track_running_stats=True)\n",
       "        (2): ReLU(inplace=True)\n",
       "      )\n",
       "      (attention2): Attention(\n",
       "        (attention): Identity()\n",
       "      )\n",
       "    )\n",
       "    (4): DecoderBlock(\n",
       "      (conv1): Conv2dReLU(\n",
       "        (0): Conv2d(32, 16, kernel_size=(3, 3), stride=(1, 1), padding=(1, 1), bias=False)\n",
       "        (1): BatchNorm2d(16, eps=1e-05, momentum=0.1, affine=True, track_running_stats=True)\n",
       "        (2): ReLU(inplace=True)\n",
       "      )\n",
       "      (attention1): Attention(\n",
       "        (attention): Identity()\n",
       "      )\n",
       "      (conv2): Conv2dReLU(\n",
       "        (0): Conv2d(16, 16, kernel_size=(3, 3), stride=(1, 1), padding=(1, 1), bias=False)\n",
       "        (1): BatchNorm2d(16, eps=1e-05, momentum=0.1, affine=True, track_running_stats=True)\n",
       "        (2): ReLU(inplace=True)\n",
       "      )\n",
       "      (attention2): Attention(\n",
       "        (attention): Identity()\n",
       "      )\n",
       "    )\n",
       "  )\n",
       ")\n",
       "\u001b[1;31mFile:\u001b[0m            d:\\anaconda3\\envs\\fastai2022\\lib\\site-packages\\segmentation_models_pytorch\\decoders\\unet\\decoder.py\n",
       "\u001b[1;31mSource:\u001b[0m         \n",
       "\u001b[1;32mclass\u001b[0m \u001b[0mUnetDecoder\u001b[0m\u001b[1;33m(\u001b[0m\u001b[0mnn\u001b[0m\u001b[1;33m.\u001b[0m\u001b[0mModule\u001b[0m\u001b[1;33m)\u001b[0m\u001b[1;33m:\u001b[0m\u001b[1;33m\n",
       "\u001b[0m    \u001b[1;32mdef\u001b[0m \u001b[0m__init__\u001b[0m\u001b[1;33m(\u001b[0m\u001b[1;33m\n",
       "\u001b[0m        \u001b[0mself\u001b[0m\u001b[1;33m,\u001b[0m\u001b[1;33m\n",
       "\u001b[0m        \u001b[0mencoder_channels\u001b[0m\u001b[1;33m,\u001b[0m\u001b[1;33m\n",
       "\u001b[0m        \u001b[0mdecoder_channels\u001b[0m\u001b[1;33m,\u001b[0m\u001b[1;33m\n",
       "\u001b[0m        \u001b[0mn_blocks\u001b[0m\u001b[1;33m=\u001b[0m\u001b[1;36m5\u001b[0m\u001b[1;33m,\u001b[0m\u001b[1;33m\n",
       "\u001b[0m        \u001b[0muse_batchnorm\u001b[0m\u001b[1;33m=\u001b[0m\u001b[1;32mTrue\u001b[0m\u001b[1;33m,\u001b[0m\u001b[1;33m\n",
       "\u001b[0m        \u001b[0mattention_type\u001b[0m\u001b[1;33m=\u001b[0m\u001b[1;32mNone\u001b[0m\u001b[1;33m,\u001b[0m\u001b[1;33m\n",
       "\u001b[0m        \u001b[0mcenter\u001b[0m\u001b[1;33m=\u001b[0m\u001b[1;32mFalse\u001b[0m\u001b[1;33m,\u001b[0m\u001b[1;33m\n",
       "\u001b[0m    \u001b[1;33m)\u001b[0m\u001b[1;33m:\u001b[0m\u001b[1;33m\n",
       "\u001b[0m        \u001b[0msuper\u001b[0m\u001b[1;33m(\u001b[0m\u001b[1;33m)\u001b[0m\u001b[1;33m.\u001b[0m\u001b[0m__init__\u001b[0m\u001b[1;33m(\u001b[0m\u001b[1;33m)\u001b[0m\u001b[1;33m\n",
       "\u001b[0m\u001b[1;33m\n",
       "\u001b[0m        \u001b[1;32mif\u001b[0m \u001b[0mn_blocks\u001b[0m \u001b[1;33m!=\u001b[0m \u001b[0mlen\u001b[0m\u001b[1;33m(\u001b[0m\u001b[0mdecoder_channels\u001b[0m\u001b[1;33m)\u001b[0m\u001b[1;33m:\u001b[0m\u001b[1;33m\n",
       "\u001b[0m            \u001b[1;32mraise\u001b[0m \u001b[0mValueError\u001b[0m\u001b[1;33m(\u001b[0m\u001b[1;33m\n",
       "\u001b[0m                \u001b[1;34m\"Model depth is {}, but you provide `decoder_channels` for {} blocks.\"\u001b[0m\u001b[1;33m.\u001b[0m\u001b[0mformat\u001b[0m\u001b[1;33m(\u001b[0m\u001b[1;33m\n",
       "\u001b[0m                    \u001b[0mn_blocks\u001b[0m\u001b[1;33m,\u001b[0m \u001b[0mlen\u001b[0m\u001b[1;33m(\u001b[0m\u001b[0mdecoder_channels\u001b[0m\u001b[1;33m)\u001b[0m\u001b[1;33m\n",
       "\u001b[0m                \u001b[1;33m)\u001b[0m\u001b[1;33m\n",
       "\u001b[0m            \u001b[1;33m)\u001b[0m\u001b[1;33m\n",
       "\u001b[0m\u001b[1;33m\n",
       "\u001b[0m        \u001b[1;31m# remove first skip with same spatial resolution\u001b[0m\u001b[1;33m\n",
       "\u001b[0m        \u001b[0mencoder_channels\u001b[0m \u001b[1;33m=\u001b[0m \u001b[0mencoder_channels\u001b[0m\u001b[1;33m[\u001b[0m\u001b[1;36m1\u001b[0m\u001b[1;33m:\u001b[0m\u001b[1;33m]\u001b[0m\u001b[1;33m\n",
       "\u001b[0m        \u001b[1;31m# reverse channels to start from head of encoder\u001b[0m\u001b[1;33m\n",
       "\u001b[0m        \u001b[0mencoder_channels\u001b[0m \u001b[1;33m=\u001b[0m \u001b[0mencoder_channels\u001b[0m\u001b[1;33m[\u001b[0m\u001b[1;33m:\u001b[0m\u001b[1;33m:\u001b[0m\u001b[1;33m-\u001b[0m\u001b[1;36m1\u001b[0m\u001b[1;33m]\u001b[0m\u001b[1;33m\n",
       "\u001b[0m\u001b[1;33m\n",
       "\u001b[0m        \u001b[1;31m# computing blocks input and output channels\u001b[0m\u001b[1;33m\n",
       "\u001b[0m        \u001b[0mhead_channels\u001b[0m \u001b[1;33m=\u001b[0m \u001b[0mencoder_channels\u001b[0m\u001b[1;33m[\u001b[0m\u001b[1;36m0\u001b[0m\u001b[1;33m]\u001b[0m\u001b[1;33m\n",
       "\u001b[0m        \u001b[0min_channels\u001b[0m \u001b[1;33m=\u001b[0m \u001b[1;33m[\u001b[0m\u001b[0mhead_channels\u001b[0m\u001b[1;33m]\u001b[0m \u001b[1;33m+\u001b[0m \u001b[0mlist\u001b[0m\u001b[1;33m(\u001b[0m\u001b[0mdecoder_channels\u001b[0m\u001b[1;33m[\u001b[0m\u001b[1;33m:\u001b[0m\u001b[1;33m-\u001b[0m\u001b[1;36m1\u001b[0m\u001b[1;33m]\u001b[0m\u001b[1;33m)\u001b[0m\u001b[1;33m\n",
       "\u001b[0m        \u001b[0mskip_channels\u001b[0m \u001b[1;33m=\u001b[0m \u001b[0mlist\u001b[0m\u001b[1;33m(\u001b[0m\u001b[0mencoder_channels\u001b[0m\u001b[1;33m[\u001b[0m\u001b[1;36m1\u001b[0m\u001b[1;33m:\u001b[0m\u001b[1;33m]\u001b[0m\u001b[1;33m)\u001b[0m \u001b[1;33m+\u001b[0m \u001b[1;33m[\u001b[0m\u001b[1;36m0\u001b[0m\u001b[1;33m]\u001b[0m\u001b[1;33m\n",
       "\u001b[0m        \u001b[0mout_channels\u001b[0m \u001b[1;33m=\u001b[0m \u001b[0mdecoder_channels\u001b[0m\u001b[1;33m\n",
       "\u001b[0m\u001b[1;33m\n",
       "\u001b[0m        \u001b[1;32mif\u001b[0m \u001b[0mcenter\u001b[0m\u001b[1;33m:\u001b[0m\u001b[1;33m\n",
       "\u001b[0m            \u001b[0mself\u001b[0m\u001b[1;33m.\u001b[0m\u001b[0mcenter\u001b[0m \u001b[1;33m=\u001b[0m \u001b[0mCenterBlock\u001b[0m\u001b[1;33m(\u001b[0m\u001b[0mhead_channels\u001b[0m\u001b[1;33m,\u001b[0m \u001b[0mhead_channels\u001b[0m\u001b[1;33m,\u001b[0m \u001b[0muse_batchnorm\u001b[0m\u001b[1;33m=\u001b[0m\u001b[0muse_batchnorm\u001b[0m\u001b[1;33m)\u001b[0m\u001b[1;33m\n",
       "\u001b[0m        \u001b[1;32melse\u001b[0m\u001b[1;33m:\u001b[0m\u001b[1;33m\n",
       "\u001b[0m            \u001b[0mself\u001b[0m\u001b[1;33m.\u001b[0m\u001b[0mcenter\u001b[0m \u001b[1;33m=\u001b[0m \u001b[0mnn\u001b[0m\u001b[1;33m.\u001b[0m\u001b[0mIdentity\u001b[0m\u001b[1;33m(\u001b[0m\u001b[1;33m)\u001b[0m\u001b[1;33m\n",
       "\u001b[0m\u001b[1;33m\n",
       "\u001b[0m        \u001b[1;31m# combine decoder keyword arguments\u001b[0m\u001b[1;33m\n",
       "\u001b[0m        \u001b[0mkwargs\u001b[0m \u001b[1;33m=\u001b[0m \u001b[0mdict\u001b[0m\u001b[1;33m(\u001b[0m\u001b[0muse_batchnorm\u001b[0m\u001b[1;33m=\u001b[0m\u001b[0muse_batchnorm\u001b[0m\u001b[1;33m,\u001b[0m \u001b[0mattention_type\u001b[0m\u001b[1;33m=\u001b[0m\u001b[0mattention_type\u001b[0m\u001b[1;33m)\u001b[0m\u001b[1;33m\n",
       "\u001b[0m        \u001b[0mblocks\u001b[0m \u001b[1;33m=\u001b[0m \u001b[1;33m[\u001b[0m\u001b[1;33m\n",
       "\u001b[0m            \u001b[0mDecoderBlock\u001b[0m\u001b[1;33m(\u001b[0m\u001b[0min_ch\u001b[0m\u001b[1;33m,\u001b[0m \u001b[0mskip_ch\u001b[0m\u001b[1;33m,\u001b[0m \u001b[0mout_ch\u001b[0m\u001b[1;33m,\u001b[0m \u001b[1;33m**\u001b[0m\u001b[0mkwargs\u001b[0m\u001b[1;33m)\u001b[0m\u001b[1;33m\n",
       "\u001b[0m            \u001b[1;32mfor\u001b[0m \u001b[0min_ch\u001b[0m\u001b[1;33m,\u001b[0m \u001b[0mskip_ch\u001b[0m\u001b[1;33m,\u001b[0m \u001b[0mout_ch\u001b[0m \u001b[1;32min\u001b[0m \u001b[0mzip\u001b[0m\u001b[1;33m(\u001b[0m\u001b[0min_channels\u001b[0m\u001b[1;33m,\u001b[0m \u001b[0mskip_channels\u001b[0m\u001b[1;33m,\u001b[0m \u001b[0mout_channels\u001b[0m\u001b[1;33m)\u001b[0m\u001b[1;33m\n",
       "\u001b[0m        \u001b[1;33m]\u001b[0m\u001b[1;33m\n",
       "\u001b[0m        \u001b[0mself\u001b[0m\u001b[1;33m.\u001b[0m\u001b[0mblocks\u001b[0m \u001b[1;33m=\u001b[0m \u001b[0mnn\u001b[0m\u001b[1;33m.\u001b[0m\u001b[0mModuleList\u001b[0m\u001b[1;33m(\u001b[0m\u001b[0mblocks\u001b[0m\u001b[1;33m)\u001b[0m\u001b[1;33m\n",
       "\u001b[0m\u001b[1;33m\n",
       "\u001b[0m    \u001b[1;32mdef\u001b[0m \u001b[0mforward\u001b[0m\u001b[1;33m(\u001b[0m\u001b[0mself\u001b[0m\u001b[1;33m,\u001b[0m \u001b[1;33m*\u001b[0m\u001b[0mfeatures\u001b[0m\u001b[1;33m)\u001b[0m\u001b[1;33m:\u001b[0m\u001b[1;33m\n",
       "\u001b[0m\u001b[1;33m\n",
       "\u001b[0m        \u001b[0mfeatures\u001b[0m \u001b[1;33m=\u001b[0m \u001b[0mfeatures\u001b[0m\u001b[1;33m[\u001b[0m\u001b[1;36m1\u001b[0m\u001b[1;33m:\u001b[0m\u001b[1;33m]\u001b[0m  \u001b[1;31m# remove first skip with same spatial resolution\u001b[0m\u001b[1;33m\n",
       "\u001b[0m        \u001b[0mfeatures\u001b[0m \u001b[1;33m=\u001b[0m \u001b[0mfeatures\u001b[0m\u001b[1;33m[\u001b[0m\u001b[1;33m:\u001b[0m\u001b[1;33m:\u001b[0m\u001b[1;33m-\u001b[0m\u001b[1;36m1\u001b[0m\u001b[1;33m]\u001b[0m  \u001b[1;31m# reverse channels to start from head of encoder\u001b[0m\u001b[1;33m\n",
       "\u001b[0m\u001b[1;33m\n",
       "\u001b[0m        \u001b[0mhead\u001b[0m \u001b[1;33m=\u001b[0m \u001b[0mfeatures\u001b[0m\u001b[1;33m[\u001b[0m\u001b[1;36m0\u001b[0m\u001b[1;33m]\u001b[0m\u001b[1;33m\n",
       "\u001b[0m        \u001b[0mskips\u001b[0m \u001b[1;33m=\u001b[0m \u001b[0mfeatures\u001b[0m\u001b[1;33m[\u001b[0m\u001b[1;36m1\u001b[0m\u001b[1;33m:\u001b[0m\u001b[1;33m]\u001b[0m\u001b[1;33m\n",
       "\u001b[0m\u001b[1;33m\n",
       "\u001b[0m        \u001b[0mx\u001b[0m \u001b[1;33m=\u001b[0m \u001b[0mself\u001b[0m\u001b[1;33m.\u001b[0m\u001b[0mcenter\u001b[0m\u001b[1;33m(\u001b[0m\u001b[0mhead\u001b[0m\u001b[1;33m)\u001b[0m\u001b[1;33m\n",
       "\u001b[0m        \u001b[1;32mfor\u001b[0m \u001b[0mi\u001b[0m\u001b[1;33m,\u001b[0m \u001b[0mdecoder_block\u001b[0m \u001b[1;32min\u001b[0m \u001b[0menumerate\u001b[0m\u001b[1;33m(\u001b[0m\u001b[0mself\u001b[0m\u001b[1;33m.\u001b[0m\u001b[0mblocks\u001b[0m\u001b[1;33m)\u001b[0m\u001b[1;33m:\u001b[0m\u001b[1;33m\n",
       "\u001b[0m            \u001b[0mskip\u001b[0m \u001b[1;33m=\u001b[0m \u001b[0mskips\u001b[0m\u001b[1;33m[\u001b[0m\u001b[0mi\u001b[0m\u001b[1;33m]\u001b[0m \u001b[1;32mif\u001b[0m \u001b[0mi\u001b[0m \u001b[1;33m<\u001b[0m \u001b[0mlen\u001b[0m\u001b[1;33m(\u001b[0m\u001b[0mskips\u001b[0m\u001b[1;33m)\u001b[0m \u001b[1;32melse\u001b[0m \u001b[1;32mNone\u001b[0m\u001b[1;33m\n",
       "\u001b[0m            \u001b[0mx\u001b[0m \u001b[1;33m=\u001b[0m \u001b[0mdecoder_block\u001b[0m\u001b[1;33m(\u001b[0m\u001b[0mx\u001b[0m\u001b[1;33m,\u001b[0m \u001b[0mskip\u001b[0m\u001b[1;33m)\u001b[0m\u001b[1;33m\n",
       "\u001b[0m\u001b[1;33m\n",
       "\u001b[0m        \u001b[1;32mreturn\u001b[0m \u001b[0mx\u001b[0m\u001b[1;33m\u001b[0m\u001b[1;33m\u001b[0m\u001b[0m\n",
       "\u001b[1;31mClass docstring:\u001b[0m\n",
       "Base class for all neural network modules.\n",
       "\n",
       "Your models should also subclass this class.\n",
       "\n",
       "Modules can also contain other Modules, allowing to nest them in\n",
       "a tree structure. You can assign the submodules as regular attributes::\n",
       "\n",
       "    import torch.nn as nn\n",
       "    import torch.nn.functional as F\n",
       "\n",
       "    class Model(nn.Module):\n",
       "        def __init__(self):\n",
       "            super().__init__()\n",
       "            self.conv1 = nn.Conv2d(1, 20, 5)\n",
       "            self.conv2 = nn.Conv2d(20, 20, 5)\n",
       "\n",
       "        def forward(self, x):\n",
       "            x = F.relu(self.conv1(x))\n",
       "            return F.relu(self.conv2(x))\n",
       "\n",
       "Submodules assigned in this way will be registered, and will have their\n",
       "parameters converted too when you call :meth:`to`, etc.\n",
       "\n",
       ".. note::\n",
       "    As per the example above, an ``__init__()`` call to the parent class\n",
       "    must be made before assignment on the child.\n",
       "\n",
       ":ivar training: Boolean represents whether this module is in training or\n",
       "                evaluation mode.\n",
       ":vartype training: bool\n",
       "\u001b[1;31mInit docstring:\u001b[0m  Initializes internal Module state, shared by both nn.Module and ScriptModule.\n"
      ]
     },
     "metadata": {},
     "output_type": "display_data"
    }
   ],
   "source": [
    "??model.decoder"
   ]
  },
  {
   "cell_type": "code",
   "execution_count": 41,
   "id": "37733618-f62e-45c3-92e6-1e593c8a58f8",
   "metadata": {
    "tags": []
   },
   "outputs": [],
   "source": [
    "out1=model(img_b.to(torch.float32))"
   ]
  },
  {
   "cell_type": "code",
   "execution_count": 81,
   "id": "5e612d8b-bc87-4bd4-83c6-3001a0aadb4b",
   "metadata": {},
   "outputs": [],
   "source": [
    "flatout=out1.flatten(start_dim=-2).to(torch.float32)"
   ]
  },
  {
   "cell_type": "code",
   "execution_count": 79,
   "id": "efd28f81-1616-4754-958d-a605ee3b44db",
   "metadata": {},
   "outputs": [],
   "source": [
    "flatmask=mask_b.flatten(start_dim=-2).to(torch.int64)"
   ]
  },
  {
   "cell_type": "code",
   "execution_count": 52,
   "id": "2d346218-be36-45e0-95ca-bc0d4d1aef40",
   "metadata": {
    "collapsed": true,
    "jupyter": {
     "outputs_hidden": true
    },
    "tags": []
   },
   "outputs": [
    {
     "ename": "IndexError",
     "evalue": "tuple index out of range",
     "output_type": "error",
     "traceback": [
      "\u001b[1;31m---------------------------------------------------------------------------\u001b[0m",
      "\u001b[1;31mIndexError\u001b[0m                                Traceback (most recent call last)",
      "\u001b[1;32m~\\AppData\\Local\\Temp\\ipykernel_23400\\3117255004.py\u001b[0m in \u001b[0;36m<module>\u001b[1;34m\u001b[0m\n\u001b[1;32m----> 1\u001b[1;33m \u001b[0mout2\u001b[0m\u001b[1;33m=\u001b[0m\u001b[0mcomp_fwd\u001b[0m\u001b[1;33m(\u001b[0m\u001b[0mmodel\u001b[0m\u001b[1;33m,\u001b[0m\u001b[0mimg_b\u001b[0m\u001b[1;33m.\u001b[0m\u001b[0mto\u001b[0m\u001b[1;33m(\u001b[0m\u001b[0mtorch\u001b[0m\u001b[1;33m.\u001b[0m\u001b[0mfloat32\u001b[0m\u001b[1;33m)\u001b[0m\u001b[1;33m)\u001b[0m\u001b[1;33m\u001b[0m\u001b[1;33m\u001b[0m\u001b[0m\n\u001b[0m",
      "\u001b[1;32m~\\AppData\\Local\\Temp\\ipykernel_23400\\4115636633.py\u001b[0m in \u001b[0;36mcomp_fwd\u001b[1;34m(model, img_b)\u001b[0m\n\u001b[0;32m      2\u001b[0m     \u001b[0mout\u001b[0m\u001b[1;33m=\u001b[0m\u001b[0mmodel\u001b[0m\u001b[1;33m.\u001b[0m\u001b[0mencoder\u001b[0m\u001b[1;33m(\u001b[0m\u001b[0mimg_b\u001b[0m\u001b[1;33m)\u001b[0m\u001b[1;33m\u001b[0m\u001b[1;33m\u001b[0m\u001b[0m\n\u001b[0;32m      3\u001b[0m \u001b[1;33m\u001b[0m\u001b[0m\n\u001b[1;32m----> 4\u001b[1;33m     \u001b[0mout\u001b[0m\u001b[1;33m=\u001b[0m\u001b[0mmodel\u001b[0m\u001b[1;33m.\u001b[0m\u001b[0mdecoder\u001b[0m\u001b[1;33m(\u001b[0m\u001b[0mout\u001b[0m\u001b[1;33m[\u001b[0m\u001b[1;33m-\u001b[0m\u001b[1;36m1\u001b[0m\u001b[1;33m]\u001b[0m\u001b[1;33m)\u001b[0m\u001b[1;33m\u001b[0m\u001b[1;33m\u001b[0m\u001b[0m\n\u001b[0m\u001b[0;32m      5\u001b[0m \u001b[1;33m\u001b[0m\u001b[0m\n\u001b[0;32m      6\u001b[0m     \u001b[0mout\u001b[0m\u001b[1;33m=\u001b[0m\u001b[0mmodel\u001b[0m\u001b[1;33m.\u001b[0m\u001b[0msegmentation_head\u001b[0m\u001b[1;33m(\u001b[0m\u001b[0mout\u001b[0m\u001b[1;33m)\u001b[0m\u001b[1;33m\u001b[0m\u001b[1;33m\u001b[0m\u001b[0m\n",
      "\u001b[1;32mD:\\Anaconda3\\envs\\fastai2022\\lib\\site-packages\\torch\\nn\\modules\\module.py\u001b[0m in \u001b[0;36m_call_impl\u001b[1;34m(self, *input, **kwargs)\u001b[0m\n\u001b[0;32m   1128\u001b[0m         if not (self._backward_hooks or self._forward_hooks or self._forward_pre_hooks or _global_backward_hooks\n\u001b[0;32m   1129\u001b[0m                 or _global_forward_hooks or _global_forward_pre_hooks):\n\u001b[1;32m-> 1130\u001b[1;33m             \u001b[1;32mreturn\u001b[0m \u001b[0mforward_call\u001b[0m\u001b[1;33m(\u001b[0m\u001b[1;33m*\u001b[0m\u001b[0minput\u001b[0m\u001b[1;33m,\u001b[0m \u001b[1;33m**\u001b[0m\u001b[0mkwargs\u001b[0m\u001b[1;33m)\u001b[0m\u001b[1;33m\u001b[0m\u001b[1;33m\u001b[0m\u001b[0m\n\u001b[0m\u001b[0;32m   1131\u001b[0m         \u001b[1;31m# Do not call functions when jit is used\u001b[0m\u001b[1;33m\u001b[0m\u001b[1;33m\u001b[0m\u001b[1;33m\u001b[0m\u001b[0m\n\u001b[0;32m   1132\u001b[0m         \u001b[0mfull_backward_hooks\u001b[0m\u001b[1;33m,\u001b[0m \u001b[0mnon_full_backward_hooks\u001b[0m \u001b[1;33m=\u001b[0m \u001b[1;33m[\u001b[0m\u001b[1;33m]\u001b[0m\u001b[1;33m,\u001b[0m \u001b[1;33m[\u001b[0m\u001b[1;33m]\u001b[0m\u001b[1;33m\u001b[0m\u001b[1;33m\u001b[0m\u001b[0m\n",
      "\u001b[1;32mD:\\Anaconda3\\envs\\fastai2022\\lib\\site-packages\\segmentation_models_pytorch\\decoders\\unet\\decoder.py\u001b[0m in \u001b[0;36mforward\u001b[1;34m(self, *features)\u001b[0m\n\u001b[0;32m    111\u001b[0m         \u001b[0mfeatures\u001b[0m \u001b[1;33m=\u001b[0m \u001b[0mfeatures\u001b[0m\u001b[1;33m[\u001b[0m\u001b[1;33m:\u001b[0m\u001b[1;33m:\u001b[0m\u001b[1;33m-\u001b[0m\u001b[1;36m1\u001b[0m\u001b[1;33m]\u001b[0m  \u001b[1;31m# reverse channels to start from head of encoder\u001b[0m\u001b[1;33m\u001b[0m\u001b[1;33m\u001b[0m\u001b[0m\n\u001b[0;32m    112\u001b[0m \u001b[1;33m\u001b[0m\u001b[0m\n\u001b[1;32m--> 113\u001b[1;33m         \u001b[0mhead\u001b[0m \u001b[1;33m=\u001b[0m \u001b[0mfeatures\u001b[0m\u001b[1;33m[\u001b[0m\u001b[1;36m0\u001b[0m\u001b[1;33m]\u001b[0m\u001b[1;33m\u001b[0m\u001b[1;33m\u001b[0m\u001b[0m\n\u001b[0m\u001b[0;32m    114\u001b[0m         \u001b[0mskips\u001b[0m \u001b[1;33m=\u001b[0m \u001b[0mfeatures\u001b[0m\u001b[1;33m[\u001b[0m\u001b[1;36m1\u001b[0m\u001b[1;33m:\u001b[0m\u001b[1;33m]\u001b[0m\u001b[1;33m\u001b[0m\u001b[1;33m\u001b[0m\u001b[0m\n\u001b[0;32m    115\u001b[0m \u001b[1;33m\u001b[0m\u001b[0m\n",
      "\u001b[1;31mIndexError\u001b[0m: tuple index out of range"
     ]
    }
   ],
   "source": [
    "out2=comp_fwd(model,img_b.to(torch.float32))"
   ]
  },
  {
   "cell_type": "code",
   "execution_count": 68,
   "id": "cad83532-aa8b-4ce0-a871-17f803b99a77",
   "metadata": {},
   "outputs": [],
   "source": [
    "import torch.nn.functional as F"
   ]
  },
  {
   "cell_type": "code",
   "execution_count": 82,
   "id": "b2430183-3cb5-4f37-8190-c1b6a3076860",
   "metadata": {},
   "outputs": [
    {
     "data": {
      "text/plain": [
       "tensor(0.6239, grad_fn=<NllLoss2DBackward0>)"
      ]
     },
     "execution_count": 82,
     "metadata": {},
     "output_type": "execute_result"
    }
   ],
   "source": [
    "F.cross_entropy(flatout,flatmask)"
   ]
  },
  {
   "cell_type": "code",
   "execution_count": null,
   "id": "36385acb-05e2-412b-a8fd-281c69602769",
   "metadata": {},
   "outputs": [],
   "source": []
  },
  {
   "cell_type": "code",
   "execution_count": 36,
   "id": "2b7f65f7-0d23-4136-a5dc-7c1c32952973",
   "metadata": {},
   "outputs": [],
   "source": [
    "import torchvision.models as models"
   ]
  },
  {
   "cell_type": "code",
   "execution_count": 37,
   "id": "d36fed09-286a-49eb-ae75-d6ab55868636",
   "metadata": {},
   "outputs": [
    {
     "name": "stderr",
     "output_type": "stream",
     "text": [
      "D:\\Anaconda3\\envs\\fastai2022\\lib\\site-packages\\torchvision\\models\\_utils.py:209: UserWarning: The parameter 'pretrained' is deprecated since 0.13 and will be removed in 0.15, please use 'weights' instead.\n",
      "  f\"The parameter '{pretrained_param}' is deprecated since 0.13 and will be removed in 0.15, \"\n",
      "D:\\Anaconda3\\envs\\fastai2022\\lib\\site-packages\\torchvision\\models\\_utils.py:223: UserWarning: Arguments other than a weight enum or `None` for 'weights' are deprecated since 0.13 and will be removed in 0.15. The current behavior is equivalent to passing `weights=ResNet34_Weights.IMAGENET1K_V1`. You can also use `weights=ResNet34_Weights.DEFAULT` to get the most up-to-date weights.\n",
      "  warnings.warn(msg)\n"
     ]
    }
   ],
   "source": [
    "# Load the pre-trained ResNet-34 model\n",
    "resnet34 = models.resnet34(pretrained=True)\n",
    "\n",
    "\n"
   ]
  },
  {
   "cell_type": "code",
   "execution_count": 40,
   "id": "3d97532b-fb24-4627-a6b2-205c88e9dc36",
   "metadata": {},
   "outputs": [
    {
     "data": {
      "text/plain": [
       "tensor([[-1.2855,  0.4946, -1.9875,  ..., -0.8196,  0.6212,  0.8760],\n",
       "        [-1.0120,  2.2275, -1.7334,  ..., -0.7448, -0.0830,  0.7978],\n",
       "        [-0.5925,  0.2857,  1.9531,  ...,  0.7362,  5.9377, -0.4845],\n",
       "        ...,\n",
       "        [ 0.1140, -0.3541,  1.2884,  ..., -4.2964, -1.6145,  5.6334],\n",
       "        [ 0.0620,  1.0166, -1.6989,  ..., -0.9611, -0.4841,  2.4543],\n",
       "        [-1.5942, -0.9257, -0.4390,  ...,  0.5701,  0.4988,  0.3483]],\n",
       "       grad_fn=<AddmmBackward0>)"
      ]
     },
     "execution_count": 40,
     "metadata": {},
     "output_type": "execute_result"
    }
   ],
   "source": [
    "resnet34(img_b.to(torch.float32))"
   ]
  },
  {
   "cell_type": "code",
   "execution_count": 39,
   "id": "e640b960-a2d9-48c1-ad42-8a3df8704c6c",
   "metadata": {},
   "outputs": [
    {
     "data": {
      "text/plain": [
       "torch.uint8"
      ]
     },
     "execution_count": 39,
     "metadata": {},
     "output_type": "execute_result"
    }
   ],
   "source": [
    "img_b.dtype"
   ]
  },
  {
   "cell_type": "code",
   "execution_count": 35,
   "id": "d04a36b8-2771-4453-9f9f-ebeed61a226b",
   "metadata": {
    "collapsed": true,
    "jupyter": {
     "outputs_hidden": true
    },
    "tags": []
   },
   "outputs": [
    {
     "ename": "RuntimeError",
     "evalue": "expected scalar type Int but found Float",
     "output_type": "error",
     "traceback": [
      "\u001b[1;31m---------------------------------------------------------------------------\u001b[0m",
      "\u001b[1;31mRuntimeError\u001b[0m                              Traceback (most recent call last)",
      "\u001b[1;32m~\\AppData\\Local\\Temp\\ipykernel_23400\\3888367010.py\u001b[0m in \u001b[0;36m<module>\u001b[1;34m\u001b[0m\n\u001b[1;32m----> 1\u001b[1;33m \u001b[0mmodel\u001b[0m\u001b[1;33m.\u001b[0m\u001b[0mencoder\u001b[0m\u001b[1;33m(\u001b[0m\u001b[0mimg_b\u001b[0m\u001b[1;33m.\u001b[0m\u001b[0mto\u001b[0m\u001b[1;33m(\u001b[0m\u001b[0mtorch\u001b[0m\u001b[1;33m.\u001b[0m\u001b[0mint32\u001b[0m\u001b[1;33m)\u001b[0m\u001b[1;33m)\u001b[0m\u001b[1;33m\u001b[0m\u001b[1;33m\u001b[0m\u001b[0m\n\u001b[0m",
      "\u001b[1;32mD:\\Anaconda3\\envs\\fastai2022\\lib\\site-packages\\torch\\nn\\modules\\module.py\u001b[0m in \u001b[0;36m_call_impl\u001b[1;34m(self, *input, **kwargs)\u001b[0m\n\u001b[0;32m   1128\u001b[0m         if not (self._backward_hooks or self._forward_hooks or self._forward_pre_hooks or _global_backward_hooks\n\u001b[0;32m   1129\u001b[0m                 or _global_forward_hooks or _global_forward_pre_hooks):\n\u001b[1;32m-> 1130\u001b[1;33m             \u001b[1;32mreturn\u001b[0m \u001b[0mforward_call\u001b[0m\u001b[1;33m(\u001b[0m\u001b[1;33m*\u001b[0m\u001b[0minput\u001b[0m\u001b[1;33m,\u001b[0m \u001b[1;33m**\u001b[0m\u001b[0mkwargs\u001b[0m\u001b[1;33m)\u001b[0m\u001b[1;33m\u001b[0m\u001b[1;33m\u001b[0m\u001b[0m\n\u001b[0m\u001b[0;32m   1131\u001b[0m         \u001b[1;31m# Do not call functions when jit is used\u001b[0m\u001b[1;33m\u001b[0m\u001b[1;33m\u001b[0m\u001b[1;33m\u001b[0m\u001b[0m\n\u001b[0;32m   1132\u001b[0m         \u001b[0mfull_backward_hooks\u001b[0m\u001b[1;33m,\u001b[0m \u001b[0mnon_full_backward_hooks\u001b[0m \u001b[1;33m=\u001b[0m \u001b[1;33m[\u001b[0m\u001b[1;33m]\u001b[0m\u001b[1;33m,\u001b[0m \u001b[1;33m[\u001b[0m\u001b[1;33m]\u001b[0m\u001b[1;33m\u001b[0m\u001b[1;33m\u001b[0m\u001b[0m\n",
      "\u001b[1;32mD:\\Anaconda3\\envs\\fastai2022\\lib\\site-packages\\segmentation_models_pytorch\\encoders\\resnet.py\u001b[0m in \u001b[0;36mforward\u001b[1;34m(self, x)\u001b[0m\n\u001b[0;32m     60\u001b[0m         \u001b[0mfeatures\u001b[0m \u001b[1;33m=\u001b[0m \u001b[1;33m[\u001b[0m\u001b[1;33m]\u001b[0m\u001b[1;33m\u001b[0m\u001b[1;33m\u001b[0m\u001b[0m\n\u001b[0;32m     61\u001b[0m         \u001b[1;32mfor\u001b[0m \u001b[0mi\u001b[0m \u001b[1;32min\u001b[0m \u001b[0mrange\u001b[0m\u001b[1;33m(\u001b[0m\u001b[0mself\u001b[0m\u001b[1;33m.\u001b[0m\u001b[0m_depth\u001b[0m \u001b[1;33m+\u001b[0m \u001b[1;36m1\u001b[0m\u001b[1;33m)\u001b[0m\u001b[1;33m:\u001b[0m\u001b[1;33m\u001b[0m\u001b[1;33m\u001b[0m\u001b[0m\n\u001b[1;32m---> 62\u001b[1;33m             \u001b[0mx\u001b[0m \u001b[1;33m=\u001b[0m \u001b[0mstages\u001b[0m\u001b[1;33m[\u001b[0m\u001b[0mi\u001b[0m\u001b[1;33m]\u001b[0m\u001b[1;33m(\u001b[0m\u001b[0mx\u001b[0m\u001b[1;33m)\u001b[0m\u001b[1;33m\u001b[0m\u001b[1;33m\u001b[0m\u001b[0m\n\u001b[0m\u001b[0;32m     63\u001b[0m             \u001b[0mfeatures\u001b[0m\u001b[1;33m.\u001b[0m\u001b[0mappend\u001b[0m\u001b[1;33m(\u001b[0m\u001b[0mx\u001b[0m\u001b[1;33m)\u001b[0m\u001b[1;33m\u001b[0m\u001b[1;33m\u001b[0m\u001b[0m\n\u001b[0;32m     64\u001b[0m \u001b[1;33m\u001b[0m\u001b[0m\n",
      "\u001b[1;32mD:\\Anaconda3\\envs\\fastai2022\\lib\\site-packages\\torch\\nn\\modules\\module.py\u001b[0m in \u001b[0;36m_call_impl\u001b[1;34m(self, *input, **kwargs)\u001b[0m\n\u001b[0;32m   1128\u001b[0m         if not (self._backward_hooks or self._forward_hooks or self._forward_pre_hooks or _global_backward_hooks\n\u001b[0;32m   1129\u001b[0m                 or _global_forward_hooks or _global_forward_pre_hooks):\n\u001b[1;32m-> 1130\u001b[1;33m             \u001b[1;32mreturn\u001b[0m \u001b[0mforward_call\u001b[0m\u001b[1;33m(\u001b[0m\u001b[1;33m*\u001b[0m\u001b[0minput\u001b[0m\u001b[1;33m,\u001b[0m \u001b[1;33m**\u001b[0m\u001b[0mkwargs\u001b[0m\u001b[1;33m)\u001b[0m\u001b[1;33m\u001b[0m\u001b[1;33m\u001b[0m\u001b[0m\n\u001b[0m\u001b[0;32m   1131\u001b[0m         \u001b[1;31m# Do not call functions when jit is used\u001b[0m\u001b[1;33m\u001b[0m\u001b[1;33m\u001b[0m\u001b[1;33m\u001b[0m\u001b[0m\n\u001b[0;32m   1132\u001b[0m         \u001b[0mfull_backward_hooks\u001b[0m\u001b[1;33m,\u001b[0m \u001b[0mnon_full_backward_hooks\u001b[0m \u001b[1;33m=\u001b[0m \u001b[1;33m[\u001b[0m\u001b[1;33m]\u001b[0m\u001b[1;33m,\u001b[0m \u001b[1;33m[\u001b[0m\u001b[1;33m]\u001b[0m\u001b[1;33m\u001b[0m\u001b[1;33m\u001b[0m\u001b[0m\n",
      "\u001b[1;32mD:\\Anaconda3\\envs\\fastai2022\\lib\\site-packages\\torch\\nn\\modules\\container.py\u001b[0m in \u001b[0;36mforward\u001b[1;34m(self, input)\u001b[0m\n\u001b[0;32m    137\u001b[0m     \u001b[1;32mdef\u001b[0m \u001b[0mforward\u001b[0m\u001b[1;33m(\u001b[0m\u001b[0mself\u001b[0m\u001b[1;33m,\u001b[0m \u001b[0minput\u001b[0m\u001b[1;33m)\u001b[0m\u001b[1;33m:\u001b[0m\u001b[1;33m\u001b[0m\u001b[1;33m\u001b[0m\u001b[0m\n\u001b[0;32m    138\u001b[0m         \u001b[1;32mfor\u001b[0m \u001b[0mmodule\u001b[0m \u001b[1;32min\u001b[0m \u001b[0mself\u001b[0m\u001b[1;33m:\u001b[0m\u001b[1;33m\u001b[0m\u001b[1;33m\u001b[0m\u001b[0m\n\u001b[1;32m--> 139\u001b[1;33m             \u001b[0minput\u001b[0m \u001b[1;33m=\u001b[0m \u001b[0mmodule\u001b[0m\u001b[1;33m(\u001b[0m\u001b[0minput\u001b[0m\u001b[1;33m)\u001b[0m\u001b[1;33m\u001b[0m\u001b[1;33m\u001b[0m\u001b[0m\n\u001b[0m\u001b[0;32m    140\u001b[0m         \u001b[1;32mreturn\u001b[0m \u001b[0minput\u001b[0m\u001b[1;33m\u001b[0m\u001b[1;33m\u001b[0m\u001b[0m\n\u001b[0;32m    141\u001b[0m \u001b[1;33m\u001b[0m\u001b[0m\n",
      "\u001b[1;32mD:\\Anaconda3\\envs\\fastai2022\\lib\\site-packages\\torch\\nn\\modules\\module.py\u001b[0m in \u001b[0;36m_call_impl\u001b[1;34m(self, *input, **kwargs)\u001b[0m\n\u001b[0;32m   1128\u001b[0m         if not (self._backward_hooks or self._forward_hooks or self._forward_pre_hooks or _global_backward_hooks\n\u001b[0;32m   1129\u001b[0m                 or _global_forward_hooks or _global_forward_pre_hooks):\n\u001b[1;32m-> 1130\u001b[1;33m             \u001b[1;32mreturn\u001b[0m \u001b[0mforward_call\u001b[0m\u001b[1;33m(\u001b[0m\u001b[1;33m*\u001b[0m\u001b[0minput\u001b[0m\u001b[1;33m,\u001b[0m \u001b[1;33m**\u001b[0m\u001b[0mkwargs\u001b[0m\u001b[1;33m)\u001b[0m\u001b[1;33m\u001b[0m\u001b[1;33m\u001b[0m\u001b[0m\n\u001b[0m\u001b[0;32m   1131\u001b[0m         \u001b[1;31m# Do not call functions when jit is used\u001b[0m\u001b[1;33m\u001b[0m\u001b[1;33m\u001b[0m\u001b[1;33m\u001b[0m\u001b[0m\n\u001b[0;32m   1132\u001b[0m         \u001b[0mfull_backward_hooks\u001b[0m\u001b[1;33m,\u001b[0m \u001b[0mnon_full_backward_hooks\u001b[0m \u001b[1;33m=\u001b[0m \u001b[1;33m[\u001b[0m\u001b[1;33m]\u001b[0m\u001b[1;33m,\u001b[0m \u001b[1;33m[\u001b[0m\u001b[1;33m]\u001b[0m\u001b[1;33m\u001b[0m\u001b[1;33m\u001b[0m\u001b[0m\n",
      "\u001b[1;32mD:\\Anaconda3\\envs\\fastai2022\\lib\\site-packages\\torch\\nn\\modules\\conv.py\u001b[0m in \u001b[0;36mforward\u001b[1;34m(self, input)\u001b[0m\n\u001b[0;32m    455\u001b[0m \u001b[1;33m\u001b[0m\u001b[0m\n\u001b[0;32m    456\u001b[0m     \u001b[1;32mdef\u001b[0m \u001b[0mforward\u001b[0m\u001b[1;33m(\u001b[0m\u001b[0mself\u001b[0m\u001b[1;33m,\u001b[0m \u001b[0minput\u001b[0m\u001b[1;33m:\u001b[0m \u001b[0mTensor\u001b[0m\u001b[1;33m)\u001b[0m \u001b[1;33m->\u001b[0m \u001b[0mTensor\u001b[0m\u001b[1;33m:\u001b[0m\u001b[1;33m\u001b[0m\u001b[1;33m\u001b[0m\u001b[0m\n\u001b[1;32m--> 457\u001b[1;33m         \u001b[1;32mreturn\u001b[0m \u001b[0mself\u001b[0m\u001b[1;33m.\u001b[0m\u001b[0m_conv_forward\u001b[0m\u001b[1;33m(\u001b[0m\u001b[0minput\u001b[0m\u001b[1;33m,\u001b[0m \u001b[0mself\u001b[0m\u001b[1;33m.\u001b[0m\u001b[0mweight\u001b[0m\u001b[1;33m,\u001b[0m \u001b[0mself\u001b[0m\u001b[1;33m.\u001b[0m\u001b[0mbias\u001b[0m\u001b[1;33m)\u001b[0m\u001b[1;33m\u001b[0m\u001b[1;33m\u001b[0m\u001b[0m\n\u001b[0m\u001b[0;32m    458\u001b[0m \u001b[1;33m\u001b[0m\u001b[0m\n\u001b[0;32m    459\u001b[0m \u001b[1;32mclass\u001b[0m \u001b[0mConv3d\u001b[0m\u001b[1;33m(\u001b[0m\u001b[0m_ConvNd\u001b[0m\u001b[1;33m)\u001b[0m\u001b[1;33m:\u001b[0m\u001b[1;33m\u001b[0m\u001b[1;33m\u001b[0m\u001b[0m\n",
      "\u001b[1;32mD:\\Anaconda3\\envs\\fastai2022\\lib\\site-packages\\torch\\nn\\modules\\conv.py\u001b[0m in \u001b[0;36m_conv_forward\u001b[1;34m(self, input, weight, bias)\u001b[0m\n\u001b[0;32m    452\u001b[0m                             _pair(0), self.dilation, self.groups)\n\u001b[0;32m    453\u001b[0m         return F.conv2d(input, weight, bias, self.stride,\n\u001b[1;32m--> 454\u001b[1;33m                         self.padding, self.dilation, self.groups)\n\u001b[0m\u001b[0;32m    455\u001b[0m \u001b[1;33m\u001b[0m\u001b[0m\n\u001b[0;32m    456\u001b[0m     \u001b[1;32mdef\u001b[0m \u001b[0mforward\u001b[0m\u001b[1;33m(\u001b[0m\u001b[0mself\u001b[0m\u001b[1;33m,\u001b[0m \u001b[0minput\u001b[0m\u001b[1;33m:\u001b[0m \u001b[0mTensor\u001b[0m\u001b[1;33m)\u001b[0m \u001b[1;33m->\u001b[0m \u001b[0mTensor\u001b[0m\u001b[1;33m:\u001b[0m\u001b[1;33m\u001b[0m\u001b[1;33m\u001b[0m\u001b[0m\n",
      "\u001b[1;31mRuntimeError\u001b[0m: expected scalar type Int but found Float"
     ]
    }
   ],
   "source": [
    "model.encoder(img_b.to(torch.int32))"
   ]
  },
  {
   "cell_type": "code",
   "execution_count": 24,
   "id": "9539135b-b327-4435-bdf1-89fdec7691c9",
   "metadata": {},
   "outputs": [
    {
     "name": "stdout",
     "output_type": "stream",
     "text": [
      "torch.Size([2, 16, 3, 3])\n",
      "torch.Size([2])\n"
     ]
    }
   ],
   "source": [
    "for param in model.segmentation_head.parameters():\n",
    "    print(param.shape)"
   ]
  },
  {
   "cell_type": "code",
   "execution_count": 93,
   "id": "1999379e-c5d1-4368-93bb-9e732781bd9d",
   "metadata": {
    "tags": []
   },
   "outputs": [
    {
     "name": "stderr",
     "output_type": "stream",
     "text": [
      "D:\\Anaconda3\\envs\\fastai2022\\lib\\site-packages\\ipykernel_launcher.py:45: UserWarning: __floordiv__ is deprecated, and its behavior will change in a future version of pytorch. It currently rounds toward 0 (like the 'trunc' function NOT 'floor'). This results in incorrect rounding for negative values. To keep the current behavior, use torch.div(a, b, rounding_mode='trunc'), or for actual floor division, use torch.div(a, b, rounding_mode='floor').\n"
     ]
    }
   ],
   "source": [
    "img,mask,zoom=ds[2]"
   ]
  },
  {
   "cell_type": "code",
   "execution_count": 39,
   "id": "1baac927-5fc9-465c-acc0-c7c21790047a",
   "metadata": {},
   "outputs": [
    {
     "data": {
      "text/plain": [
       "<class 'shapely.geometry.polygon.Polygon'>    565\n",
       "Name: polygon, dtype: int64"
      ]
     },
     "execution_count": 39,
     "metadata": {},
     "output_type": "execute_result"
    }
   ],
   "source": [
    "anno_df['polygon'].apply(lambda x:x.__class__).value_counts()"
   ]
  },
  {
   "cell_type": "code",
   "execution_count": 39,
   "id": "efe7dd0d-2680-4138-9fd9-a0bb659987b3",
   "metadata": {
    "collapsed": true,
    "jupyter": {
     "outputs_hidden": true
    },
    "tags": []
   },
   "outputs": [
    {
     "name": "stdout",
     "output_type": "stream",
     "text": [
      "         151770 function calls (148542 primitive calls) in 1.318 seconds\n",
      "\n",
      "   Ordered by: cumulative time\n",
      "\n",
      "   ncalls  tottime  percall  cumtime  percall filename:lineno(function)\n",
      "        2    0.000    0.000    1.318    0.659 interactiveshell.py:3416(run_code)\n",
      "        2    0.000    0.000    1.318    0.659 {built-in method builtins.exec}\n",
      "        1    0.000    0.000    1.318    1.318 1944386479.py:13(<module>)\n",
      "     23/5    0.000    0.000    1.317    0.263 {built-in method builtins.next}\n",
      "        1    0.000    0.000    1.317    1.317 dataloader.py:676(__next__)\n",
      "        1    0.000    0.000    1.317    1.317 dataloader.py:719(_next_data)\n",
      "        1    0.000    0.000    1.317    1.317 fetch.py:47(fetch)\n",
      "        1    0.001    0.001    1.315    1.315 fetch.py:49(<listcomp>)\n",
      "       16    0.001    0.000    1.315    0.082 wsi_datasets.py:223(__getitem__)\n",
      "       16    0.000    0.000    0.703    0.044 wsi_datasets.py:216(read_slide_region)\n",
      "       16    0.000    0.000    0.703    0.044 __init__.py:226(read_region)\n",
      "       16    0.701    0.044    0.703    0.044 lowlevel.py:300(read_region)\n",
      "       16    0.000    0.000    0.493    0.031 groupby.py:1241(apply)\n",
      "       16    0.000    0.000    0.492    0.031 groupby.py:1290(_python_apply_general)\n",
      "       16    0.000    0.000    0.479    0.030 ops.py:787(apply)\n",
      "       16    0.000    0.000    0.468    0.029 ops.py:1357(fast_apply)\n",
      "       16    0.001    0.000    0.468    0.029 {pandas._libs.reduction.apply_frame_axis0}\n",
      "       16    0.016    0.001    0.465    0.029 wsi_datasets.py:165(get_mask_per_class)\n",
      "      641    0.001    0.000    0.228    0.000 base.py:691(intersection)\n",
      "      641    0.211    0.000    0.212    0.000 topology.py:66(__call__)\n",
      "      651    0.001    0.000    0.143    0.000 base.py:487(convex_hull)\n",
      "      651    0.128    0.000    0.129    0.000 topology.py:79(__call__)\n",
      "       16    0.073    0.005    0.073    0.005 __init__.py:162(__init__)\n",
      "      715    0.007    0.000    0.034    0.000 {built-in method numpy.array}\n",
      "     1292    0.007    0.000    0.028    0.000 base.py:70(geom_factory)\n",
      "      651    0.007    0.000    0.025    0.000 coords.py:145(array_interface)\n",
      "21701/19721    0.018    0.000    0.020    0.000 base.py:245(__setattr__)\n",
      "       96    0.001    0.000    0.016    0.000 series.py:315(__init__)\n",
      "       16    0.007    0.000    0.014    0.001 wsi_datasets.py:104(get_random_crop)\n",
      "     1953    0.004    0.000    0.013    0.000 coords.py:43(_update)\n",
      "       96    0.001    0.000    0.013    0.000 frame.py:3418(__getitem__)\n",
      "     3958    0.006    0.000    0.013    0.000 base.py:191(_empty)\n",
      "       16    0.000    0.000    0.013    0.001 generic.py:1143(_wrap_applied_output)\n",
      "      651    0.004    0.000    0.013    0.000 polygon.py:269(exterior)\n",
      "     1302    0.004    0.000    0.012    0.000 coords.py:51(__len__)\n",
      "     1886    0.002    0.000    0.012    0.000 base.py:801(intersects)\n",
      "     2613    0.004    0.000    0.012    0.000 base.py:713(is_empty)\n",
      "1979/1319    0.002    0.000    0.011    0.000 base.py:208(__del__)\n",
      "     1979    0.002    0.000    0.010    0.000 base.py:240(_set_geom)\n",
      "       48    0.000    0.000    0.010    0.000 construction.py:463(sanitize_array)\n",
      "     1886    0.006    0.000    0.010    0.000 predicates.py:11(__call__)\n",
      "       16    0.000    0.000    0.009    0.001 cast.py:111(maybe_convert_platform)\n",
      "       16    0.002    0.000    0.008    0.001 cast.py:1969(construct_1d_object_array_from_listlike)\n",
      "       32    0.000    0.000    0.008    0.000 generic.py:3521(take)\n",
      "      715    0.008    0.000    0.008    0.000 {method 'astype' of 'numpy.ndarray' objects}\n",
      "3252/2718    0.001    0.000    0.007    0.000 {built-in method builtins.len}\n",
      "     2613    0.005    0.000    0.007    0.000 predicates.py:23(__call__)\n",
      "       32    0.000    0.000    0.007    0.000 managers.py:840(take)\n",
      "       32    0.000    0.000    0.007    0.000 _tensor.py:753(__array__)\n",
      "       32    0.000    0.000    0.006    0.000 indexing.py:918(__getitem__)\n",
      "       16    0.000    0.000    0.006    0.000 frame.py:3483(_getitem_bool_array)\n",
      "       32    0.000    0.000    0.006    0.000 indexing.py:1535(_getitem_axis)\n",
      "     8318    0.004    0.000    0.006    0.000 topology.py:18(_validate)\n",
      "       16    0.000    0.000    0.005    0.000 frame.py:7515(groupby)\n",
      "       16    0.000    0.000    0.005    0.000 ops.py:756(_get_splitter)\n",
      "       16    0.000    0.000    0.005    0.000 ops.py:909(group_info)\n",
      "       16    0.000    0.000    0.005    0.000 ops.py:928(_get_compressed_codes)\n",
      "       16    0.000    0.000    0.005    0.000 groupby.py:846(__init__)\n",
      "       64    0.000    0.000    0.005    0.000 frame.py:3876(_get_item_cache)\n",
      "       16    0.000    0.000    0.005    0.000 grouper.py:680(get_grouper)\n",
      "       16    0.000    0.000    0.005    0.000 frame.py:3366(_ixs)\n",
      "       32    0.000    0.000    0.005    0.000 managers.py:629(reindex_indexer)\n",
      "       16    0.000    0.000    0.005    0.000 generic.py:3620(_take_with_is_copy)\n",
      "       16    0.000    0.000    0.005    0.000 common.py:54(new_method)\n",
      "       32    0.000    0.000    0.004    0.000 managers.py:681(<listcomp>)\n",
      "       16    0.000    0.000    0.004    0.000 arraylike.py:30(__eq__)\n",
      "     1292    0.002    0.000    0.004    0.000 {built-in method builtins.__import__}\n",
      "       16    0.000    0.000    0.004    0.000 series.py:5492(_cmp_method)\n",
      "       16    0.000    0.000    0.004    0.000 ops.py:1334(sorted_data)\n",
      "       96    0.000    0.000    0.004    0.000 blocks.py:1121(take_nd)\n",
      "       16    0.000    0.000    0.003    0.000 grouper.py:606(codes)\n",
      "       16    0.000    0.000    0.003    0.000 grouper.py:639(_codes_and_uniques)\n",
      "      112    0.000    0.000    0.003    0.000 take.py:54(take_nd)\n",
      "       16    0.000    0.000    0.003    0.000 algorithms.py:571(factorize)\n",
      "     9250    0.002    0.000    0.003    0.000 {built-in method builtins.isinstance}\n",
      "      112    0.003    0.000    0.003    0.000 {built-in method torch.tensor}\n",
      "      112    0.001    0.000    0.003    0.000 take.py:111(_take_nd_ndarray)\n",
      "    21871    0.003    0.000    0.003    0.000 base.py:228(_geom)\n",
      "       16    0.003    0.000    0.003    0.000 {fillPoly}\n",
      "     1292    0.003    0.000    0.003    0.000 base.py:64(geometry_type_name)\n",
      "     1420    0.002    0.000    0.003    0.000 <frozen importlib._bootstrap>:1009(_handle_fromlist)\n",
      "       19    0.002    0.000    0.002    0.000 {built-in method torch.stack}\n",
      "       16    0.000    0.000    0.002    0.000 managers.py:939(fast_xs)\n",
      "       48    0.000    0.000    0.002    0.000 managers.py:977(iget)\n",
      "       16    0.000    0.000    0.002    0.000 series.py:2916(_construct_result)\n",
      "       32    0.002    0.000    0.002    0.000 {method 'max' of 'torch._C._TensorBase' objects}\n",
      "       32    0.001    0.000    0.002    0.000 managers.py:224(_rebuild_blknos_and_blklocs)\n",
      "      4/1    0.000    0.000    0.002    0.002 collate.py:84(default_collate)\n",
      "       48    0.000    0.000    0.002    0.000 managers.py:1569(from_array)\n",
      "       16    0.000    0.000    0.002    0.000 Image.py:674(__array_interface__)\n",
      "       16    0.000    0.000    0.002    0.000 lowlevel.py:186(_load_image)\n",
      "        1    0.000    0.000    0.002    0.002 collate.py:175(<listcomp>)\n",
      "       16    0.000    0.000    0.002    0.000 grouper.py:631(group_index)\n",
      "       16    0.000    0.000    0.002    0.000 base.py:145(interleaved_dtype)\n",
      "       16    0.000    0.000    0.002    0.000 base.py:375(__new__)\n",
      "       16    0.000    0.000    0.002    0.000 algorithms.py:527(factorize_array)\n",
      "       16    0.000    0.000    0.002    0.000 cast.py:1790(find_common_type)\n",
      "      288    0.001    0.000    0.002    0.000 generic.py:5489(__setattr__)\n",
      "     5791    0.002    0.000    0.002    0.000 impl.py:56(__getitem__)\n",
      "       16    0.000    0.000    0.002    0.000 Image.py:717(tobytes)\n",
      "       48    0.000    0.000    0.001    0.000 blocks.py:1931(new_block)\n",
      "      112    0.000    0.000    0.001    0.000 series.py:928(__getitem__)\n",
      "       16    0.000    0.000    0.001    0.000 array_ops.py:229(comparison_op)\n",
      "      304    0.000    0.000    0.001    0.000 managers.py:158(blknos)\n",
      "       96    0.000    0.000    0.001    0.000 {built-in method builtins.any}\n",
      "       48    0.000    0.000    0.001    0.000 frame.py:3860(_box_col_values)\n",
      "     1292    0.001    0.000    0.001    0.000 {built-in method builtins.locals}\n",
      "       32    0.001    0.000    0.001    0.000 {pandas._libs.lib.maybe_convert_objects}\n",
      "     5640    0.001    0.000    0.001    0.000 {built-in method builtins.hasattr}\n",
      "       36    0.000    0.000    0.001    0.000 polygon.py:238(__init__)\n",
      "      112    0.000    0.000    0.001    0.000 series.py:1034(_get_value)\n",
      "       16    0.001    0.000    0.001    0.000 {built-in method openslide._convert.argb2rgba}\n",
      "       16    0.000    0.000    0.001    0.000 array_ops.py:58(comp_method_OBJECT_ARRAY)\n",
      "     5791    0.001    0.000    0.001    0.000 geos.py:606(errcheck_predicate)\n",
      "      112    0.001    0.000    0.001    0.000 generic.py:5435(__finalize__)\n",
      "       32    0.001    0.000    0.001    0.000 {pandas._libs.algos.take_2d_axis1_object_object}\n",
      "       32    0.000    0.000    0.001    0.000 indexers.py:249(maybe_convert_indices)\n",
      "      160    0.001    0.000    0.001    0.000 {method 'reduce' of 'numpy.ufunc' objects}\n",
      "       32    0.001    0.000    0.001    0.000 {method 'all' of 'torch._C._TensorBase' objects}\n",
      "       16    0.000    0.000    0.001    0.000 indexing.py:2357(check_bool_indexer)\n",
      "       16    0.000    0.000    0.001    0.000 polygon.py:530(geos_polygon_from_py)\n",
      "       16    0.000    0.000    0.001    0.000 algorithms.py:291(get_data_algo)\n",
      "       32    0.001    0.000    0.001    0.000 {method 'flatten' of 'torch._C._TensorBase' objects}\n",
      "       16    0.001    0.000    0.001    0.000 {pandas._libs.ops.scalar_compare}\n",
      "       96    0.000    0.000    0.001    0.000 blocks.py:1858(maybe_coerce_values)\n",
      "      256    0.000    0.000    0.001    0.000 ops.py:795(<genexpr>)\n",
      "       16    0.000    0.000    0.001    0.000 ops.py:961(result_index)\n",
      "      160    0.000    0.000    0.001    0.000 base.py:3317(get_loc)\n",
      "      128    0.000    0.000    0.001    0.000 {method 'any' of 'numpy.ndarray' objects}\n",
      "       48    0.000    0.000    0.001    0.000 wsi_datasets.py:110(<genexpr>)\n",
      "     1488    0.001    0.000    0.001    0.000 generic.py:43(_check)\n",
      "      304    0.000    0.000    0.001    0.000 managers.py:174(blklocs)\n",
      "      208    0.000    0.000    0.001    0.000 construction.py:369(extract_array)\n",
      "       64    0.000    0.000    0.001    0.000 config.py:114(_get_option)\n",
      "       16    0.000    0.000    0.001    0.000 algorithms.py:1727(safe_sort)\n",
      "       16    0.000    0.000    0.001    0.000 base.py:6397(_maybe_cast_data_without_dtype)\n",
      "       64    0.001    0.000    0.001    0.000 {method 'encode' of 'ImagingEncoder' objects}\n",
      "      144    0.001    0.000    0.001    0.000 generic.py:233(__init__)\n",
      "       16    0.000    0.000    0.001    0.000 numerictypes.py:599(find_common_type)\n",
      "      112    0.000    0.000    0.001    0.000 take.py:517(_take_preprocess_indexer_and_fill_value)\n",
      "      256    0.000    0.000    0.001    0.000 frame.py:3410(_iter_column_arrays)\n",
      "     3168    0.001    0.000    0.001    0.000 {built-in method builtins.getattr}\n",
      "      651    0.000    0.000    0.001    0.000 polygon.py:69(_get_coords)\n",
      "      128    0.000    0.000    0.001    0.000 _methods.py:54(_any)\n",
      "      128    0.000    0.000    0.001    0.000 series.py:627(name)\n",
      "       16    0.000    0.000    0.001    0.000 base.py:1643(rename)\n",
      "       16    0.000    0.000    0.001    0.000 {shapely.speedups._speedups.geos_linearring_from_py}\n",
      "      241    0.000    0.000    0.001    0.000 {built-in method builtins.all}\n",
      "       16    0.000    0.000    0.001    0.000 Image.py:2886(frombuffer)\n",
      "       48    0.000    0.000    0.001    0.000 config.py:242(__call__)\n",
      "      112    0.000    0.000    0.001    0.000 common.py:1264(is_bool_dtype)\n",
      "       32    0.000    0.000    0.001    0.000 numerictypes.py:575(_can_coerce_all)\n",
      "       16    0.000    0.000    0.001    0.000 _decorators.py:302(wrapper)\n",
      "       16    0.001    0.000    0.001    0.000 {built-in method torch.max}\n",
      "       16    0.000    0.000    0.001    0.000 algorithms.py:300(_check_object_for_strings)\n",
      "       32    0.000    0.000    0.001    0.000 base.py:950(take)\n",
      "       16    0.001    0.000    0.001    0.000 {method 'factorize' of 'pandas._libs.hashtable.StringHashTable' objects}\n",
      "       16    0.000    0.000    0.001    0.000 indexers.py:439(check_array_indexer)\n",
      "      240    0.001    0.000    0.001    0.000 {built-in method numpy.empty}\n",
      "       32    0.000    0.000    0.001    0.000 {pandas._libs.lib.infer_dtype}\n",
      "       16    0.000    0.000    0.001    0.000 base.py:1532(set_names)\n",
      "       96    0.000    0.000    0.001    0.000 config.py:96(_get_single_key)\n",
      "      128    0.001    0.000    0.001    0.000 {method 'unsqueeze' of 'torch._C._TensorBase' objects}\n",
      "       48    0.000    0.000    0.001    0.000 blocks.py:1890(get_block_type)\n",
      "      240    0.000    0.000    0.001    0.000 frame.py:3403(_get_column_array)\n",
      "      256    0.000    0.000    0.001    0.000 common.py:1578(_is_dtype_type)\n",
      "       48    0.000    0.000    0.001    0.000 blocks.py:232(fill_value)\n",
      "       16    0.000    0.000    0.001    0.000 _tensor.py:26(wrapped)\n",
      "       16    0.000    0.000    0.001    0.000 generic.py:3820(_slice)\n",
      "       48    0.000    0.000    0.000    0.000 common.py:100(is_bool_indexer)\n",
      "       16    0.000    0.000    0.000    0.000 _tensor.py:667(__floordiv__)\n",
      "      144    0.000    0.000    0.000    0.000 common.py:1718(validate_all_hashable)\n",
      "       96    0.000    0.000    0.000    0.000 common.py:160(is_object_dtype)\n",
      "       48    0.000    0.000    0.000    0.000 missing.py:552(na_value_for_dtype)\n",
      "       96    0.000    0.000    0.000    0.000 base.py:41(shape)\n",
      "       32    0.000    0.000    0.000    0.000 config.py:122(_set_option)\n",
      "      240    0.000    0.000    0.000    0.000 managers.py:990(iget_values)\n",
      "       16    0.000    0.000    0.000    0.000 config.py:412(__enter__)\n",
      "       16    0.000    0.000    0.000    0.000 {built-in method torch.min}\n",
      "       32    0.000    0.000    0.000    0.000 generic.py:5558(_consolidate_inplace)\n",
      "      256    0.000    0.000    0.000    0.000 series.py:674(_values)\n",
      "       16    0.000    0.000    0.000    0.000 Image.py:2809(new)\n",
      "       32    0.000    0.000    0.000    0.000 {method 'min' of 'numpy.ndarray' objects}\n",
      "      651    0.000    0.000    0.000    0.000 polygon.py:31(__init__)\n",
      "       32    0.000    0.000    0.000    0.000 algorithms.py:103(_ensure_data)\n",
      "      112    0.000    0.000    0.000    0.000 common.py:574(is_dtype_equal)\n",
      "       48    0.000    0.000    0.000    0.000 common.py:496(is_categorical_dtype)\n",
      "      160    0.000    0.000    0.000    0.000 base.py:5695(_maybe_cast_indexer)\n",
      "       32    0.000    0.000    0.000    0.000 generic.py:5544(_protect_consolidate)\n",
      "       32    0.000    0.000    0.000    0.000 numeric.py:289(full)\n",
      "       16    0.000    0.000    0.000    0.000 ops.py:1316(_sort_idx)\n",
      "       64    0.000    0.000    0.000    0.000 base.py:4728(equals)\n",
      "       32    0.000    0.000    0.000    0.000 indexing.py:2323(convert_to_index_sliceable)\n",
      "      160    0.000    0.000    0.000    0.000 series.py:577(name)\n",
      "       16    0.000    0.000    0.000    0.000 lowlevel.py:122(__del__)\n",
      "       16    0.000    0.000    0.000    0.000 grouper.py:456(__init__)\n",
      "       96    0.000    0.000    0.000    0.000 common.py:1230(is_float_dtype)\n",
      "  304/288    0.000    0.000    0.000    0.000 {built-in method numpy.asarray}\n",
      "       16    0.000    0.000    0.000    0.000 sorting.py:604(get_group_index_sorter)\n",
      "       48    0.000    0.000    0.000    0.000 frame.py:573(__init__)\n",
      "       29    0.000    0.000    0.000    0.000 base.py:1081(__iter__)\n",
      "       32    0.000    0.000    0.000    0.000 _methods.py:42(_amin)\n",
      "      651    0.000    0.000    0.000    0.000 {method 'update' of 'dict' objects}\n",
      "       80    0.000    0.000    0.000    0.000 base.py:605(_simple_new)\n",
      "       16    0.000    0.000    0.000    0.000 {method 'randint' of 'numpy.random.mtrand.RandomState' objects}\n",
      "       16    0.000    0.000    0.000    0.000 {method 'join' of 'bytes' objects}\n",
      "       16    0.000    0.000    0.000    0.000 {built-in method torch.div}\n",
      "      482    0.000    0.000    0.000    0.000 base.py:794(__len__)\n",
      "       96    0.000    0.000    0.000    0.000 series.py:528(_set_axis)\n",
      "      112    0.000    0.000    0.000    0.000 base.py:5174(_get_values_for_loc)\n",
      "       48    0.000    0.000    0.000    0.000 base.py:263(is_dtype)\n",
      "      128    0.000    0.000    0.000    0.000 series.py:562(dtype)\n",
      "       64    0.000    0.000    0.000    0.000 cast.py:1836(<genexpr>)\n",
      "     1302    0.000    0.000    0.000    0.000 {built-in method _ctypes.byref}\n",
      "       16    0.000    0.000    0.000    0.000 config.py:418(__exit__)\n",
      "       32    0.000    0.000    0.000    0.000 _ufunc_config.py:32(seterr)\n",
      "       16    0.000    0.000    0.000    0.000 numeric.py:235(_convert_slice_indexer)\n",
      "      320    0.000    0.000    0.000    0.000 inference.py:321(is_hashable)\n",
      "      288    0.000    0.000    0.000    0.000 base.py:43(<genexpr>)\n",
      "      528    0.000    0.000    0.000    0.000 blocks.py:348(iget)\n",
      "       32    0.000    0.000    0.000    0.000 generic.py:5562(f)\n",
      "       80    0.000    0.000    0.000    0.000 base.py:4587(__getitem__)\n",
      "       20    0.000    0.000    0.000    0.000 base.py:1073(_get_geom_item)\n",
      "       16    0.000    0.000    0.000    0.000 {built-in method torch.logical_and}\n",
      "       48    0.000    0.000    0.000    0.000 common.py:190(is_sparse)\n",
      "       16    0.000    0.000    0.000    0.000 lowlevel.py:193(_check_open)\n",
      "     1292    0.000    0.000    0.000    0.000 {built-in method builtins.globals}\n",
      "      112    0.000    0.000    0.000    0.000 inference.py:184(is_array_like)\n",
      "       32    0.000    0.000    0.000    0.000 {method 'permute' of 'torch._C._TensorBase' objects}\n",
      "       96    0.000    0.000    0.000    0.000 config.py:565(_get_root)\n",
      "      256    0.000    0.000    0.000    0.000 managers.py:1674(internal_values)\n",
      "      651    0.000    0.000    0.000    0.000 coords.py:40(__init__)\n",
      "      160    0.000    0.000    0.000    0.000 common.py:1420(is_extension_array_dtype)\n",
      "       32    0.000    0.000    0.000    0.000 indexing.py:1482(_validate_integer)\n",
      "       16    0.000    0.000    0.000    0.000 lowlevel.py:222(_check_error)\n",
      "      3/2    0.000    0.000    0.000    0.000 {built-in method builtins.iter}\n",
      "       16    0.000    0.000    0.000    0.000 _ufunc_config.py:429(__enter__)\n",
      "       16    0.000    0.000    0.000    0.000 algorithms.py:279(_get_values_for_rank)\n",
      "        1    0.000    0.000    0.000    0.000 dataloader.py:431(__iter__)\n",
      "       32    0.000    0.000    0.000    0.000 algorithms.py:1427(take)\n",
      "       16    0.000    0.000    0.000    0.000 algorithms.py:183(_reconstruct_data)\n",
      "      160    0.000    0.000    0.000    0.000 {method 'get_loc' of 'pandas._libs.index.IndexEngine' objects}\n",
      "        1    0.000    0.000    0.000    0.000 dataloader.py:385(_get_iterator)\n",
      "      288    0.000    0.000    0.000    0.000 common.py:1737(<genexpr>)\n",
      "       16    0.000    0.000    0.000    0.000 _asarray.py:22(require)\n",
      "        1    0.000    0.000    0.000    0.000 dataloader.py:711(__init__)\n",
      "      384    0.000    0.000    0.000    0.000 {pandas._libs.lib.is_list_like}\n",
      "      128    0.000    0.000    0.000    0.000 managers.py:1663(dtype)\n",
      "       32    0.000    0.000    0.000    0.000 construction.py:673(_try_cast)\n",
      "      336    0.000    0.000    0.000    0.000 common.py:1543(get_dtype)\n",
      "       16    0.000    0.000    0.000    0.000 base.py:511(_dtype_to_subclass)\n",
      "       80    0.000    0.000    0.000    0.000 generic.py:556(_get_axis)\n",
      "      176    0.000    0.000    0.000    0.000 construction.py:431(ensure_wrapped_if_datetimelike)\n",
      "       16    0.000    0.000    0.000    0.000 {method 'get_slice' of 'pandas._libs.internals.BlockManager' objects}\n",
      "      112    0.000    0.000    0.000    0.000 {built-in method numpy.arange}\n",
      "       16    0.000    0.000    0.000    0.000 {pandas._libs.lib.generate_slices}\n",
      "      304    0.000    0.000    0.000    0.000 numerictypes.py:584(<listcomp>)\n",
      "       16    0.000    0.000    0.000    0.000 generic.py:1691(_check_label_or_level_ambiguity)\n",
      "        1    0.000    0.000    0.000    0.000 dataloader.py:621(__init__)\n",
      "       16    0.000    0.000    0.000    0.000 config.py:413(<listcomp>)\n",
      "       16    0.000    0.000    0.000    0.000 {method 'min' of 'torch._C._TensorBase' objects}\n",
      "       32    0.000    0.000    0.000    0.000 {pandas._libs.algos.take_2d_axis1_float64_float64}\n",
      "       96    0.000    0.000    0.000    0.000 managers.py:1539(__init__)\n",
      "       32    0.000    0.000    0.000    0.000 managers.py:606(consolidate)\n",
      "        2    0.000    0.000    0.000    0.000 sampler.py:234(__iter__)\n",
      "      112    0.000    0.000    0.000    0.000 cast.py:464(maybe_promote)\n",
      "      128    0.000    0.000    0.000    0.000 generic.py:5473(__getattr__)\n",
      "       80    0.000    0.000    0.000    0.000 base.py:4537(__contains__)\n",
      "      144    0.000    0.000    0.000    0.000 flags.py:47(__init__)\n",
      "        1    0.000    0.000    0.000    0.000 dataloader.py:670(_next_index)\n",
      "       64    0.000    0.000    0.000    0.000 base.py:6381(maybe_extract_name)\n",
      "       48    0.000    0.000    0.000    0.000 inference.py:262(is_dict_like)\n",
      "      240    0.000    0.000    0.000    0.000 common.py:155(cast_scalar_indexer)\n",
      "       32    0.000    0.000    0.000    0.000 <__array_function__ internals>:2(copyto)\n",
      "       16    0.000    0.000    0.000    0.000 cast.py:1483(maybe_infer_to_datetimelike)\n",
      "       16    0.000    0.000    0.000    0.000 base.py:3687(_convert_slice_indexer)\n",
      "       17    0.000    0.000    0.000    0.000 sampler.py:117(__iter__)\n",
      "       16    0.000    0.000    0.000    0.000 Image.py:238(_conv_type_shape)\n",
      "       96    0.000    0.000    0.000    0.000 blocks.py:261(make_block_same_class)\n",
      "       16    0.000    0.000    0.000    0.000 generic.py:1930(__contains__)\n",
      "       48    0.000    0.000    0.000    0.000 _dtype.py:321(_name_get)\n",
      "       48    0.000    0.000    0.000    0.000 series.py:1194(_set_as_cached)\n",
      "       32    0.000    0.000    0.000    0.000 managers.py:468(is_consolidated)\n",
      "       48    0.000    0.000    0.000    0.000 blocks.py:1946(check_ndim)\n",
      "       16    0.000    0.000    0.000    0.000 {pandas._libs.algos.groupsort_indexer}\n",
      "       16    0.000    0.000    0.000    0.000 common.py:287(maybe_iterable_to_list)\n",
      "      731    0.000    0.000    0.000    0.000 {method 'append' of 'list' objects}\n",
      "       64    0.000    0.000    0.000    0.000 {method 'take' of 'numpy.ndarray' objects}\n",
      "      240    0.000    0.000    0.000    0.000 common.py:346(apply_if_callable)\n",
      "       32    0.000    0.000    0.000    0.000 {pandas._libs.algos.take_2d_axis0_int64_int64}\n",
      "       16    0.000    0.000    0.000    0.000 {built-in method torch.argwhere}\n",
      "       48    0.000    0.000    0.000    0.000 construction.py:605(_sanitize_ndim)\n",
      "      144    0.000    0.000    0.000    0.000 config.py:579(_get_deprecated_option)\n",
      "       32    0.000    0.000    0.000    0.000 {method 'numpy' of 'torch._C._TensorBase' objects}\n",
      "       52    0.000    0.000    0.000    0.000 abc.py:137(__instancecheck__)\n",
      "       16    0.000    0.000    0.000    0.000 ops.py:1377(get_splitter)\n",
      "       16    0.000    0.000    0.000    0.000 base.py:713(tolist)\n",
      "       16    0.000    0.000    0.000    0.000 base.py:1503(_set_names)\n",
      "       16    0.000    0.000    0.000    0.000 _ufunc_config.py:434(__exit__)\n",
      "       32    0.000    0.000    0.000    0.000 Image.py:531(_new)\n",
      "       16    0.000    0.000    0.000    0.000 {built-in method PIL._imaging.fill}\n",
      "       32    0.000    0.000    0.000    0.000 cast.py:1814(<genexpr>)\n",
      "       16    0.000    0.000    0.000    0.000 managers.py:476(_consolidate_check)\n",
      "       16    0.000    0.000    0.000    0.000 {built-in method torch.zeros_like}\n",
      "       16    0.000    0.000    0.000    0.000 base.py:707(_view)\n",
      "       16    0.000    0.000    0.000    0.000 Image.py:406(_getencoder)\n",
      "       96    0.000    0.000    0.000    0.000 config.py:606(_translate_key)\n",
      "      112    0.000    0.000    0.000    0.000 take.py:301(_get_take_nd_function)\n",
      "       48    0.000    0.000    0.000    0.000 blocks.py:1988(extract_pandas_array)\n",
      "      112    0.000    0.000    0.000    0.000 flags.py:83(allows_duplicate_labels)\n",
      "       80    0.000    0.000    0.000    0.000 common.py:1744(pandas_dtype)\n",
      "       16    0.000    0.000    0.000    0.000 base.py:737(__iter__)\n",
      "       16    0.000    0.000    0.000    0.000 {built-in method numpy.zeros}\n",
      "       16    0.000    0.000    0.000    0.000 base.py:2389(_is_all_dates)\n",
      "       16    0.000    0.000    0.000    0.000 grouper.py:911(_convert_grouper)\n",
      "      400    0.000    0.000    0.000    0.000 {built-in method builtins.hash}\n",
      "       64    0.000    0.000    0.000    0.000 lowlevel.py:129(from_param)\n",
      "       48    0.000    0.000    0.000    0.000 config.py:618(_warn_if_deprecated)\n",
      "      592    0.000    0.000    0.000    0.000 {built-in method builtins.issubclass}\n",
      "      192    0.000    0.000    0.000    0.000 common.py:146(<lambda>)\n",
      "       16    0.000    0.000    0.000    0.000 {pandas._libs.algos.take_1d_int64_int64}\n",
      "      384    0.000    0.000    0.000    0.000 managers.py:1619(_block)\n",
      "       32    0.000    0.000    0.000    0.000 base.py:34(__len__)\n",
      "       32    0.000    0.000    0.000    0.000 _ufunc_config.py:131(geterr)\n",
      "       48    0.000    0.000    0.000    0.000 common.py:526(require_length_match)\n",
      "       16    0.000    0.000    0.000    0.000 {built-in method _warnings.warn}\n",
      "       32    0.000    0.000    0.000    0.000 typing.py:814(__new__)\n",
      "       52    0.000    0.000    0.000    0.000 {built-in method _abc._abc_instancecheck}\n",
      "       48    0.000    0.000    0.000    0.000 generic.py:3837(_set_is_copy)\n",
      "      176    0.000    0.000    0.000    0.000 generic.py:542(_get_axis_number)\n",
      "       32    0.000    0.000    0.000    0.000 managers.py:929(from_blocks)\n",
      "       48    0.000    0.000    0.000    0.000 construction.py:780(is_empty_data)\n",
      "      160    0.000    0.000    0.000    0.000 base.py:2130(is_floating)\n",
      "       18    0.000    0.000    0.000    0.000 {method 'item' of 'torch._C._TensorBase' objects}\n",
      "       16    0.000    0.000    0.000    0.000 base.py:767(_engine)\n",
      "       32    0.000    0.000    0.000    0.000 {built-in method numpy.core._multiarray_umath.implement_array_function}\n",
      "       32    0.000    0.000    0.000    0.000 common.py:673(is_integer_dtype)\n",
      "        2    0.000    0.000    0.000    0.000 {method 'random_' of 'torch._C._TensorBase' objects}\n",
      "       64    0.000    0.000    0.000    0.000 {method 'fill' of 'numpy.ndarray' objects}\n",
      "       32    0.000    0.000    0.000    0.000 Image.py:2791(_check_size)\n",
      "       48    0.000    0.000    0.000    0.000 Image.py:500(__init__)\n",
      "       48    0.000    0.000    0.000    0.000 generic.py:562(_get_block_manager_axis)\n",
      "       16    0.000    0.000    0.000    0.000 managers.py:477(<listcomp>)\n",
      "        9    0.000    0.000    0.000    0.000 base.py:961(geoms)\n",
      "       16    0.000    0.000    0.000    0.000 ops.py:777(_get_group_keys)\n",
      "       32    0.000    0.000    0.000    0.000 {built-in method numpy.asanyarray}\n",
      "       16    0.000    0.000    0.000    0.000 common.py:224(asarray_tuplesafe)\n",
      "       16    0.000    0.000    0.000    0.000 Image.py:819(load)\n",
      "       16    0.000    0.000    0.000    0.000 missing.py:61(isna)\n",
      "       96    0.000    0.000    0.000    0.000 {method 'split' of 'str' objects}\n",
      "       16    0.000    0.000    0.000    0.000 base.py:4631(_getitem_slice)\n",
      "      192    0.000    0.000    0.000    0.000 common.py:144(classes)\n",
      "       16    0.000    0.000    0.000    0.000 series.py:730(__len__)\n",
      "       16    0.000    0.000    0.000    0.000 {built-in method pandas._libs.lib.is_datetime_array}\n",
      "    32/16    0.000    0.000    0.000    0.000 common.py:329(get_callable_name)\n",
      "       16    0.000    0.000    0.000    0.000 {method 'nonzero' of 'numpy.ndarray' objects}\n",
      "       48    0.000    0.000    0.000    0.000 common.py:1141(needs_i8_conversion)\n",
      "       48    0.000    0.000    0.000    0.000 construction.py:662(_maybe_repeat)\n",
      "       96    0.000    0.000    0.000    0.000 config.py:547(_select_options)\n",
      "        2    0.000    0.000    0.000    0.000 codeop.py:140(__call__)\n",
      "      368    0.000    0.000    0.000    0.000 {pandas._libs.algos.ensure_platform_int}\n",
      "       16    0.000    0.000    0.000    0.000 algorithms.py:227(_ensure_arraylike)\n",
      "        2    0.000    0.000    0.000    0.000 _ops.py:138(__call__)\n",
      "      144    0.000    0.000    0.000    0.000 inference.py:288(<genexpr>)\n",
      "       16    0.000    0.000    0.000    0.000 config.py:404(__init__)\n",
      "       16    0.000    0.000    0.000    0.000 lowlevel.py:164(from_param)\n",
      "       80    0.000    0.000    0.000    0.000 base.py:756(_reset_identity)\n",
      "       16    0.000    0.000    0.000    0.000 missing.py:144(_isna)\n",
      "        1    0.000    0.000    0.000    0.000 profiler.py:445(__enter__)\n",
      "      288    0.000    0.000    0.000    0.000 {pandas._libs.lib.is_integer}\n",
      "      112    0.000    0.000    0.000    0.000 {built-in method __new__ of type object at 0x00007FFA20047B30}\n",
      "       16    0.000    0.000    0.000    0.000 {built-in method PIL._imaging.map_buffer}\n",
      "       16    0.000    0.000    0.000    0.000 lowlevel.py:115(__init__)\n",
      "        2    0.000    0.000    0.000    0.000 {built-in method builtins.compile}\n",
      "      224    0.000    0.000    0.000    0.000 {pandas._libs.lib.is_scalar}\n",
      "       16    0.000    0.000    0.000    0.000 common.py:74(get_op_result_name)\n",
      "       16    0.000    0.000    0.000    0.000 managers.py:954(<listcomp>)\n",
      "      144    0.000    0.000    0.000    0.000 blocks.py:238(mgr_locs)\n",
      "       16    0.000    0.000    0.000    0.000 common.py:779(is_unsigned_integer_dtype)\n",
      "       16    0.000    0.000    0.000    0.000 series.py:810(__array__)\n",
      "       48    0.000    0.000    0.000    0.000 lowlevel.py:214(_check_string)\n",
      "      224    0.000    0.000    0.000    0.000 generic.py:345(flags)\n",
      "       48    0.000    0.000    0.000    0.000 construction.py:642(_sanitize_str_dtypes)\n",
      "       16    0.000    0.000    0.000    0.000 generic.py:437(_validate_dtype)\n",
      "       16    0.000    0.000    0.000    0.000 ops.py:1311(slabels)\n",
      "      112    0.000    0.000    0.000    0.000 generic.py:324(attrs)\n",
      "        2    0.000    0.000    0.000    0.000 {built-in method torch.empty}\n",
      "       16    0.000    0.000    0.000    0.000 series.py:909(_ixs)\n",
      "      160    0.000    0.000    0.000    0.000 {pandas._libs.lib.item_from_zerodim}\n",
      "       16    0.000    0.000    0.000    0.000 common.py:1035(is_numeric_v_string_like)\n",
      "       32    0.000    0.000    0.000    0.000 cast.py:1829(<genexpr>)\n",
      "       32    0.000    0.000    0.000    0.000 indexing.py:133(iloc)\n",
      "      240    0.000    0.000    0.000    0.000 {pandas._libs.lib.is_float}\n",
      "      128    0.000    0.000    0.000    0.000 {method 'get' of 'dict' objects}\n",
      "        1    0.000    0.000    0.000    0.000 {built-in method torch.randperm}\n",
      "       32    0.000    0.000    0.000    0.000 Image.py:523(height)\n",
      "       16    0.000    0.000    0.000    0.000 ops.py:1303(__init__)\n",
      "       64    0.000    0.000    0.000    0.000 base.py:725(is_)\n",
      "       16    0.000    0.000    0.000    0.000 base.py:1500(_get_names)\n",
      "       32    0.000    0.000    0.000    0.000 common.py:314(is_datetime64_dtype)\n",
      "      256    0.000    0.000    0.000    0.000 {built-in method builtins.callable}\n",
      "       16    0.000    0.000    0.000    0.000 _asarray.py:111(<setcomp>)\n",
      "       16    0.000    0.000    0.000    0.000 ops.py:705(__init__)\n",
      "       32    0.000    0.000    0.000    0.000 {built-in method numpy.seterrobj}\n",
      "       32    0.000    0.000    0.000    0.000 base.py:2094(is_integer)\n",
      "        1    0.000    0.000    0.000    0.000 {built-in method torch._ops.profiler._record_function_enter}\n",
      "       16    0.000    0.000    0.000    0.000 common.py:725(is_signed_integer_dtype)\n",
      "       64    0.000    0.000    0.000    0.000 common.py:154(<lambda>)\n",
      "       48    0.000    0.000    0.000    0.000 common.py:1409(is_1d_only_ea_dtype)\n",
      "       16    0.000    0.000    0.000    0.000 ops.py:877(names)\n",
      "       16    0.000    0.000    0.000    0.000 dispatch.py:11(should_extension_dispatch)\n",
      "       64    0.000    0.000    0.000    0.000 cast.py:1820(<genexpr>)\n",
      "        2    0.000    0.000    0.000    0.000 wsi_datasets.py:100(__len__)\n",
      "       16    0.000    0.000    0.000    0.000 missing.py:381(array_equivalent)\n",
      "       32    0.000    0.000    0.000    0.000 common.py:1474(is_ea_or_datetimelike_dtype)\n",
      "       32    0.000    0.000    0.000    0.000 cast.py:1727(sanitize_to_nanoseconds)\n",
      "       16    0.000    0.000    0.000    0.000 grouper.py:560(name)\n",
      "       16    0.000    0.000    0.000    0.000 ops.py:873(levels)\n",
      "       20    0.000    0.000    0.000    0.000 multipolygon.py:66(shape_factory)\n",
      "      112    0.000    0.000    0.000    0.000 ops.py:725(groupings)\n",
      "       32    0.000    0.000    0.000    0.000 indexers.py:66(is_list_like_indexer)\n",
      "      112    0.000    0.000    0.000    0.000 flags.py:51(allows_duplicate_labels)\n",
      "       32    0.000    0.000    0.000    0.000 cast.py:1831(<genexpr>)\n",
      "       32    0.000    0.000    0.000    0.000 grouper.py:785(<genexpr>)\n",
      "       16    0.000    0.000    0.000    0.000 {pandas._libs.lib.infer_datetimelike_array}\n",
      "       48    0.000    0.000    0.000    0.000 base.py:6279(ensure_index)\n",
      "       16    0.000    0.000    0.000    0.000 pathlib.py:709(__str__)\n",
      "        1    0.000    0.000    0.000    0.000 profiler.py:436(__init__)\n",
      "      112    0.000    0.000    0.000    0.000 base.py:4379(_values)\n",
      "       16    0.000    0.000    0.000    0.000 {built-in method PIL._imaging.raw_encoder}\n",
      "       64    0.000    0.000    0.000    0.000 {built-in method numpy.geterrobj}\n",
      "       80    0.000    0.000    0.000    0.000 blocks.py:344(dtype)\n",
      "       16    0.000    0.000    0.000    0.000 _decorators.py:214(_format_argument_list)\n",
      "        2    0.000    0.000    0.000    0.000 frame.py:1352(__len__)\n",
      "       16    0.000    0.000    0.000    0.000 groupby.py:905(__getattr__)\n",
      "       32    0.000    0.000    0.000    0.000 config.py:595(_get_registered_option)\n",
      "       16    0.000    0.000    0.000    0.000 generic.py:631(_info_axis)\n",
      "       32    0.000    0.000    0.000    0.000 common.py:388(is_timedelta64_dtype)\n",
      "       16    0.000    0.000    0.000    0.000 numerictypes.py:651(<listcomp>)\n",
      "        1    0.000    0.000    0.000    0.000 {method 'tolist' of 'torch._C._TensorBase' objects}\n",
      "       64    0.000    0.000    0.000    0.000 {pandas._libs.algos.ensure_object}\n",
      "       32    0.000    0.000    0.000    0.000 grouper.py:782(<genexpr>)\n",
      "       32    0.000    0.000    0.000    0.000 {method 'argsort' of 'numpy.ndarray' objects}\n",
      "       16    0.000    0.000    0.000    0.000 {method 'ravel' of 'numpy.ndarray' objects}\n",
      "       16    0.000    0.000    0.000    0.000 grouper.py:818(is_in_axis)\n",
      "       16    0.000    0.000    0.000    0.000 Image.py:513(__getattr__)\n",
      "       16    0.000    0.000    0.000    0.000 {method 'setimage' of 'ImagingEncoder' objects}\n",
      "       16    0.000    0.000    0.000    0.000 {method 'reshape' of 'numpy.ndarray' objects}\n",
      "       16    0.000    0.000    0.000    0.000 {built-in method pandas._libs.missing.checknull}\n",
      "       48    0.000    0.000    0.000    0.000 base.py:1449(name)\n",
      "       48    0.000    0.000    0.000    0.000 _dtype.py:24(_kind_name)\n",
      "       32    0.000    0.000    0.000    0.000 Image.py:519(width)\n",
      "        1    0.000    0.000    0.000    0.000 {built-in method torch.zeros}\n",
      "       80    0.000    0.000    0.000    0.000 Image.py:527(size)\n",
      "       16    0.000    0.000    0.000    0.000 ImageMode.py:36(getmode)\n",
      "      160    0.000    0.000    0.000    0.000 typing.py:898(cast)\n",
      "       16    0.000    0.000    0.000    0.000 lowlevel.py:204(_check_close)\n",
      "       16    0.000    0.000    0.000    0.000 {built-in method fromkeys}\n",
      "        1    0.000    0.000    0.000    0.000 profiler.py:449(__exit__)\n",
      "       16    0.000    0.000    0.000    0.000 common.py:182(not_none)\n",
      "       32    0.000    0.000    0.000    0.000 config.py:812(inner)\n",
      "        9    0.000    0.000    0.000    0.000 base.py:1086(__len__)\n",
      "       48    0.000    0.000    0.000    0.000 base.py:3705(is_int)\n",
      "       16    0.000    0.000    0.000    0.000 _ufunc_config.py:425(__init__)\n",
      "       16    0.000    0.000    0.000    0.000 common.py:577(is_builtin_func)\n",
      "       48    0.000    0.000    0.000    0.000 _dtype.py:307(_name_includes_bit_suffix)\n",
      "       16    0.000    0.000    0.000    0.000 {method 'pixel_access' of 'ImagingCore' objects}\n",
      "       48    0.000    0.000    0.000    0.000 base.py:5710(_validate_indexer)\n",
      "       16    0.000    0.000    0.000    0.000 {method 'encode' of 'str' objects}\n",
      "       48    0.000    0.000    0.000    0.000 frame.py:564(_constructor)\n",
      "       32    0.000    0.000    0.000    0.000 {built-in method torch._C._has_torch_function_unary}\n",
      "       32    0.000    0.000    0.000    0.000 managers.py:245(items)\n",
      "       16    0.000    0.000    0.000    0.000 {built-in method builtins.max}\n",
      "       16    0.000    0.000    0.000    0.000 grouper.py:831(is_in_obj)\n",
      "       32    0.000    0.000    0.000    0.000 function.py:49(__call__)\n",
      "       16    0.000    0.000    0.000    0.000 grouper.py:622(result_index)\n",
      "       32    0.000    0.000    0.000    0.000 base.py:818(dtype)\n",
      "       18    0.000    0.000    0.000    0.000 base.py:1069(_update)\n",
      "       16    0.000    0.000    0.000    0.000 numeric.py:126(inferred_type)\n",
      "       64    0.000    0.000    0.000    0.000 common.py:149(classes_and_not_datetimelike)\n",
      "       16    0.000    0.000    0.000    0.000 base.py:4405(_get_engine_target)\n",
      "       16    0.000    0.000    0.000    0.000 groupby.py:682(_selected_obj)\n",
      "       16    0.000    0.000    0.000    0.000 {method 'tolist' of 'numpy.ndarray' objects}\n",
      "       64    0.000    0.000    0.000    0.000 numeric.py:296(_is_all_dates)\n",
      "       48    0.000    0.000    0.000    0.000 managers.py:884(__init__)\n",
      "       32    0.000    0.000    0.000    0.000 {method 'copy' of 'dict' objects}\n",
      "        1    0.000    0.000    0.000    0.000 dataloader.py:568(_get_shared_seed)\n",
      "       16    0.000    0.000    0.000    0.000 grouper.py:907(_is_label_like)\n",
      "       16    0.000    0.000    0.000    0.000 {built-in method _ctypes.POINTER}\n",
      "       16    0.000    0.000    0.000    0.000 ops.py:875(<listcomp>)\n",
      "       16    0.000    0.000    0.000    0.000 ops.py:879(<listcomp>)\n",
      "       32    0.000    0.000    0.000    0.000 base.py:966(_maybe_disallow_fill)\n",
      "       32    0.000    0.000    0.000    0.000 {pandas._libs.lib.is_iterator}\n",
      "       32    0.000    0.000    0.000    0.000 common.py:186(<genexpr>)\n",
      "        1    0.000    0.000    0.000    0.000 {built-in method torch._ops.profiler._record_function_exit}\n",
      "       16    0.000    0.000    0.000    0.000 frame.py:780(axes)\n",
      "        1    0.000    0.000    0.000    0.000 dataloader.py:77(create_fetcher)\n",
      "       32    0.000    0.000    0.000    0.000 {method 'pop' of 'dict' objects}\n",
      "        2    0.000    0.000    0.000    0.000 contextlib.py:237(helper)\n",
      "       32    0.000    0.000    0.000    0.000 multiarray.py:1071(copyto)\n",
      "       16    0.000    0.000    0.000    0.000 generic.py:655(ndim)\n",
      "       32    0.000    0.000    0.000    0.000 grouper.py:783(<genexpr>)\n",
      "       16    0.000    0.000    0.000    0.000 {built-in method torch._C._has_torch_function}\n",
      "       32    0.000    0.000    0.000    0.000 {method 'upper' of 'str' objects}\n",
      "        2    0.000    0.000    0.000    0.000 contextlib.py:107(__enter__)\n",
      "       16    0.000    0.000    0.000    0.000 grouper.py:614(group_arraylike)\n",
      "       16    0.000    0.000    0.000    0.000 base.py:497(_ensure_array)\n",
      "       16    0.000    0.000    0.000    0.000 series.py:507(_constructor)\n",
      "        2    0.000    0.000    0.000    0.000 contextlib.py:81(__init__)\n",
      "       16    0.000    0.000    0.000    0.000 grouper.py:578(_ilevel)\n",
      "        2    0.000    0.000    0.000    0.000 contextlib.py:116(__exit__)\n",
      "        1    0.000    0.000    0.000    0.000 sampler.py:110(num_samples)\n",
      "       16    0.000    0.000    0.000    0.000 {method 'keys' of 'dict' objects}\n",
      "       16    0.000    0.000    0.000    0.000 {method 'remove' of 'set' objects}\n",
      "       16    0.000    0.000    0.000    0.000 generic.py:1711(<genexpr>)\n",
      "        1    0.000    0.000    0.000    0.000 abc.py:141(__subclasscheck__)\n",
      "        9    0.000    0.000    0.000    0.000 base.py:1065(__init__)\n",
      "       16    0.000    0.000    0.000    0.000 lowlevel.py:126(invalidate)\n",
      "        2    0.000    0.000    0.000    0.000 traitlets.py:566(__get__)\n",
      "       16    0.000    0.000    0.000    0.000 {method 'add' of 'set' objects}\n",
      "        1    0.000    0.000    0.000    0.000 fetch.py:44(__init__)\n",
      "       16    0.000    0.000    0.000    0.000 {method 'values' of 'dict' objects}\n",
      "       16    0.000    0.000    0.000    0.000 collate.py:170(<genexpr>)\n",
      "       16    0.000    0.000    0.000    0.000 base.py:308(ndim)\n",
      "        4    0.000    0.000    0.000    0.000 compilerop.py:166(extra_flags)\n",
      "        2    0.000    0.000    0.000    0.000 hooks.py:103(__call__)\n",
      "        1    0.000    0.000    0.000    0.000 {method 'manual_seed' of 'torch._C.Generator' objects}\n",
      "       16    0.000    0.000    0.000    0.000 base.py:1697(nlevels)\n",
      "       16    0.000    0.000    0.000    0.000 base.py:220(disallow_kwargs)\n",
      "       16    0.000    0.000    0.000    0.000 base.py:4517(_has_complex_internals)\n",
      "        1    0.000    0.000    0.000    0.000 1944386479.py:15(<module>)\n",
      "        1    0.000    0.000    0.000    0.000 {built-in method _abc._abc_subclasscheck}\n",
      "       16    0.000    0.000    0.000    0.000 numerictypes.py:652(<listcomp>)\n",
      "        2    0.000    0.000    0.000    0.000 interactiveshell.py:118(<lambda>)\n",
      "        2    0.000    0.000    0.000    0.000 traitlets.py:535(get)\n",
      "        1    0.000    0.000    0.000    0.000 fetch.py:8(__init__)\n",
      "        2    0.000    0.000    0.000    0.000 ipstruct.py:125(__getattr__)\n",
      "        1    0.000    0.000    0.000    0.000 {method 'format' of 'str' objects}\n",
      "        2    0.000    0.000    0.000    0.000 interactiveshell.py:1286(user_global_ns)\n",
      "        2    0.000    0.000    0.000    0.000 dataloader.py:446(_auto_collation)\n",
      "        3    0.000    0.000    0.000    0.000 worker.py:83(get_worker_info)\n",
      "        1    0.000    0.000    0.000    0.000 dataloader.py:450(_index_sampler)\n",
      "        1    0.000    0.000    0.000    0.000 _collections_abc.py:302(__subclasshook__)\n",
      "        2    0.000    0.000    0.000    0.000 interactiveshell.py:3358(compare)\n",
      "        2    0.000    0.000    0.000    0.000 hooks.py:168(pre_run_code_hook)\n",
      "        1    0.000    0.000    0.000    0.000 {method 'disable' of '_lsprof.Profiler' objects}\n",
      "\n",
      "\n"
     ]
    }
   ],
   "source": [
    "import cProfile\n",
    "\n",
    "# Define the function or expression you want to profile\n",
    "\n",
    "\n",
    "# Create a profile object\n",
    "profile = cProfile.Profile()\n",
    "\n",
    "# Start profiling\n",
    "profile.enable()\n",
    "\n",
    "# Call the function or execute the expression you want to profile\n",
    "img_b,mask_b,zoom_b=next(iter(dl_train))\n",
    "# Stop profiling\n",
    "profile.disable()\n",
    "\n",
    "# Print the profiling results\n",
    "profile.print_stats(sort=2)\n"
   ]
  },
  {
   "cell_type": "code",
   "execution_count": 122,
   "id": "02b4d957-4e31-43c5-8656-36b91235b19b",
   "metadata": {
    "tags": []
   },
   "outputs": [
    {
     "name": "stderr",
     "output_type": "stream",
     "text": [
      "D:\\Anaconda3\\envs\\fastai2022\\lib\\site-packages\\ipykernel_launcher.py:45: UserWarning: __floordiv__ is deprecated, and its behavior will change in a future version of pytorch. It currently rounds toward 0 (like the 'trunc' function NOT 'floor'). This results in incorrect rounding for negative values. To keep the current behavior, use torch.div(a, b, rounding_mode='trunc'), or for actual floor division, use torch.div(a, b, rounding_mode='floor').\n"
     ]
    }
   ],
   "source": []
  },
  {
   "cell_type": "code",
   "execution_count": 40,
   "id": "628ededc-d182-4914-92ef-355fb75c148c",
   "metadata": {},
   "outputs": [
    {
     "data": {
      "text/plain": [
       "torch.Size([16, 3, 256, 256])"
      ]
     },
     "execution_count": 40,
     "metadata": {},
     "output_type": "execute_result"
    }
   ],
   "source": [
    "img_b.shape"
   ]
  },
  {
   "cell_type": "code",
   "execution_count": 43,
   "id": "b50706cc-d730-404e-bf45-5b557440a630",
   "metadata": {
    "tags": []
   },
   "outputs": [
    {
     "data": {
      "text/plain": [
       "torch.uint8"
      ]
     },
     "execution_count": 43,
     "metadata": {},
     "output_type": "execute_result"
    }
   ],
   "source": [
    "mask_b.dtype"
   ]
  },
  {
   "cell_type": "code",
   "execution_count": 20,
   "id": "acea0804-ea77-4d8d-b3bb-f2df03a65908",
   "metadata": {},
   "outputs": [],
   "source": [
    "from torchvision.utils import make_grid"
   ]
  },
  {
   "cell_type": "code",
   "execution_count": 33,
   "id": "8b840f17-f151-4565-9bd4-cd19de5259ef",
   "metadata": {},
   "outputs": [],
   "source": [
    "import matplotlib.pyplot as plt\n",
    "grd=make_grid(mask_b.unsqueeze(1),nrow=4)*torch.tensor((0,255,128)).unsqueeze(1).unsqueeze(2)"
   ]
  },
  {
   "cell_type": "code",
   "execution_count": 35,
   "id": "32326cad-a045-4860-a6b0-d5f1c38cc235",
   "metadata": {},
   "outputs": [
    {
     "data": {
      "text/plain": [
       "torch.Size([3, 1034, 1034])"
      ]
     },
     "execution_count": 35,
     "metadata": {},
     "output_type": "execute_result"
    }
   ],
   "source": [
    "grd.shape"
   ]
  },
  {
   "cell_type": "code",
   "execution_count": 57,
   "id": "5ca7514e-3eda-436f-8b7f-0df7cada6a7d",
   "metadata": {
    "tags": []
   },
   "outputs": [
    {
     "data": {
      "text/plain": [
       "<Figure size 1152x864 with 0 Axes>"
      ]
     },
     "metadata": {},
     "output_type": "display_data"
    }
   ],
   "source": [
    "fig = plt.figure(figsize=(16, 12))\n",
    "grid_img=make_grid(img_b,nrow=4).permute((1,2,0))+grd.permute((1,2,0))\n",
    "#plt.imshow(grid_img)\n",
    "plt.imsave('training_batch.jpg',np.array(grid_img.permute(1,0,2).to(torch.uint8)))"
   ]
  },
  {
   "cell_type": "code",
   "execution_count": 55,
   "id": "a6123eb6-70b7-4e6d-8bfe-d1c789c43c1e",
   "metadata": {},
   "outputs": [
    {
     "data": {
      "text/plain": [
       "torch.int64"
      ]
     },
     "execution_count": 55,
     "metadata": {},
     "output_type": "execute_result"
    }
   ],
   "source": [
    "grid_img.permute(1,0,2).to(torch.uint8)"
   ]
  },
  {
   "cell_type": "code",
   "execution_count": 49,
   "id": "6cf44bed-cf0f-4dd3-9914-5c90d716cfd3",
   "metadata": {},
   "outputs": [
    {
     "data": {
      "text/plain": [
       "torch.Size([1034, 1034, 3])"
      ]
     },
     "execution_count": 49,
     "metadata": {},
     "output_type": "execute_result"
    }
   ],
   "source": [
    "grid_img.permute(1,0,2).shape"
   ]
  },
  {
   "cell_type": "code",
   "execution_count": 46,
   "id": "394d9a78-91a8-481e-9ebe-cd845d30a1b7",
   "metadata": {
    "tags": []
   },
   "outputs": [
    {
     "data": {
      "text/plain": [
       "torch.Size([1034, 1034, 3])"
      ]
     },
     "execution_count": 46,
     "metadata": {},
     "output_type": "execute_result"
    }
   ],
   "source": [
    "grid_img.permute(2,0,1)"
   ]
  },
  {
   "cell_type": "code",
   "execution_count": 170,
   "id": "3328c55d-2754-419c-a6fa-9b134930b8e7",
   "metadata": {
    "tags": []
   },
   "outputs": [],
   "source": [
    "grd=make_grid(mask_b.unsqueeze(1),nrow=4)*torch.tensor((0,255,128)).unsqueeze(1).unsqueeze(2)"
   ]
  },
  {
   "cell_type": "code",
   "execution_count": 152,
   "id": "2c56e0d4-1db2-462d-92e7-5b41114a7ba6",
   "metadata": {
    "tags": []
   },
   "outputs": [
    {
     "data": {
      "text/plain": [
       "<matplotlib.image.AxesImage at 0x10e7638af48>"
      ]
     },
     "execution_count": 152,
     "metadata": {},
     "output_type": "execute_result"
    },
    {
     "data": {
      "image/png": "[encoded data removed]",
      "text/plain": [
       "<Figure size 432x288 with 1 Axes>"
      ]
     },
     "metadata": {
      "needs_background": "light"
     },
     "output_type": "display_data"
    }
   ],
   "source": [
    "plt.imshow(grd.permute((1,2,0)))"
   ]
  },
  {
   "cell_type": "code",
   "execution_count": 146,
   "id": "feddfba5-250e-4deb-945c-0445a6f552a4",
   "metadata": {},
   "outputs": [
    {
     "data": {
      "text/plain": [
       "<matplotlib.image.AxesImage at 0x10e7620ce48>"
      ]
     },
     "execution_count": 146,
     "metadata": {},
     "output_type": "execute_result"
    },
    {
     "data": {
      "image/png": "[encoded data removed]",
      "text/plain": [
       "<Figure size 432x288 with 1 Axes>"
      ]
     },
     "metadata": {
      "needs_background": "light"
     },
     "output_type": "display_data"
    }
   ],
   "source": [
    "plt.imshow(make_grid(mask_b.unsqueeze(1),nrow=4)*().permute((1,2,0)))"
   ]
  },
  {
   "cell_type": "code",
   "execution_count": null,
   "id": "9993e51d-97c3-4563-a923-2780bbfbe9e5",
   "metadata": {},
   "outputs": [],
   "source": []
  },
  {
   "cell_type": "code",
   "execution_count": null,
   "id": "4a76ee5b-2e1b-4e39-84a7-4e25341e6148",
   "metadata": {},
   "outputs": [],
   "source": []
  },
  {
   "cell_type": "code",
   "execution_count": 32,
   "id": "33aee42c-5e6b-4bb0-87c4-ad3920c2dc90",
   "metadata": {},
   "outputs": [
    {
     "ename": "NameError",
     "evalue": "name 'plt' is not defined",
     "output_type": "error",
     "traceback": [
      "\u001b[1;31m---------------------------------------------------------------------------\u001b[0m",
      "\u001b[1;31mNameError\u001b[0m                                 Traceback (most recent call last)",
      "\u001b[1;32m~\\AppData\\Local\\Temp\\ipykernel_15276\\1859966962.py\u001b[0m in \u001b[0;36m<module>\u001b[1;34m\u001b[0m\n\u001b[1;32m----> 1\u001b[1;33m \u001b[0mplt\u001b[0m\u001b[1;33m\u001b[0m\u001b[1;33m\u001b[0m\u001b[0m\n\u001b[0m",
      "\u001b[1;31mNameError\u001b[0m: name 'plt' is not defined"
     ]
    }
   ],
   "source": [
    "plt"
   ]
  },
  {
   "cell_type": "code",
   "execution_count": 51,
   "id": "2bb8997f-f86a-4dae-9fb5-4c2737840a97",
   "metadata": {
    "collapsed": true,
    "jupyter": {
     "outputs_hidden": true
    },
    "tags": []
   },
   "outputs": [
    {
     "name": "stderr",
     "output_type": "stream",
     "text": [
      "D:\\Anaconda3\\envs\\fastai2022\\lib\\site-packages\\ipykernel_launcher.py:38: UserWarning: __floordiv__ is deprecated, and its behavior will change in a future version of pytorch. It currently rounds toward 0 (like the 'trunc' function NOT 'floor'). This results in incorrect rounding for negative values. To keep the current behavior, use torch.div(a, b, rounding_mode='trunc'), or for actual floor division, use torch.div(a, b, rounding_mode='floor').\n"
     ]
    },
    {
     "name": "stdout",
     "output_type": "stream",
     "text": [
      "> \u001b[1;32mc:\\users\\ananya\\appdata\\local\\temp\\ipykernel_15276\\2884693963.py\u001b[0m(99)\u001b[0;36mget_mask_per_class\u001b[1;34m()\u001b[0m\n",
      "\n"
     ]
    },
    {
     "name": "stdin",
     "output_type": "stream",
     "text": [
      "ipdb>  q\n"
     ]
    },
    {
     "ename": "BdbQuit",
     "evalue": "",
     "output_type": "error",
     "traceback": [
      "\u001b[1;31m---------------------------------------------------------------------------\u001b[0m",
      "\u001b[1;31mBdbQuit\u001b[0m                                   Traceback (most recent call last)",
      "\u001b[1;32m~\\AppData\\Local\\Temp\\ipykernel_15276\\3375203298.py\u001b[0m in \u001b[0;36m<module>\u001b[1;34m\u001b[0m\n\u001b[1;32m----> 1\u001b[1;33m \u001b[0mimg_b\u001b[0m\u001b[1;33m,\u001b[0m\u001b[0mmask_b\u001b[0m\u001b[1;33m,\u001b[0m\u001b[0mzoom_b\u001b[0m\u001b[1;33m=\u001b[0m\u001b[0mnext\u001b[0m\u001b[1;33m(\u001b[0m\u001b[0miter\u001b[0m\u001b[1;33m(\u001b[0m\u001b[0mdl\u001b[0m\u001b[1;33m)\u001b[0m\u001b[1;33m)\u001b[0m\u001b[1;33m\u001b[0m\u001b[1;33m\u001b[0m\u001b[0m\n\u001b[0m",
      "\u001b[1;32mD:\\Anaconda3\\envs\\fastai2022\\lib\\site-packages\\torch\\utils\\data\\dataloader.py\u001b[0m in \u001b[0;36m__next__\u001b[1;34m(self)\u001b[0m\n\u001b[0;32m    679\u001b[0m                 \u001b[1;31m# TODO(https://github.com/pytorch/pytorch/issues/76750)\u001b[0m\u001b[1;33m\u001b[0m\u001b[1;33m\u001b[0m\u001b[1;33m\u001b[0m\u001b[0m\n\u001b[0;32m    680\u001b[0m                 \u001b[0mself\u001b[0m\u001b[1;33m.\u001b[0m\u001b[0m_reset\u001b[0m\u001b[1;33m(\u001b[0m\u001b[1;33m)\u001b[0m  \u001b[1;31m# type: ignore[call-arg]\u001b[0m\u001b[1;33m\u001b[0m\u001b[1;33m\u001b[0m\u001b[0m\n\u001b[1;32m--> 681\u001b[1;33m             \u001b[0mdata\u001b[0m \u001b[1;33m=\u001b[0m \u001b[0mself\u001b[0m\u001b[1;33m.\u001b[0m\u001b[0m_next_data\u001b[0m\u001b[1;33m(\u001b[0m\u001b[1;33m)\u001b[0m\u001b[1;33m\u001b[0m\u001b[1;33m\u001b[0m\u001b[0m\n\u001b[0m\u001b[0;32m    682\u001b[0m             \u001b[0mself\u001b[0m\u001b[1;33m.\u001b[0m\u001b[0m_num_yielded\u001b[0m \u001b[1;33m+=\u001b[0m \u001b[1;36m1\u001b[0m\u001b[1;33m\u001b[0m\u001b[1;33m\u001b[0m\u001b[0m\n\u001b[0;32m    683\u001b[0m             \u001b[1;32mif\u001b[0m \u001b[0mself\u001b[0m\u001b[1;33m.\u001b[0m\u001b[0m_dataset_kind\u001b[0m \u001b[1;33m==\u001b[0m \u001b[0m_DatasetKind\u001b[0m\u001b[1;33m.\u001b[0m\u001b[0mIterable\u001b[0m \u001b[1;32mand\u001b[0m\u001b[0;31m \u001b[0m\u001b[0;31m\\\u001b[0m\u001b[1;33m\u001b[0m\u001b[1;33m\u001b[0m\u001b[0m\n",
      "\u001b[1;32mD:\\Anaconda3\\envs\\fastai2022\\lib\\site-packages\\torch\\utils\\data\\dataloader.py\u001b[0m in \u001b[0;36m_next_data\u001b[1;34m(self)\u001b[0m\n\u001b[0;32m    719\u001b[0m     \u001b[1;32mdef\u001b[0m \u001b[0m_next_data\u001b[0m\u001b[1;33m(\u001b[0m\u001b[0mself\u001b[0m\u001b[1;33m)\u001b[0m\u001b[1;33m:\u001b[0m\u001b[1;33m\u001b[0m\u001b[1;33m\u001b[0m\u001b[0m\n\u001b[0;32m    720\u001b[0m         \u001b[0mindex\u001b[0m \u001b[1;33m=\u001b[0m \u001b[0mself\u001b[0m\u001b[1;33m.\u001b[0m\u001b[0m_next_index\u001b[0m\u001b[1;33m(\u001b[0m\u001b[1;33m)\u001b[0m  \u001b[1;31m# may raise StopIteration\u001b[0m\u001b[1;33m\u001b[0m\u001b[1;33m\u001b[0m\u001b[0m\n\u001b[1;32m--> 721\u001b[1;33m         \u001b[0mdata\u001b[0m \u001b[1;33m=\u001b[0m \u001b[0mself\u001b[0m\u001b[1;33m.\u001b[0m\u001b[0m_dataset_fetcher\u001b[0m\u001b[1;33m.\u001b[0m\u001b[0mfetch\u001b[0m\u001b[1;33m(\u001b[0m\u001b[0mindex\u001b[0m\u001b[1;33m)\u001b[0m  \u001b[1;31m# may raise StopIteration\u001b[0m\u001b[1;33m\u001b[0m\u001b[1;33m\u001b[0m\u001b[0m\n\u001b[0m\u001b[0;32m    722\u001b[0m         \u001b[1;32mif\u001b[0m \u001b[0mself\u001b[0m\u001b[1;33m.\u001b[0m\u001b[0m_pin_memory\u001b[0m\u001b[1;33m:\u001b[0m\u001b[1;33m\u001b[0m\u001b[1;33m\u001b[0m\u001b[0m\n\u001b[0;32m    723\u001b[0m             \u001b[0mdata\u001b[0m \u001b[1;33m=\u001b[0m \u001b[0m_utils\u001b[0m\u001b[1;33m.\u001b[0m\u001b[0mpin_memory\u001b[0m\u001b[1;33m.\u001b[0m\u001b[0mpin_memory\u001b[0m\u001b[1;33m(\u001b[0m\u001b[0mdata\u001b[0m\u001b[1;33m,\u001b[0m \u001b[0mself\u001b[0m\u001b[1;33m.\u001b[0m\u001b[0m_pin_memory_device\u001b[0m\u001b[1;33m)\u001b[0m\u001b[1;33m\u001b[0m\u001b[1;33m\u001b[0m\u001b[0m\n",
      "\u001b[1;32mD:\\Anaconda3\\envs\\fastai2022\\lib\\site-packages\\torch\\utils\\data\\_utils\\fetch.py\u001b[0m in \u001b[0;36mfetch\u001b[1;34m(self, possibly_batched_index)\u001b[0m\n\u001b[0;32m     47\u001b[0m     \u001b[1;32mdef\u001b[0m \u001b[0mfetch\u001b[0m\u001b[1;33m(\u001b[0m\u001b[0mself\u001b[0m\u001b[1;33m,\u001b[0m \u001b[0mpossibly_batched_index\u001b[0m\u001b[1;33m)\u001b[0m\u001b[1;33m:\u001b[0m\u001b[1;33m\u001b[0m\u001b[1;33m\u001b[0m\u001b[0m\n\u001b[0;32m     48\u001b[0m         \u001b[1;32mif\u001b[0m \u001b[0mself\u001b[0m\u001b[1;33m.\u001b[0m\u001b[0mauto_collation\u001b[0m\u001b[1;33m:\u001b[0m\u001b[1;33m\u001b[0m\u001b[1;33m\u001b[0m\u001b[0m\n\u001b[1;32m---> 49\u001b[1;33m             \u001b[0mdata\u001b[0m \u001b[1;33m=\u001b[0m \u001b[1;33m[\u001b[0m\u001b[0mself\u001b[0m\u001b[1;33m.\u001b[0m\u001b[0mdataset\u001b[0m\u001b[1;33m[\u001b[0m\u001b[0midx\u001b[0m\u001b[1;33m]\u001b[0m \u001b[1;32mfor\u001b[0m \u001b[0midx\u001b[0m \u001b[1;32min\u001b[0m \u001b[0mpossibly_batched_index\u001b[0m\u001b[1;33m]\u001b[0m\u001b[1;33m\u001b[0m\u001b[1;33m\u001b[0m\u001b[0m\n\u001b[0m\u001b[0;32m     50\u001b[0m         \u001b[1;32melse\u001b[0m\u001b[1;33m:\u001b[0m\u001b[1;33m\u001b[0m\u001b[1;33m\u001b[0m\u001b[0m\n\u001b[0;32m     51\u001b[0m             \u001b[0mdata\u001b[0m \u001b[1;33m=\u001b[0m \u001b[0mself\u001b[0m\u001b[1;33m.\u001b[0m\u001b[0mdataset\u001b[0m\u001b[1;33m[\u001b[0m\u001b[0mpossibly_batched_index\u001b[0m\u001b[1;33m]\u001b[0m\u001b[1;33m\u001b[0m\u001b[1;33m\u001b[0m\u001b[0m\n",
      "\u001b[1;32mD:\\Anaconda3\\envs\\fastai2022\\lib\\site-packages\\torch\\utils\\data\\_utils\\fetch.py\u001b[0m in \u001b[0;36m<listcomp>\u001b[1;34m(.0)\u001b[0m\n\u001b[0;32m     47\u001b[0m     \u001b[1;32mdef\u001b[0m \u001b[0mfetch\u001b[0m\u001b[1;33m(\u001b[0m\u001b[0mself\u001b[0m\u001b[1;33m,\u001b[0m \u001b[0mpossibly_batched_index\u001b[0m\u001b[1;33m)\u001b[0m\u001b[1;33m:\u001b[0m\u001b[1;33m\u001b[0m\u001b[1;33m\u001b[0m\u001b[0m\n\u001b[0;32m     48\u001b[0m         \u001b[1;32mif\u001b[0m \u001b[0mself\u001b[0m\u001b[1;33m.\u001b[0m\u001b[0mauto_collation\u001b[0m\u001b[1;33m:\u001b[0m\u001b[1;33m\u001b[0m\u001b[1;33m\u001b[0m\u001b[0m\n\u001b[1;32m---> 49\u001b[1;33m             \u001b[0mdata\u001b[0m \u001b[1;33m=\u001b[0m \u001b[1;33m[\u001b[0m\u001b[0mself\u001b[0m\u001b[1;33m.\u001b[0m\u001b[0mdataset\u001b[0m\u001b[1;33m[\u001b[0m\u001b[0midx\u001b[0m\u001b[1;33m]\u001b[0m \u001b[1;32mfor\u001b[0m \u001b[0midx\u001b[0m \u001b[1;32min\u001b[0m \u001b[0mpossibly_batched_index\u001b[0m\u001b[1;33m]\u001b[0m\u001b[1;33m\u001b[0m\u001b[1;33m\u001b[0m\u001b[0m\n\u001b[0m\u001b[0;32m     50\u001b[0m         \u001b[1;32melse\u001b[0m\u001b[1;33m:\u001b[0m\u001b[1;33m\u001b[0m\u001b[1;33m\u001b[0m\u001b[0m\n\u001b[0;32m     51\u001b[0m             \u001b[0mdata\u001b[0m \u001b[1;33m=\u001b[0m \u001b[0mself\u001b[0m\u001b[1;33m.\u001b[0m\u001b[0mdataset\u001b[0m\u001b[1;33m[\u001b[0m\u001b[0mpossibly_batched_index\u001b[0m\u001b[1;33m]\u001b[0m\u001b[1;33m\u001b[0m\u001b[1;33m\u001b[0m\u001b[0m\n",
      "\u001b[1;32m~\\AppData\\Local\\Temp\\ipykernel_15276\\2884693963.py\u001b[0m in \u001b[0;36m__getitem__\u001b[1;34m(self, index)\u001b[0m\n\u001b[0;32m    155\u001b[0m \u001b[1;33m\u001b[0m\u001b[0m\n\u001b[0;32m    156\u001b[0m \u001b[1;33m\u001b[0m\u001b[0m\n\u001b[1;32m--> 157\u001b[1;33m         \u001b[0mclass_wise_masks\u001b[0m\u001b[1;33m=\u001b[0m\u001b[0mimage_anno_data\u001b[0m\u001b[1;33m.\u001b[0m\u001b[0mgroupby\u001b[0m\u001b[1;33m(\u001b[0m\u001b[1;34m'class_name'\u001b[0m\u001b[1;33m)\u001b[0m\u001b[1;33m.\u001b[0m\u001b[0mapply\u001b[0m\u001b[1;33m(\u001b[0m\u001b[0mget_classwise_masks\u001b[0m\u001b[1;33m)\u001b[0m\u001b[1;33m\u001b[0m\u001b[1;33m\u001b[0m\u001b[0m\n\u001b[0m\u001b[0;32m    158\u001b[0m \u001b[1;33m\u001b[0m\u001b[0m\n\u001b[0;32m    159\u001b[0m \u001b[1;33m\u001b[0m\u001b[0m\n",
      "\u001b[1;32mD:\\Anaconda3\\envs\\fastai2022\\lib\\site-packages\\pandas\\core\\groupby\\groupby.py\u001b[0m in \u001b[0;36mapply\u001b[1;34m(self, func, *args, **kwargs)\u001b[0m\n\u001b[0;32m   1273\u001b[0m         \u001b[1;32mwith\u001b[0m \u001b[0moption_context\u001b[0m\u001b[1;33m(\u001b[0m\u001b[1;34m\"mode.chained_assignment\"\u001b[0m\u001b[1;33m,\u001b[0m \u001b[1;32mNone\u001b[0m\u001b[1;33m)\u001b[0m\u001b[1;33m:\u001b[0m\u001b[1;33m\u001b[0m\u001b[1;33m\u001b[0m\u001b[0m\n\u001b[0;32m   1274\u001b[0m             \u001b[1;32mtry\u001b[0m\u001b[1;33m:\u001b[0m\u001b[1;33m\u001b[0m\u001b[1;33m\u001b[0m\u001b[0m\n\u001b[1;32m-> 1275\u001b[1;33m                 \u001b[0mresult\u001b[0m \u001b[1;33m=\u001b[0m \u001b[0mself\u001b[0m\u001b[1;33m.\u001b[0m\u001b[0m_python_apply_general\u001b[0m\u001b[1;33m(\u001b[0m\u001b[0mf\u001b[0m\u001b[1;33m,\u001b[0m \u001b[0mself\u001b[0m\u001b[1;33m.\u001b[0m\u001b[0m_selected_obj\u001b[0m\u001b[1;33m)\u001b[0m\u001b[1;33m\u001b[0m\u001b[1;33m\u001b[0m\u001b[0m\n\u001b[0m\u001b[0;32m   1276\u001b[0m             \u001b[1;32mexcept\u001b[0m \u001b[0mTypeError\u001b[0m\u001b[1;33m:\u001b[0m\u001b[1;33m\u001b[0m\u001b[1;33m\u001b[0m\u001b[0m\n\u001b[0;32m   1277\u001b[0m                 \u001b[1;31m# gh-20949\u001b[0m\u001b[1;33m\u001b[0m\u001b[1;33m\u001b[0m\u001b[1;33m\u001b[0m\u001b[0m\n",
      "\u001b[1;32mD:\\Anaconda3\\envs\\fastai2022\\lib\\site-packages\\pandas\\core\\groupby\\groupby.py\u001b[0m in \u001b[0;36m_python_apply_general\u001b[1;34m(self, f, data)\u001b[0m\n\u001b[0;32m   1307\u001b[0m             \u001b[0mdata\u001b[0m \u001b[0mafter\u001b[0m \u001b[0mapplying\u001b[0m \u001b[0mf\u001b[0m\u001b[1;33m\u001b[0m\u001b[1;33m\u001b[0m\u001b[0m\n\u001b[0;32m   1308\u001b[0m         \"\"\"\n\u001b[1;32m-> 1309\u001b[1;33m         \u001b[0mkeys\u001b[0m\u001b[1;33m,\u001b[0m \u001b[0mvalues\u001b[0m\u001b[1;33m,\u001b[0m \u001b[0mmutated\u001b[0m \u001b[1;33m=\u001b[0m \u001b[0mself\u001b[0m\u001b[1;33m.\u001b[0m\u001b[0mgrouper\u001b[0m\u001b[1;33m.\u001b[0m\u001b[0mapply\u001b[0m\u001b[1;33m(\u001b[0m\u001b[0mf\u001b[0m\u001b[1;33m,\u001b[0m \u001b[0mdata\u001b[0m\u001b[1;33m,\u001b[0m \u001b[0mself\u001b[0m\u001b[1;33m.\u001b[0m\u001b[0maxis\u001b[0m\u001b[1;33m)\u001b[0m\u001b[1;33m\u001b[0m\u001b[1;33m\u001b[0m\u001b[0m\n\u001b[0m\u001b[0;32m   1310\u001b[0m \u001b[1;33m\u001b[0m\u001b[0m\n\u001b[0;32m   1311\u001b[0m         return self._wrap_applied_output(\n",
      "\u001b[1;32mD:\\Anaconda3\\envs\\fastai2022\\lib\\site-packages\\pandas\\core\\groupby\\ops.py\u001b[0m in \u001b[0;36mapply\u001b[1;34m(self, f, data, axis)\u001b[0m\n\u001b[0;32m    813\u001b[0m             \u001b[1;32mtry\u001b[0m\u001b[1;33m:\u001b[0m\u001b[1;33m\u001b[0m\u001b[1;33m\u001b[0m\u001b[0m\n\u001b[0;32m    814\u001b[0m                 \u001b[0msdata\u001b[0m \u001b[1;33m=\u001b[0m \u001b[0msplitter\u001b[0m\u001b[1;33m.\u001b[0m\u001b[0msorted_data\u001b[0m\u001b[1;33m\u001b[0m\u001b[1;33m\u001b[0m\u001b[0m\n\u001b[1;32m--> 815\u001b[1;33m                 \u001b[0mresult_values\u001b[0m\u001b[1;33m,\u001b[0m \u001b[0mmutated\u001b[0m \u001b[1;33m=\u001b[0m \u001b[0msplitter\u001b[0m\u001b[1;33m.\u001b[0m\u001b[0mfast_apply\u001b[0m\u001b[1;33m(\u001b[0m\u001b[0mf\u001b[0m\u001b[1;33m,\u001b[0m \u001b[0msdata\u001b[0m\u001b[1;33m,\u001b[0m \u001b[0mgroup_keys\u001b[0m\u001b[1;33m)\u001b[0m\u001b[1;33m\u001b[0m\u001b[1;33m\u001b[0m\u001b[0m\n\u001b[0m\u001b[0;32m    816\u001b[0m \u001b[1;33m\u001b[0m\u001b[0m\n\u001b[0;32m    817\u001b[0m             \u001b[1;32mexcept\u001b[0m \u001b[0mIndexError\u001b[0m\u001b[1;33m:\u001b[0m\u001b[1;33m\u001b[0m\u001b[1;33m\u001b[0m\u001b[0m\n",
      "\u001b[1;32mD:\\Anaconda3\\envs\\fastai2022\\lib\\site-packages\\pandas\\core\\groupby\\ops.py\u001b[0m in \u001b[0;36mfast_apply\u001b[1;34m(self, f, sdata, names)\u001b[0m\n\u001b[0;32m   1358\u001b[0m         \u001b[1;31m# must return keys::list, values::list, mutated::bool\u001b[0m\u001b[1;33m\u001b[0m\u001b[1;33m\u001b[0m\u001b[1;33m\u001b[0m\u001b[0m\n\u001b[0;32m   1359\u001b[0m         \u001b[0mstarts\u001b[0m\u001b[1;33m,\u001b[0m \u001b[0mends\u001b[0m \u001b[1;33m=\u001b[0m \u001b[0mlib\u001b[0m\u001b[1;33m.\u001b[0m\u001b[0mgenerate_slices\u001b[0m\u001b[1;33m(\u001b[0m\u001b[0mself\u001b[0m\u001b[1;33m.\u001b[0m\u001b[0mslabels\u001b[0m\u001b[1;33m,\u001b[0m \u001b[0mself\u001b[0m\u001b[1;33m.\u001b[0m\u001b[0mngroups\u001b[0m\u001b[1;33m)\u001b[0m\u001b[1;33m\u001b[0m\u001b[1;33m\u001b[0m\u001b[0m\n\u001b[1;32m-> 1360\u001b[1;33m         \u001b[1;32mreturn\u001b[0m \u001b[0mlibreduction\u001b[0m\u001b[1;33m.\u001b[0m\u001b[0mapply_frame_axis0\u001b[0m\u001b[1;33m(\u001b[0m\u001b[0msdata\u001b[0m\u001b[1;33m,\u001b[0m \u001b[0mf\u001b[0m\u001b[1;33m,\u001b[0m \u001b[0mnames\u001b[0m\u001b[1;33m,\u001b[0m \u001b[0mstarts\u001b[0m\u001b[1;33m,\u001b[0m \u001b[0mends\u001b[0m\u001b[1;33m)\u001b[0m\u001b[1;33m\u001b[0m\u001b[1;33m\u001b[0m\u001b[0m\n\u001b[0m\u001b[0;32m   1361\u001b[0m \u001b[1;33m\u001b[0m\u001b[0m\n\u001b[0;32m   1362\u001b[0m     \u001b[1;32mdef\u001b[0m \u001b[0m_chop\u001b[0m\u001b[1;33m(\u001b[0m\u001b[0mself\u001b[0m\u001b[1;33m,\u001b[0m \u001b[0msdata\u001b[0m\u001b[1;33m:\u001b[0m \u001b[0mDataFrame\u001b[0m\u001b[1;33m,\u001b[0m \u001b[0mslice_obj\u001b[0m\u001b[1;33m:\u001b[0m \u001b[0mslice\u001b[0m\u001b[1;33m)\u001b[0m \u001b[1;33m->\u001b[0m \u001b[0mDataFrame\u001b[0m\u001b[1;33m:\u001b[0m\u001b[1;33m\u001b[0m\u001b[1;33m\u001b[0m\u001b[0m\n",
      "\u001b[1;32mD:\\Anaconda3\\envs\\fastai2022\\lib\\site-packages\\pandas\\_libs\\reduction.pyx\u001b[0m in \u001b[0;36mpandas._libs.reduction.apply_frame_axis0\u001b[1;34m()\u001b[0m\n",
      "\u001b[1;32m~\\AppData\\Local\\Temp\\ipykernel_15276\\2884693963.py\u001b[0m in \u001b[0;36mget_mask_per_class\u001b[1;34m(self, class_annotation_data, crop, downsample_factor)\u001b[0m\n\u001b[0;32m     97\u001b[0m \u001b[1;33m\u001b[0m\u001b[0m\n\u001b[0;32m     98\u001b[0m         \u001b[0mpdb\u001b[0m\u001b[1;33m.\u001b[0m\u001b[0mset_trace\u001b[0m\u001b[1;33m(\u001b[0m\u001b[1;33m)\u001b[0m\u001b[1;33m\u001b[0m\u001b[1;33m\u001b[0m\u001b[0m\n\u001b[1;32m---> 99\u001b[1;33m         intersects=[((np.array(crop_poly.intersection(poly).exterior.coords)-top_left)//\n\u001b[0m\u001b[0;32m    100\u001b[0m                      downsample_factor).astype(np.int32)\n\u001b[0;32m    101\u001b[0m             for poly in class_annotation_data['polygon'] if crop_poly.intersects(poly)]\n",
      "\u001b[1;32m~\\AppData\\Local\\Temp\\ipykernel_15276\\2884693963.py\u001b[0m in \u001b[0;36mget_mask_per_class\u001b[1;34m(self, class_annotation_data, crop, downsample_factor)\u001b[0m\n\u001b[0;32m     97\u001b[0m \u001b[1;33m\u001b[0m\u001b[0m\n\u001b[0;32m     98\u001b[0m         \u001b[0mpdb\u001b[0m\u001b[1;33m.\u001b[0m\u001b[0mset_trace\u001b[0m\u001b[1;33m(\u001b[0m\u001b[1;33m)\u001b[0m\u001b[1;33m\u001b[0m\u001b[1;33m\u001b[0m\u001b[0m\n\u001b[1;32m---> 99\u001b[1;33m         intersects=[((np.array(crop_poly.intersection(poly).exterior.coords)-top_left)//\n\u001b[0m\u001b[0;32m    100\u001b[0m                      downsample_factor).astype(np.int32)\n\u001b[0;32m    101\u001b[0m             for poly in class_annotation_data['polygon'] if crop_poly.intersects(poly)]\n",
      "\u001b[1;32mD:\\Anaconda3\\envs\\fastai2022\\lib\\bdb.py\u001b[0m in \u001b[0;36mtrace_dispatch\u001b[1;34m(self, frame, event, arg)\u001b[0m\n\u001b[0;32m     86\u001b[0m             \u001b[1;32mreturn\u001b[0m \u001b[1;31m# None\u001b[0m\u001b[1;33m\u001b[0m\u001b[1;33m\u001b[0m\u001b[0m\n\u001b[0;32m     87\u001b[0m         \u001b[1;32mif\u001b[0m \u001b[0mevent\u001b[0m \u001b[1;33m==\u001b[0m \u001b[1;34m'line'\u001b[0m\u001b[1;33m:\u001b[0m\u001b[1;33m\u001b[0m\u001b[1;33m\u001b[0m\u001b[0m\n\u001b[1;32m---> 88\u001b[1;33m             \u001b[1;32mreturn\u001b[0m \u001b[0mself\u001b[0m\u001b[1;33m.\u001b[0m\u001b[0mdispatch_line\u001b[0m\u001b[1;33m(\u001b[0m\u001b[0mframe\u001b[0m\u001b[1;33m)\u001b[0m\u001b[1;33m\u001b[0m\u001b[1;33m\u001b[0m\u001b[0m\n\u001b[0m\u001b[0;32m     89\u001b[0m         \u001b[1;32mif\u001b[0m \u001b[0mevent\u001b[0m \u001b[1;33m==\u001b[0m \u001b[1;34m'call'\u001b[0m\u001b[1;33m:\u001b[0m\u001b[1;33m\u001b[0m\u001b[1;33m\u001b[0m\u001b[0m\n\u001b[0;32m     90\u001b[0m             \u001b[1;32mreturn\u001b[0m \u001b[0mself\u001b[0m\u001b[1;33m.\u001b[0m\u001b[0mdispatch_call\u001b[0m\u001b[1;33m(\u001b[0m\u001b[0mframe\u001b[0m\u001b[1;33m,\u001b[0m \u001b[0marg\u001b[0m\u001b[1;33m)\u001b[0m\u001b[1;33m\u001b[0m\u001b[1;33m\u001b[0m\u001b[0m\n",
      "\u001b[1;32mD:\\Anaconda3\\envs\\fastai2022\\lib\\bdb.py\u001b[0m in \u001b[0;36mdispatch_line\u001b[1;34m(self, frame)\u001b[0m\n\u001b[0;32m    111\u001b[0m         \u001b[1;32mif\u001b[0m \u001b[0mself\u001b[0m\u001b[1;33m.\u001b[0m\u001b[0mstop_here\u001b[0m\u001b[1;33m(\u001b[0m\u001b[0mframe\u001b[0m\u001b[1;33m)\u001b[0m \u001b[1;32mor\u001b[0m \u001b[0mself\u001b[0m\u001b[1;33m.\u001b[0m\u001b[0mbreak_here\u001b[0m\u001b[1;33m(\u001b[0m\u001b[0mframe\u001b[0m\u001b[1;33m)\u001b[0m\u001b[1;33m:\u001b[0m\u001b[1;33m\u001b[0m\u001b[1;33m\u001b[0m\u001b[0m\n\u001b[0;32m    112\u001b[0m             \u001b[0mself\u001b[0m\u001b[1;33m.\u001b[0m\u001b[0muser_line\u001b[0m\u001b[1;33m(\u001b[0m\u001b[0mframe\u001b[0m\u001b[1;33m)\u001b[0m\u001b[1;33m\u001b[0m\u001b[1;33m\u001b[0m\u001b[0m\n\u001b[1;32m--> 113\u001b[1;33m             \u001b[1;32mif\u001b[0m \u001b[0mself\u001b[0m\u001b[1;33m.\u001b[0m\u001b[0mquitting\u001b[0m\u001b[1;33m:\u001b[0m \u001b[1;32mraise\u001b[0m \u001b[0mBdbQuit\u001b[0m\u001b[1;33m\u001b[0m\u001b[1;33m\u001b[0m\u001b[0m\n\u001b[0m\u001b[0;32m    114\u001b[0m         \u001b[1;32mreturn\u001b[0m \u001b[0mself\u001b[0m\u001b[1;33m.\u001b[0m\u001b[0mtrace_dispatch\u001b[0m\u001b[1;33m\u001b[0m\u001b[1;33m\u001b[0m\u001b[0m\n\u001b[0;32m    115\u001b[0m \u001b[1;33m\u001b[0m\u001b[0m\n",
      "\u001b[1;31mBdbQuit\u001b[0m: "
     ]
    }
   ],
   "source": [
    "img_b,mask_b,zoom_b=next(iter(dl))"
   ]
  },
  {
   "cell_type": "code",
   "execution_count": 24,
   "id": "63eaaeb0-0adf-4a94-a13e-58d7c62b92cd",
   "metadata": {},
   "outputs": [],
   "source": [
    "t=torch.tensor(np.array(img))[:,:,:-1].permute(2,0,1)"
   ]
  },
  {
   "cell_type": "code",
   "execution_count": 17,
   "id": "7d41ea93-c8f2-4db1-9cee-f47ec08d8713",
   "metadata": {},
   "outputs": [
    {
     "data": {
      "text/plain": [
       "torch.Size([2, 3, 256, 256])"
      ]
     },
     "execution_count": 17,
     "metadata": {},
     "output_type": "execute_result"
    }
   ],
   "source": [
    "img_b.shape"
   ]
  },
  {
   "cell_type": "code",
   "execution_count": 18,
   "id": "526be13f-9a33-4f75-93d0-5fa440cf6c73",
   "metadata": {},
   "outputs": [
    {
     "data": {
      "text/plain": [
       "tensor([[5],\n",
       "        [3]])"
      ]
     },
     "execution_count": 18,
     "metadata": {},
     "output_type": "execute_result"
    }
   ],
   "source": [
    "zoom_b"
   ]
  },
  {
   "cell_type": "code",
   "execution_count": null,
   "id": "dd02a978-b667-4c42-87cc-37008d8a586c",
   "metadata": {},
   "outputs": [],
   "source": []
  },
  {
   "cell_type": "code",
   "execution_count": 26,
   "id": "7d4e0998-d5ea-4927-820c-b63835ba6538",
   "metadata": {},
   "outputs": [
    {
     "data": {
      "text/plain": [
       "torch.Size([3, 256, 256])"
      ]
     },
     "execution_count": 26,
     "metadata": {},
     "output_type": "execute_result"
    }
   ],
   "source": [
    "t.permute(2,0,1).shape"
   ]
  },
  {
   "cell_type": "code",
   "execution_count": null,
   "id": "8a8c7b52-e4bc-4738-a73e-c8c28a4d1c2a",
   "metadata": {},
   "outputs": [],
   "source": []
  },
  {
   "cell_type": "code",
   "execution_count": null,
   "id": "70adc817-8bc4-44b2-b0b9-db157fa3b12f",
   "metadata": {},
   "outputs": [],
   "source": []
  },
  {
   "cell_type": "code",
   "execution_count": null,
   "id": "4b73ac38-3ad8-446f-8315-99afdf1cb308",
   "metadata": {},
   "outputs": [],
   "source": []
  },
  {
   "cell_type": "code",
   "execution_count": null,
   "id": "492eca47-71e5-4468-b5c3-19d5ccd16c26",
   "metadata": {},
   "outputs": [],
   "source": []
  },
  {
   "cell_type": "code",
   "execution_count": null,
   "id": "cef5abe7-6d05-4cb5-87d2-8ffceafda86c",
   "metadata": {},
   "outputs": [],
   "source": []
  },
  {
   "cell_type": "code",
   "execution_count": null,
   "id": "d92e553d-7398-4550-af87-9caa8a44c375",
   "metadata": {},
   "outputs": [],
   "source": []
  },
  {
   "cell_type": "code",
   "execution_count": 12,
   "id": "3c43f281-1737-4e9c-8cdd-c13e5b238812",
   "metadata": {
    "tags": []
   },
   "outputs": [
    {
     "name": "stderr",
     "output_type": "stream",
     "text": [
      "D:\\Projects_2023\\morphle_wsi_scans\\dataloading\\src\\wsi_datasets.py:116: UserWarning: __floordiv__ is deprecated, and its behavior will change in a future version of pytorch. It currently rounds toward 0 (like the 'trunc' function NOT 'floor'). This results in incorrect rounding for negative values. To keep the current behavior, use torch.div(a, b, rounding_mode='trunc'), or for actual floor division, use torch.div(a, b, rounding_mode='floor').\n",
      "  offsets=torch.tensor(self.crop_pixel_size)//2\n"
     ]
    }
   ],
   "source": [
    "img,mask,zoom_level=ds[4]"
   ]
  },
  {
   "cell_type": "code",
   "execution_count": 18,
   "id": "341463af-9de1-4a9c-a8c9-d197e5fc71d7",
   "metadata": {},
   "outputs": [
    {
     "data": {
      "text/plain": [
       "(256, 256, 3)"
      ]
     },
     "execution_count": 18,
     "metadata": {},
     "output_type": "execute_result"
    }
   ],
   "source": [
    "np.array(img)[:,:,:-1].shape"
   ]
  },
  {
   "cell_type": "code",
   "execution_count": 73,
   "id": "7112e83f-c8d6-4715-b066-d26507259738",
   "metadata": {},
   "outputs": [
    {
     "data": {
      "image/png": "[encoded data removed]",
      "text/plain": [
       "<PIL.Image.Image image mode=RGBA size=256x256>"
      ]
     },
     "execution_count": 73,
     "metadata": {},
     "output_type": "execute_result"
    }
   ],
   "source": [
    "img"
   ]
  },
  {
   "cell_type": "code",
   "execution_count": 74,
   "id": "f83276ba-c5f3-4cde-ad99-303d6298b778",
   "metadata": {
    "tags": []
   },
   "outputs": [
    {
     "data": {
      "text/plain": [
       "<matplotlib.image.AxesImage at 0x1c2caf42548>"
      ]
     },
     "execution_count": 74,
     "metadata": {},
     "output_type": "execute_result"
    },
    {
     "data": {
      "image/png": "[encoded data removed]",
      "text/plain": [
       "<Figure size 432x288 with 1 Axes>"
      ]
     },
     "metadata": {
      "needs_background": "light"
     },
     "output_type": "display_data"
    }
   ],
   "source": [
    "plt.imshow(mask)"
   ]
  },
  {
   "cell_type": "code",
   "execution_count": 30,
   "id": "50cc9a55-4cdf-4704-b7e2-d72cfd383b5b",
   "metadata": {},
   "outputs": [],
   "source": [
    "import matplotlib.pyplot as plt"
   ]
  },
  {
   "cell_type": "code",
   "execution_count": 32,
   "id": "42705c6c-007d-41ff-8680-f71316414c72",
   "metadata": {},
   "outputs": [
    {
     "data": {
      "text/plain": [
       "torch.return_types.max(\n",
       "values=tensor([[2, 2, 2,  ..., 2, 2, 2],\n",
       "        [2, 2, 2,  ..., 2, 2, 2],\n",
       "        [2, 2, 2,  ..., 2, 2, 2],\n",
       "        ...,\n",
       "        [0, 0, 0,  ..., 0, 0, 0],\n",
       "        [0, 0, 0,  ..., 0, 0, 0],\n",
       "        [0, 0, 0,  ..., 0, 0, 0]], dtype=torch.uint8),\n",
       "indices=tensor([[1, 1, 1,  ..., 1, 1, 1],\n",
       "        [1, 1, 1,  ..., 1, 1, 1],\n",
       "        [1, 1, 1,  ..., 1, 1, 1],\n",
       "        ...,\n",
       "        [0, 0, 0,  ..., 0, 0, 0],\n",
       "        [0, 0, 0,  ..., 0, 0, 0],\n",
       "        [0, 0, 0,  ..., 0, 0, 0]]))"
      ]
     },
     "execution_count": 32,
     "metadata": {},
     "output_type": "execute_result"
    }
   ],
   "source": [
    "mask"
   ]
  },
  {
   "cell_type": "code",
   "execution_count": null,
   "id": "85c0a6b7-c319-41f6-96ad-db8ec25aeb99",
   "metadata": {},
   "outputs": [],
   "source": []
  },
  {
   "cell_type": "code",
   "execution_count": null,
   "id": "afb64ef0-fd2a-4b23-9dab-e0b127fec62c",
   "metadata": {},
   "outputs": [],
   "source": []
  },
  {
   "cell_type": "code",
   "execution_count": 15,
   "id": "96c8c9e9-bce6-4541-a909-cf3f0e317a04",
   "metadata": {},
   "outputs": [
    {
     "data": {
      "text/plain": [
       "(1, 2)"
      ]
     },
     "execution_count": 15,
     "metadata": {},
     "output_type": "execute_result"
    }
   ],
   "source": [
    "tuple(np.array([1,2]))"
   ]
  },
  {
   "cell_type": "code",
   "execution_count": 287,
   "id": "5d900946-e35d-4e67-89bf-4c744732712c",
   "metadata": {},
   "outputs": [
    {
     "data": {
      "text/plain": [
       "1.0"
      ]
     },
     "execution_count": 287,
     "metadata": {},
     "output_type": "execute_result"
    }
   ],
   "source": [
    "d_factor"
   ]
  },
  {
   "cell_type": "code",
   "execution_count": 286,
   "id": "7cea1d37-00a8-4241-af81-44f779d8a026",
   "metadata": {},
   "outputs": [
    {
     "data": {
      "text/plain": [
       "<matplotlib.image.AxesImage at 0x167d415af48>"
      ]
     },
     "execution_count": 286,
     "metadata": {},
     "output_type": "execute_result"
    },
    {
     "data": {
      "image/png": "[encoded data removed]",
      "text/plain": [
       "<Figure size 432x288 with 1 Axes>"
      ]
     },
     "metadata": {
      "needs_background": "light"
     },
     "output_type": "display_data"
    }
   ],
   "source": [
    "plt.imshow(mask.values)"
   ]
  },
  {
   "cell_type": "code",
   "execution_count": null,
   "id": "c06c3858-96a0-4f8a-8158-ebd7e03995b9",
   "metadata": {},
   "outputs": [],
   "source": []
  },
  {
   "cell_type": "code",
   "execution_count": 252,
   "id": "4d87c811-c41d-4839-ba03-4dfff5aeec1d",
   "metadata": {
    "collapsed": true,
    "jupyter": {
     "outputs_hidden": true
    },
    "tags": []
   },
   "outputs": [
    {
     "data": {
      "text/plain": [
       "[array([[203,  32],\n",
       "        [200,  33],\n",
       "        [196,  33],\n",
       "        [192,  34],\n",
       "        [187,  35],\n",
       "        [182,  37],\n",
       "        [177,  39],\n",
       "        [168,  44],\n",
       "        [165,  46],\n",
       "        [162,  49],\n",
       "        [159,  52],\n",
       "        [157,  54],\n",
       "        [152,  67],\n",
       "        [153,  82],\n",
       "        [154,  84],\n",
       "        [155,  84],\n",
       "        [157,  84],\n",
       "        [157,  84],\n",
       "        [159,  84],\n",
       "        [160,  83],\n",
       "        [161,  83],\n",
       "        [161,  83],\n",
       "        [162,  83],\n",
       "        [162,  82],\n",
       "        [162,  82],\n",
       "        [163,  82],\n",
       "        [164,  82],\n",
       "        [165,  82],\n",
       "        [173,  82],\n",
       "        [174,  82],\n",
       "        [177,  82],\n",
       "        [177,  82],\n",
       "        [179,  82],\n",
       "        [180,  83],\n",
       "        [180,  83],\n",
       "        [182,  83],\n",
       "        [183,  84],\n",
       "        [184,  84],\n",
       "        [185,  84],\n",
       "        [186,  85],\n",
       "        [186,  85],\n",
       "        [186,  86],\n",
       "        [187,  86],\n",
       "        [187,  86],\n",
       "        [187,  86],\n",
       "        [187,  87],\n",
       "        [187,  87],\n",
       "        [187,  88],\n",
       "        [187,  88],\n",
       "        [187,  89],\n",
       "        [187,  89],\n",
       "        [187,  90],\n",
       "        [187,  91],\n",
       "        [187,  91],\n",
       "        [187,  92],\n",
       "        [187,  92],\n",
       "        [187,  93],\n",
       "        [187,  93],\n",
       "        [187,  94],\n",
       "        [187,  95],\n",
       "        [187,  96],\n",
       "        [187,  97],\n",
       "        [186,  97],\n",
       "        [186,  98],\n",
       "        [186, 100],\n",
       "        [186, 100],\n",
       "        [186, 101],\n",
       "        [185, 102],\n",
       "        [185, 103],\n",
       "        [185, 103],\n",
       "        [184, 104],\n",
       "        [184, 105],\n",
       "        [184, 105],\n",
       "        [184, 105],\n",
       "        [184, 106],\n",
       "        [184, 107],\n",
       "        [183, 107],\n",
       "        [183, 108],\n",
       "        [183, 109],\n",
       "        [182, 110],\n",
       "        [182, 111],\n",
       "        [181, 113],\n",
       "        [180, 114],\n",
       "        [180, 115],\n",
       "        [180, 115],\n",
       "        [179, 116],\n",
       "        [179, 116],\n",
       "        [179, 116],\n",
       "        [179, 117],\n",
       "        [179, 117],\n",
       "        [178, 117],\n",
       "        [178, 118],\n",
       "        [176, 118],\n",
       "        [175, 118],\n",
       "        [174, 119],\n",
       "        [167, 119],\n",
       "        [166, 119],\n",
       "        [163, 119],\n",
       "        [162, 120],\n",
       "        [160, 120],\n",
       "        [159, 120],\n",
       "        [157, 121],\n",
       "        [155, 121],\n",
       "        [155, 121],\n",
       "        [154, 122],\n",
       "        [153, 123],\n",
       "        [152, 123],\n",
       "        [151, 123],\n",
       "        [150, 124],\n",
       "        [149, 125],\n",
       "        [147, 126],\n",
       "        [146, 126],\n",
       "        [146, 127],\n",
       "        [145, 127],\n",
       "        [144, 128],\n",
       "        [144, 128],\n",
       "        [143, 129],\n",
       "        [142, 129],\n",
       "        [142, 130],\n",
       "        [142, 130],\n",
       "        [142, 131],\n",
       "        [142, 131],\n",
       "        [142, 132],\n",
       "        [142, 132],\n",
       "        [142, 132],\n",
       "        [142, 133],\n",
       "        [142, 133],\n",
       "        [142, 134],\n",
       "        [142, 134],\n",
       "        [142, 134],\n",
       "        [142, 135],\n",
       "        [143, 137],\n",
       "        [145, 139],\n",
       "        [146, 140],\n",
       "        [147, 140],\n",
       "        [148, 141],\n",
       "        [149, 142],\n",
       "        [150, 143],\n",
       "        [152, 144],\n",
       "        [153, 145],\n",
       "        [154, 145],\n",
       "        [155, 146],\n",
       "        [156, 146],\n",
       "        [157, 148],\n",
       "        [158, 148],\n",
       "        [160, 148],\n",
       "        [161, 149],\n",
       "        [163, 150],\n",
       "        [165, 150],\n",
       "        [168, 151],\n",
       "        [177, 151],\n",
       "        [177, 151],\n",
       "        [179, 151],\n",
       "        [180, 150],\n",
       "        [183, 150],\n",
       "        [186, 150],\n",
       "        [190, 149],\n",
       "        [193, 149],\n",
       "        [195, 148],\n",
       "        [197, 148],\n",
       "        [198, 148],\n",
       "        [198, 148],\n",
       "        [199, 147],\n",
       "        [201, 147],\n",
       "        [202, 147],\n",
       "        [203, 146],\n",
       "        [205, 146],\n",
       "        [207, 145],\n",
       "        [208, 144],\n",
       "        [208, 144],\n",
       "        [208, 144],\n",
       "        [209, 144],\n",
       "        [209, 143],\n",
       "        [209, 143],\n",
       "        [210, 143],\n",
       "        [210, 143],\n",
       "        [211, 142],\n",
       "        [211, 142],\n",
       "        [211, 142],\n",
       "        [212, 141],\n",
       "        [213, 141],\n",
       "        [214, 139],\n",
       "        [216, 136],\n",
       "        [220, 134],\n",
       "        [223, 131],\n",
       "        [226, 128],\n",
       "        [227, 127],\n",
       "        [228, 126],\n",
       "        [229, 126],\n",
       "        [229, 125],\n",
       "        [230, 125],\n",
       "        [231, 124],\n",
       "        [231, 123],\n",
       "        [232, 123],\n",
       "        [232, 122],\n",
       "        [232, 122],\n",
       "        [233, 121],\n",
       "        [234, 121],\n",
       "        [234, 120],\n",
       "        [235, 119],\n",
       "        [236, 118],\n",
       "        [237, 117],\n",
       "        [237, 116],\n",
       "        [238, 115],\n",
       "        [238, 114],\n",
       "        [239, 114],\n",
       "        [239, 113],\n",
       "        [240, 112],\n",
       "        [241, 111],\n",
       "        [241, 110],\n",
       "        [242, 109],\n",
       "        [242, 109],\n",
       "        [242, 108],\n",
       "        [242, 108],\n",
       "        [243, 107],\n",
       "        [243, 107],\n",
       "        [243, 106],\n",
       "        [243, 105],\n",
       "        [244, 103],\n",
       "        [244, 102],\n",
       "        [245, 101],\n",
       "        [245,  99],\n",
       "        [246,  98],\n",
       "        [246,  95],\n",
       "        [246,  93],\n",
       "        [246,  92],\n",
       "        [246,  91],\n",
       "        [246,  89],\n",
       "        [246,  88],\n",
       "        [246,  87],\n",
       "        [246,  87],\n",
       "        [246,  86],\n",
       "        [246,  86],\n",
       "        [246,  85],\n",
       "        [246,  84],\n",
       "        [246,  83],\n",
       "        [246,  82],\n",
       "        [246,  82],\n",
       "        [246,  82],\n",
       "        [246,  80],\n",
       "        [246,  80],\n",
       "        [246,  78],\n",
       "        [246,  77],\n",
       "        [246,  77],\n",
       "        [246,  76],\n",
       "        [246,  75],\n",
       "        [246,  75],\n",
       "        [246,  73],\n",
       "        [246,  73],\n",
       "        [245,  69],\n",
       "        [245,  68],\n",
       "        [245,  66],\n",
       "        [245,  65],\n",
       "        [245,  64],\n",
       "        [245,  63],\n",
       "        [244,  62],\n",
       "        [244,  61],\n",
       "        [244,  60],\n",
       "        [243,  57],\n",
       "        [242,  54],\n",
       "        [241,  52],\n",
       "        [239,  48],\n",
       "        [238,  46],\n",
       "        [236,  44],\n",
       "        [234,  43],\n",
       "        [232,  41],\n",
       "        [230,  39],\n",
       "        [228,  38],\n",
       "        [226,  37],\n",
       "        [224,  37],\n",
       "        [222,  35],\n",
       "        [219,  35],\n",
       "        [217,  33],\n",
       "        [215,  33],\n",
       "        [213,  32],\n",
       "        [203,  32]]),\n",
       " array([[141,  93],\n",
       "        [140,  93],\n",
       "        [140,  93],\n",
       "        [139,  93],\n",
       "        [139,  93],\n",
       "        [139,  94],\n",
       "        [139,  94],\n",
       "        [138,  95],\n",
       "        [138,  95],\n",
       "        [138,  95],\n",
       "        [138,  95],\n",
       "        [137,  95],\n",
       "        [137,  95],\n",
       "        [137,  95],\n",
       "        [136,  96],\n",
       "        [136,  96],\n",
       "        [136,  96],\n",
       "        [136,  96],\n",
       "        [136,  96],\n",
       "        [135,  97],\n",
       "        [135,  97],\n",
       "        [134,  97],\n",
       "        [134,  97],\n",
       "        [134,  97],\n",
       "        [134,  98],\n",
       "        [133,  98],\n",
       "        [133,  98],\n",
       "        [133,  98],\n",
       "        [132,  98],\n",
       "        [132,  99],\n",
       "        [132,  99],\n",
       "        [131,  99],\n",
       "        [131, 100],\n",
       "        [131, 100],\n",
       "        [131, 100],\n",
       "        [131, 100],\n",
       "        [131, 100],\n",
       "        [130, 100],\n",
       "        [130, 101],\n",
       "        [130, 101],\n",
       "        [130, 102],\n",
       "        [129, 102],\n",
       "        [129, 102],\n",
       "        [129, 102],\n",
       "        [129, 103],\n",
       "        [129, 103],\n",
       "        [128, 103],\n",
       "        [128, 104],\n",
       "        [128, 104],\n",
       "        [128, 104],\n",
       "        [128, 105],\n",
       "        [128, 105],\n",
       "        [128, 105],\n",
       "        [128, 106],\n",
       "        [128, 106],\n",
       "        [128, 107],\n",
       "        [128, 107],\n",
       "        [128, 107],\n",
       "        [128, 108],\n",
       "        [128, 108],\n",
       "        [128, 109],\n",
       "        [128, 109],\n",
       "        [128, 110],\n",
       "        [128, 110],\n",
       "        [128, 111],\n",
       "        [129, 111],\n",
       "        [129, 111],\n",
       "        [129, 111],\n",
       "        [129, 112],\n",
       "        [130, 112],\n",
       "        [130, 112],\n",
       "        [130, 112],\n",
       "        [130, 113],\n",
       "        [131, 113],\n",
       "        [131, 113],\n",
       "        [131, 113],\n",
       "        [131, 113],\n",
       "        [131, 113],\n",
       "        [132, 114],\n",
       "        [132, 114],\n",
       "        [132, 114],\n",
       "        [132, 114],\n",
       "        [132, 114],\n",
       "        [133, 114],\n",
       "        [133, 114],\n",
       "        [133, 115],\n",
       "        [133, 115],\n",
       "        [134, 115],\n",
       "        [135, 116],\n",
       "        [135, 116],\n",
       "        [135, 116],\n",
       "        [136, 116],\n",
       "        [136, 116],\n",
       "        [136, 117],\n",
       "        [137, 117],\n",
       "        [137, 117],\n",
       "        [137, 117],\n",
       "        [139, 117],\n",
       "        [140, 117],\n",
       "        [141, 117],\n",
       "        [142, 118],\n",
       "        [142, 118],\n",
       "        [147, 118],\n",
       "        [147, 118],\n",
       "        [148, 118],\n",
       "        [148, 117],\n",
       "        [149, 117],\n",
       "        [149, 117],\n",
       "        [149, 117],\n",
       "        [150, 117],\n",
       "        [150, 117],\n",
       "        [151, 117],\n",
       "        [151, 116],\n",
       "        [152, 116],\n",
       "        [152, 116],\n",
       "        [152, 116],\n",
       "        [153, 116],\n",
       "        [153, 115],\n",
       "        [154, 115],\n",
       "        [154, 115],\n",
       "        [154, 115],\n",
       "        [155, 115],\n",
       "        [155, 114],\n",
       "        [156, 113],\n",
       "        [157, 113],\n",
       "        [157, 113],\n",
       "        [157, 112],\n",
       "        [157, 112],\n",
       "        [157, 112],\n",
       "        [158, 112],\n",
       "        [158, 112],\n",
       "        [158, 112],\n",
       "        [158, 112],\n",
       "        [159, 111],\n",
       "        [159, 111],\n",
       "        [160, 110],\n",
       "        [160, 110],\n",
       "        [160, 110],\n",
       "        [160, 109],\n",
       "        [161, 109],\n",
       "        [161, 109],\n",
       "        [161, 109],\n",
       "        [161, 109],\n",
       "        [161, 109],\n",
       "        [161, 108],\n",
       "        [162, 108],\n",
       "        [162, 108],\n",
       "        [162, 108],\n",
       "        [162, 107],\n",
       "        [162, 107],\n",
       "        [162, 107],\n",
       "        [162, 107],\n",
       "        [162, 106],\n",
       "        [163, 106],\n",
       "        [163, 106],\n",
       "        [163, 105],\n",
       "        [163, 104],\n",
       "        [163, 104],\n",
       "        [163, 103],\n",
       "        [163, 102],\n",
       "        [163, 101],\n",
       "        [163, 100],\n",
       "        [163, 100],\n",
       "        [163,  99],\n",
       "        [163,  99],\n",
       "        [163,  98],\n",
       "        [163,  98],\n",
       "        [163,  98],\n",
       "        [163,  97],\n",
       "        [162,  97],\n",
       "        [162,  97],\n",
       "        [161,  96],\n",
       "        [161,  96],\n",
       "        [161,  96],\n",
       "        [160,  96],\n",
       "        [159,  95],\n",
       "        [159,  95],\n",
       "        [158,  95],\n",
       "        [158,  95],\n",
       "        [157,  95],\n",
       "        [156,  94],\n",
       "        [156,  94],\n",
       "        [155,  94],\n",
       "        [154,  94],\n",
       "        [153,  93],\n",
       "        [152,  93],\n",
       "        [151,  93],\n",
       "        [141,  93]]),\n",
       " array([[229, 132],\n",
       "        [228, 133],\n",
       "        [227, 133],\n",
       "        [226, 133],\n",
       "        [226, 133],\n",
       "        [226, 133],\n",
       "        [225, 133],\n",
       "        [227, 133],\n",
       "        [227, 133],\n",
       "        [227, 133],\n",
       "        [227, 134],\n",
       "        [227, 134],\n",
       "        [227, 134],\n",
       "        [227, 134],\n",
       "        [228, 134],\n",
       "        [228, 135],\n",
       "        [228, 135],\n",
       "        [228, 136],\n",
       "        [228, 136],\n",
       "        [228, 136],\n",
       "        [228, 137],\n",
       "        [228, 137],\n",
       "        [228, 137],\n",
       "        [228, 137],\n",
       "        [228, 138],\n",
       "        [228, 138],\n",
       "        [228, 138],\n",
       "        [228, 139],\n",
       "        [228, 139],\n",
       "        [228, 140],\n",
       "        [228, 140],\n",
       "        [228, 140],\n",
       "        [228, 141],\n",
       "        [228, 141],\n",
       "        [228, 141],\n",
       "        [228, 142],\n",
       "        [228, 142],\n",
       "        [227, 142],\n",
       "        [227, 142],\n",
       "        [227, 143],\n",
       "        [227, 143],\n",
       "        [226, 144],\n",
       "        [226, 144],\n",
       "        [226, 144],\n",
       "        [226, 144],\n",
       "        [226, 144],\n",
       "        [225, 145],\n",
       "        [225, 145],\n",
       "        [225, 145],\n",
       "        [225, 146],\n",
       "        [224, 146],\n",
       "        [224, 147],\n",
       "        [224, 147],\n",
       "        [224, 147],\n",
       "        [224, 147],\n",
       "        [223, 148],\n",
       "        [223, 148],\n",
       "        [223, 148],\n",
       "        [223, 148],\n",
       "        [223, 148],\n",
       "        [222, 149],\n",
       "        [222, 149],\n",
       "        [222, 149],\n",
       "        [222, 149],\n",
       "        [221, 149],\n",
       "        [221, 150],\n",
       "        [221, 150],\n",
       "        [221, 150],\n",
       "        [221, 150],\n",
       "        [220, 150],\n",
       "        [220, 151],\n",
       "        [220, 151],\n",
       "        [219, 152],\n",
       "        [219, 152],\n",
       "        [219, 152],\n",
       "        [218, 153],\n",
       "        [218, 153],\n",
       "        [218, 153],\n",
       "        [217, 153],\n",
       "        [217, 154],\n",
       "        [216, 154],\n",
       "        [216, 155],\n",
       "        [216, 155],\n",
       "        [215, 155],\n",
       "        [215, 156],\n",
       "        [214, 156],\n",
       "        [214, 156],\n",
       "        [214, 157],\n",
       "        [213, 158],\n",
       "        [213, 158],\n",
       "        [213, 158],\n",
       "        [212, 159],\n",
       "        [212, 159],\n",
       "        [211, 160],\n",
       "        [211, 160],\n",
       "        [211, 161],\n",
       "        [210, 161],\n",
       "        [210, 161],\n",
       "        [210, 162],\n",
       "        [210, 162],\n",
       "        [210, 163],\n",
       "        [209, 163],\n",
       "        [209, 164],\n",
       "        [209, 165],\n",
       "        [208, 165],\n",
       "        [208, 166],\n",
       "        [208, 166],\n",
       "        [208, 167],\n",
       "        [208, 168],\n",
       "        [208, 168],\n",
       "        [207, 169],\n",
       "        [207, 169],\n",
       "        [207, 170],\n",
       "        [207, 170],\n",
       "        [207, 171],\n",
       "        [207, 171],\n",
       "        [207, 172],\n",
       "        [207, 173],\n",
       "        [207, 173],\n",
       "        [207, 173],\n",
       "        [207, 174],\n",
       "        [207, 174],\n",
       "        [207, 175],\n",
       "        [207, 176],\n",
       "        [207, 176],\n",
       "        [207, 177],\n",
       "        [207, 178],\n",
       "        [207, 178],\n",
       "        [207, 179],\n",
       "        [207, 179],\n",
       "        [207, 180],\n",
       "        [207, 180],\n",
       "        [207, 181],\n",
       "        [208, 181],\n",
       "        [208, 182],\n",
       "        [208, 183],\n",
       "        [208, 184],\n",
       "        [209, 185],\n",
       "        [210, 186],\n",
       "        [210, 187],\n",
       "        [211, 187],\n",
       "        [211, 187],\n",
       "        [212, 187],\n",
       "        [213, 186],\n",
       "        [215, 186],\n",
       "        [218, 185],\n",
       "        [220, 184],\n",
       "        [222, 184],\n",
       "        [224, 183],\n",
       "        [226, 182],\n",
       "        [228, 182],\n",
       "        [229, 181],\n",
       "        [230, 181],\n",
       "        [232, 181],\n",
       "        [233, 180],\n",
       "        [235, 179],\n",
       "        [238, 177],\n",
       "        [240, 176],\n",
       "        [243, 174],\n",
       "        [243, 174],\n",
       "        [245, 173],\n",
       "        [245, 172],\n",
       "        [246, 171],\n",
       "        [246, 171],\n",
       "        [247, 170],\n",
       "        [247, 169],\n",
       "        [248, 169],\n",
       "        [248, 168],\n",
       "        [248, 167],\n",
       "        [250, 165],\n",
       "        [250, 165],\n",
       "        [250, 164],\n",
       "        [251, 163],\n",
       "        [251, 163],\n",
       "        [251, 162],\n",
       "        [251, 161],\n",
       "        [251, 160],\n",
       "        [252, 159],\n",
       "        [252, 159],\n",
       "        [252, 158],\n",
       "        [252, 158],\n",
       "        [252, 157],\n",
       "        [252, 157],\n",
       "        [252, 156],\n",
       "        [252, 156],\n",
       "        [252, 155],\n",
       "        [252, 155],\n",
       "        [252, 155],\n",
       "        [251, 154],\n",
       "        [251, 152],\n",
       "        [251, 150],\n",
       "        [250, 149],\n",
       "        [250, 148],\n",
       "        [249, 147],\n",
       "        [249, 146],\n",
       "        [249, 145],\n",
       "        [249, 145],\n",
       "        [248, 144],\n",
       "        [247, 143],\n",
       "        [247, 142],\n",
       "        [246, 140],\n",
       "        [245, 139],\n",
       "        [245, 139],\n",
       "        [244, 138],\n",
       "        [244, 138],\n",
       "        [243, 137],\n",
       "        [243, 137],\n",
       "        [242, 137],\n",
       "        [242, 136],\n",
       "        [241, 135],\n",
       "        [240, 134],\n",
       "        [240, 134],\n",
       "        [240, 134],\n",
       "        [239, 134],\n",
       "        [239, 134],\n",
       "        [238, 133],\n",
       "        [238, 133],\n",
       "        [238, 133],\n",
       "        [237, 133],\n",
       "        [236, 133],\n",
       "        [236, 133],\n",
       "        [236, 132],\n",
       "        [229, 132]]),\n",
       " array([[ 91, 121],\n",
       "        [ 91, 122],\n",
       "        [ 88, 122],\n",
       "        [ 87, 122],\n",
       "        [ 86, 123],\n",
       "        [ 86, 123],\n",
       "        [ 86, 123],\n",
       "        [ 86, 124],\n",
       "        [ 86, 125],\n",
       "        [ 86, 125],\n",
       "        [ 86, 126],\n",
       "        [ 86, 126],\n",
       "        [ 86, 128],\n",
       "        [ 86, 128],\n",
       "        [ 86, 129],\n",
       "        [ 86, 130],\n",
       "        [ 86, 131],\n",
       "        [ 87, 133],\n",
       "        [ 87, 134],\n",
       "        [ 87, 136],\n",
       "        [ 87, 136],\n",
       "        [ 87, 137],\n",
       "        [ 87, 139],\n",
       "        [ 87, 139],\n",
       "        [ 87, 140],\n",
       "        [ 87, 141],\n",
       "        [ 87, 144],\n",
       "        [ 87, 144],\n",
       "        [ 87, 146],\n",
       "        [ 87, 146],\n",
       "        [ 87, 148],\n",
       "        [ 87, 148],\n",
       "        [ 87, 150],\n",
       "        [ 87, 151],\n",
       "        [ 87, 152],\n",
       "        [ 87, 154],\n",
       "        [ 87, 155],\n",
       "        [ 87, 157],\n",
       "        [ 87, 158],\n",
       "        [ 87, 158],\n",
       "        [ 88, 160],\n",
       "        [ 88, 160],\n",
       "        [ 88, 161],\n",
       "        [ 88, 161],\n",
       "        [ 89, 162],\n",
       "        [ 89, 164],\n",
       "        [ 89, 164],\n",
       "        [ 89, 165],\n",
       "        [ 89, 166],\n",
       "        [ 89, 168],\n",
       "        [ 89, 169],\n",
       "        [ 90, 170],\n",
       "        [ 90, 172],\n",
       "        [ 90, 173],\n",
       "        [ 90, 175],\n",
       "        [ 91, 176],\n",
       "        [ 91, 179],\n",
       "        [ 91, 180],\n",
       "        [ 91, 180],\n",
       "        [ 91, 182],\n",
       "        [ 92, 183],\n",
       "        [ 92, 184],\n",
       "        [ 92, 186],\n",
       "        [ 93, 187],\n",
       "        [ 93, 188],\n",
       "        [ 93, 189],\n",
       "        [ 93, 190],\n",
       "        [ 93, 192],\n",
       "        [ 93, 192],\n",
       "        [ 93, 193],\n",
       "        [ 93, 193],\n",
       "        [ 93, 194],\n",
       "        [ 94, 194],\n",
       "        [ 95, 196],\n",
       "        [ 97, 198],\n",
       "        [100, 200],\n",
       "        [102, 203],\n",
       "        [105, 205],\n",
       "        [106, 206],\n",
       "        [107, 208],\n",
       "        [108, 208],\n",
       "        [109, 209],\n",
       "        [109, 210],\n",
       "        [109, 210],\n",
       "        [109, 211],\n",
       "        [110, 211],\n",
       "        [110, 211],\n",
       "        [111, 211],\n",
       "        [112, 212],\n",
       "        [125, 212],\n",
       "        [133, 212],\n",
       "        [139, 213],\n",
       "        [145, 214],\n",
       "        [178, 214],\n",
       "        [178, 213],\n",
       "        [179, 213],\n",
       "        [180, 212],\n",
       "        [180, 212],\n",
       "        [181, 212],\n",
       "        [183, 212],\n",
       "        [183, 211],\n",
       "        [184, 211],\n",
       "        [185, 211],\n",
       "        [186, 210],\n",
       "        [187, 210],\n",
       "        [188, 210],\n",
       "        [189, 208],\n",
       "        [190, 208],\n",
       "        [192, 208],\n",
       "        [192, 207],\n",
       "        [193, 207],\n",
       "        [194, 207],\n",
       "        [194, 206],\n",
       "        [196, 205],\n",
       "        [196, 205],\n",
       "        [196, 204],\n",
       "        [196, 204],\n",
       "        [196, 203],\n",
       "        [196, 203],\n",
       "        [196, 202],\n",
       "        [196, 201],\n",
       "        [196, 201],\n",
       "        [196, 200],\n",
       "        [196, 200],\n",
       "        [195, 199],\n",
       "        [195, 198],\n",
       "        [195, 197],\n",
       "        [194, 197],\n",
       "        [194, 196],\n",
       "        [194, 195],\n",
       "        [193, 194],\n",
       "        [193, 193],\n",
       "        [192, 190],\n",
       "        [191, 187],\n",
       "        [190, 185],\n",
       "        [190, 184],\n",
       "        [188, 181],\n",
       "        [188, 179],\n",
       "        [187, 178],\n",
       "        [186, 177],\n",
       "        [186, 176],\n",
       "        [186, 175],\n",
       "        [186, 175],\n",
       "        [185, 173],\n",
       "        [185, 172],\n",
       "        [183, 172],\n",
       "        [183, 171],\n",
       "        [182, 170],\n",
       "        [181, 169],\n",
       "        [180, 168],\n",
       "        [179, 167],\n",
       "        [179, 166],\n",
       "        [178, 166],\n",
       "        [177, 165],\n",
       "        [176, 165],\n",
       "        [176, 165],\n",
       "        [176, 164],\n",
       "        [175, 164],\n",
       "        [174, 164],\n",
       "        [174, 162],\n",
       "        [172, 162],\n",
       "        [172, 162],\n",
       "        [171, 161],\n",
       "        [170, 161],\n",
       "        [169, 161],\n",
       "        [169, 160],\n",
       "        [168, 160],\n",
       "        [166, 160],\n",
       "        [166, 158],\n",
       "        [165, 158],\n",
       "        [164, 158],\n",
       "        [164, 158],\n",
       "        [163, 157],\n",
       "        [162, 157],\n",
       "        [161, 157],\n",
       "        [161, 156],\n",
       "        [160, 156],\n",
       "        [159, 155],\n",
       "        [158, 155],\n",
       "        [157, 155],\n",
       "        [157, 154],\n",
       "        [155, 154],\n",
       "        [155, 154],\n",
       "        [155, 154],\n",
       "        [154, 153],\n",
       "        [154, 153],\n",
       "        [153, 153],\n",
       "        [150, 151],\n",
       "        [149, 150],\n",
       "        [147, 148],\n",
       "        [146, 148],\n",
       "        [144, 147],\n",
       "        [140, 144],\n",
       "        [138, 144],\n",
       "        [129, 128],\n",
       "        [128, 128],\n",
       "        [128, 128],\n",
       "        [127, 127],\n",
       "        [126, 127],\n",
       "        [125, 126],\n",
       "        [124, 126],\n",
       "        [123, 125],\n",
       "        [122, 125],\n",
       "        [121, 125],\n",
       "        [120, 124],\n",
       "        [119, 123],\n",
       "        [118, 123],\n",
       "        [118, 123],\n",
       "        [116, 123],\n",
       "        [115, 122],\n",
       "        [115, 122],\n",
       "        [114, 122],\n",
       "        [114, 121],\n",
       "        [ 91, 121]])]"
      ]
     },
     "execution_count": 252,
     "metadata": {},
     "output_type": "execute_result"
    }
   ],
   "source": [
    "intersects"
   ]
  },
  {
   "cell_type": "code",
   "execution_count": 253,
   "id": "3172fdc3-f9bd-46f7-a38e-829c28ff220d",
   "metadata": {},
   "outputs": [
    {
     "data": {
      "image/svg+xml": [
       "<svg xmlns=\"http://www.w3.org/2000/svg\" xmlns:xlink=\"http://www.w3.org/1999/xlink\" width=\"113.51999999999998\" height=\"128.51999999999998\" viewBox=\"137.24 27.240000000000002 113.51999999999998 128.51999999999998\" preserveAspectRatio=\"xMinYMin meet\"><g transform=\"matrix(1,0,0,-1,0,183.0)\"><path fill-rule=\"evenodd\" fill=\"#66cc99\" stroke=\"#555555\" stroke-width=\"2.0\" opacity=\"0.6\" d=\"M 203.0,32.0 L 200.0,33.0 L 196.0,33.0 L 192.0,34.0 L 187.0,35.0 L 182.0,37.0 L 177.0,39.0 L 168.0,44.0 L 165.0,46.0 L 162.0,49.0 L 159.0,52.0 L 157.0,54.0 L 152.0,67.0 L 153.0,82.0 L 154.0,84.0 L 155.0,84.0 L 157.0,84.0 L 157.0,84.0 L 159.0,84.0 L 160.0,83.0 L 161.0,83.0 L 161.0,83.0 L 162.0,83.0 L 162.0,82.0 L 162.0,82.0 L 163.0,82.0 L 164.0,82.0 L 165.0,82.0 L 173.0,82.0 L 174.0,82.0 L 177.0,82.0 L 177.0,82.0 L 179.0,82.0 L 180.0,83.0 L 180.0,83.0 L 182.0,83.0 L 183.0,84.0 L 184.0,84.0 L 185.0,84.0 L 186.0,85.0 L 186.0,85.0 L 186.0,86.0 L 187.0,86.0 L 187.0,86.0 L 187.0,86.0 L 187.0,87.0 L 187.0,87.0 L 187.0,88.0 L 187.0,88.0 L 187.0,89.0 L 187.0,89.0 L 187.0,90.0 L 187.0,91.0 L 187.0,91.0 L 187.0,92.0 L 187.0,92.0 L 187.0,93.0 L 187.0,93.0 L 187.0,94.0 L 187.0,95.0 L 187.0,96.0 L 187.0,97.0 L 186.0,97.0 L 186.0,98.0 L 186.0,100.0 L 186.0,100.0 L 186.0,101.0 L 185.0,102.0 L 185.0,103.0 L 185.0,103.0 L 184.0,104.0 L 184.0,105.0 L 184.0,105.0 L 184.0,105.0 L 184.0,106.0 L 184.0,107.0 L 183.0,107.0 L 183.0,108.0 L 183.0,109.0 L 182.0,110.0 L 182.0,111.0 L 181.0,113.0 L 180.0,114.0 L 180.0,115.0 L 180.0,115.0 L 179.0,116.0 L 179.0,116.0 L 179.0,116.0 L 179.0,117.0 L 179.0,117.0 L 178.0,117.0 L 178.0,118.0 L 176.0,118.0 L 175.0,118.0 L 174.0,119.0 L 167.0,119.0 L 166.0,119.0 L 163.0,119.0 L 162.0,120.0 L 160.0,120.0 L 159.0,120.0 L 157.0,121.0 L 155.0,121.0 L 155.0,121.0 L 154.0,122.0 L 153.0,123.0 L 152.0,123.0 L 151.0,123.0 L 150.0,124.0 L 149.0,125.0 L 147.0,126.0 L 146.0,126.0 L 146.0,127.0 L 145.0,127.0 L 144.0,128.0 L 144.0,128.0 L 143.0,129.0 L 142.0,129.0 L 142.0,130.0 L 142.0,130.0 L 142.0,131.0 L 142.0,131.0 L 142.0,132.0 L 142.0,132.0 L 142.0,132.0 L 142.0,133.0 L 142.0,133.0 L 142.0,134.0 L 142.0,134.0 L 142.0,134.0 L 142.0,135.0 L 143.0,137.0 L 145.0,139.0 L 146.0,140.0 L 147.0,140.0 L 148.0,141.0 L 149.0,142.0 L 150.0,143.0 L 152.0,144.0 L 153.0,145.0 L 154.0,145.0 L 155.0,146.0 L 156.0,146.0 L 157.0,148.0 L 158.0,148.0 L 160.0,148.0 L 161.0,149.0 L 163.0,150.0 L 165.0,150.0 L 168.0,151.0 L 177.0,151.0 L 177.0,151.0 L 179.0,151.0 L 180.0,150.0 L 183.0,150.0 L 186.0,150.0 L 190.0,149.0 L 193.0,149.0 L 195.0,148.0 L 197.0,148.0 L 198.0,148.0 L 198.0,148.0 L 199.0,147.0 L 201.0,147.0 L 202.0,147.0 L 203.0,146.0 L 205.0,146.0 L 207.0,145.0 L 208.0,144.0 L 208.0,144.0 L 208.0,144.0 L 209.0,144.0 L 209.0,143.0 L 209.0,143.0 L 210.0,143.0 L 210.0,143.0 L 211.0,142.0 L 211.0,142.0 L 211.0,142.0 L 212.0,141.0 L 213.0,141.0 L 214.0,139.0 L 216.0,136.0 L 220.0,134.0 L 223.0,131.0 L 226.0,128.0 L 227.0,127.0 L 228.0,126.0 L 229.0,126.0 L 229.0,125.0 L 230.0,125.0 L 231.0,124.0 L 231.0,123.0 L 232.0,123.0 L 232.0,122.0 L 232.0,122.0 L 233.0,121.0 L 234.0,121.0 L 234.0,120.0 L 235.0,119.0 L 236.0,118.0 L 237.0,117.0 L 237.0,116.0 L 238.0,115.0 L 238.0,114.0 L 239.0,114.0 L 239.0,113.0 L 240.0,112.0 L 241.0,111.0 L 241.0,110.0 L 242.0,109.0 L 242.0,109.0 L 242.0,108.0 L 242.0,108.0 L 243.0,107.0 L 243.0,107.0 L 243.0,106.0 L 243.0,105.0 L 244.0,103.0 L 244.0,102.0 L 245.0,101.0 L 245.0,99.0 L 246.0,98.0 L 246.0,95.0 L 246.0,93.0 L 246.0,92.0 L 246.0,91.0 L 246.0,89.0 L 246.0,88.0 L 246.0,87.0 L 246.0,87.0 L 246.0,86.0 L 246.0,86.0 L 246.0,85.0 L 246.0,84.0 L 246.0,83.0 L 246.0,82.0 L 246.0,82.0 L 246.0,82.0 L 246.0,80.0 L 246.0,80.0 L 246.0,78.0 L 246.0,77.0 L 246.0,77.0 L 246.0,76.0 L 246.0,75.0 L 246.0,75.0 L 246.0,73.0 L 246.0,73.0 L 245.0,69.0 L 245.0,68.0 L 245.0,66.0 L 245.0,65.0 L 245.0,64.0 L 245.0,63.0 L 244.0,62.0 L 244.0,61.0 L 244.0,60.0 L 243.0,57.0 L 242.0,54.0 L 241.0,52.0 L 239.0,48.0 L 238.0,46.0 L 236.0,44.0 L 234.0,43.0 L 232.0,41.0 L 230.0,39.0 L 228.0,38.0 L 226.0,37.0 L 224.0,37.0 L 222.0,35.0 L 219.0,35.0 L 217.0,33.0 L 215.0,33.0 L 213.0,32.0 L 203.0,32.0 z\" /></g></svg>"
      ],
      "text/plain": [
       "<shapely.geometry.polygon.Polygon at 0x167d37d72c8>"
      ]
     },
     "execution_count": 253,
     "metadata": {},
     "output_type": "execute_result"
    }
   ],
   "source": [
    "Polygon(intersects[0])"
   ]
  },
  {
   "cell_type": "code",
   "execution_count": null,
   "id": "af8fcb99-dc19-4e24-a811-d0c17b3bc0f6",
   "metadata": {},
   "outputs": [],
   "source": []
  },
  {
   "cell_type": "code",
   "execution_count": 206,
   "id": "8422e504-0cca-4308-82cc-9195b73a6073",
   "metadata": {},
   "outputs": [
    {
     "data": {
      "text/plain": [
       "tensor([[0, 0, 0,  ..., 1, 1, 1],\n",
       "        [0, 0, 0,  ..., 1, 1, 1],\n",
       "        [0, 0, 0,  ..., 1, 1, 1],\n",
       "        ...,\n",
       "        [0, 0, 0,  ..., 1, 1, 1],\n",
       "        [0, 0, 0,  ..., 1, 1, 1],\n",
       "        [0, 0, 0,  ..., 1, 1, 1]], dtype=torch.uint8)"
      ]
     },
     "execution_count": 206,
     "metadata": {},
     "output_type": "execute_result"
    }
   ],
   "source": [
    "out.values"
   ]
  },
  {
   "cell_type": "code",
   "execution_count": 207,
   "id": "1f8f887b-cd41-49d9-8a4e-14ff332674c9",
   "metadata": {},
   "outputs": [],
   "source": [
    "import matplotlib.pyplot as plt"
   ]
  },
  {
   "cell_type": "code",
   "execution_count": 208,
   "id": "7c51277e-f1ed-4352-845d-64a3079aedd6",
   "metadata": {},
   "outputs": [
    {
     "data": {
      "text/plain": [
       "<matplotlib.image.AxesImage at 0x167d4dedd88>"
      ]
     },
     "execution_count": 208,
     "metadata": {},
     "output_type": "execute_result"
    },
    {
     "data": {
      "image/png": "[encoded data removed]",
      "text/plain": [
       "<Figure size 432x288 with 1 Axes>"
      ]
     },
     "metadata": {
      "needs_background": "light"
     },
     "output_type": "display_data"
    }
   ],
   "source": [
    "plt.imshow(out.values)"
   ]
  },
  {
   "cell_type": "code",
   "execution_count": null,
   "id": "0f3953be-2b69-4e8a-b019-61baaea35ad7",
   "metadata": {},
   "outputs": [],
   "source": []
  },
  {
   "cell_type": "code",
   "execution_count": 126,
   "id": "284a51b7-428b-4ee8-823c-63c76a551c61",
   "metadata": {},
   "outputs": [
    {
     "data": {
      "text/plain": [
       "4"
      ]
     },
     "execution_count": 126,
     "metadata": {},
     "output_type": "execute_result"
    }
   ],
   "source": [
    "np.random.randint(0,10)"
   ]
  },
  {
   "cell_type": "code",
   "execution_count": null,
   "id": "9125acba-b75f-4b2b-8291-6a89319de459",
   "metadata": {},
   "outputs": [],
   "source": [
    "Polygon(np.array()"
   ]
  },
  {
   "cell_type": "code",
   "execution_count": 190,
   "id": "4efcda2c-049a-4d8b-abc8-32719ad0f19e",
   "metadata": {},
   "outputs": [
    {
     "data": {
      "text/plain": [
       "2"
      ]
     },
     "execution_count": 190,
     "metadata": {},
     "output_type": "execute_result"
    }
   ],
   "source": [
    "np.array(5)//np.array(2)"
   ]
  },
  {
   "cell_type": "code",
   "execution_count": 71,
   "id": "58a7f62c-4a1a-4cc4-84ae-3a5b43fe68fd",
   "metadata": {},
   "outputs": [
    {
     "data": {
      "text/plain": [
       "{0: 1.0, 1: 2.0, 2: 4.0, 3: 8.0, 4: 16.0, 5: 32.0, 6: 64.0, 7: 128.0, 8: 256.0}"
      ]
     },
     "execution_count": 71,
     "metadata": {},
     "output_type": "execute_result"
    }
   ],
   "source": [
    "anno_df['downsample_levels'].iloc[0]"
   ]
  },
  {
   "cell_type": "code",
   "execution_count": 58,
   "id": "b14a9a93-afd1-4d1b-b83b-2fe4b7365f6e",
   "metadata": {},
   "outputs": [
    {
     "data": {
      "text/plain": [
       "array([[ 1,  2],\n",
       "       [ 2,  2],\n",
       "       [ 1, 10],\n",
       "       [ 1,  2]])"
      ]
     },
     "execution_count": 58,
     "metadata": {},
     "output_type": "execute_result"
    }
   ],
   "source": [
    "p=Polygon([[1,2],[2,2],[1,10]])\n",
    "np.array(p.exterior.coords,dtype=np.int32)"
   ]
  },
  {
   "cell_type": "code",
   "execution_count": 62,
   "id": "baf6286e-5fec-41c2-ada9-13b290abfd53",
   "metadata": {},
   "outputs": [
    {
     "data": {
      "text/plain": [
       "tensor([[  1,   2],\n",
       "        [  3,   4],\n",
       "        [100,   2]])"
      ]
     },
     "execution_count": 62,
     "metadata": {},
     "output_type": "execute_result"
    }
   ],
   "source": [
    "t=torch.tensor([[1,2],[3,4],[100,2]])\n",
    "\n",
    "t"
   ]
  },
  {
   "cell_type": "code",
   "execution_count": 59,
   "id": "777ebd2b-e3e6-45d1-8893-dacc15a14c19",
   "metadata": {},
   "outputs": [
    {
     "data": {
      "image/svg+xml": [
       "<svg xmlns=\"http://www.w3.org/2000/svg\" xmlns:xlink=\"http://www.w3.org/1999/xlink\" width=\"100.0\" height=\"100.0\" viewBox=\"0.6799999999999999 1.68 1.64 8.64\" preserveAspectRatio=\"xMinYMin meet\"><g transform=\"matrix(1,0,0,-1,0,12.0)\"><path fill-rule=\"evenodd\" fill=\"#66cc99\" stroke=\"#555555\" stroke-width=\"0.1728\" opacity=\"0.6\" d=\"M 1.0,2.0 L 2.0,2.0 L 1.0,10.0 L 1.0,2.0 z\" /></g></svg>"
      ],
      "text/plain": [
       "<shapely.geometry.polygon.Polygon at 0x167c069afc8>"
      ]
     },
     "execution_count": 59,
     "metadata": {},
     "output_type": "execute_result"
    }
   ],
   "source": [
    "p"
   ]
  },
  {
   "cell_type": "code",
   "execution_count": 66,
   "id": "faaf001a-5da4-48ea-aba3-5382a2744212",
   "metadata": {},
   "outputs": [
    {
     "ename": "error",
     "evalue": "OpenCV(4.6.0) D:\\a\\opencv-python\\opencv-python\\opencv\\modules\\imgproc\\src\\drawing.cpp:2396: error: (-215:Assertion failed) p.checkVector(2, CV_32S) >= 0 in function 'cv::fillPoly'\n",
     "output_type": "error",
     "traceback": [
      "\u001b[1;31m---------------------------------------------------------------------------\u001b[0m",
      "\u001b[1;31merror\u001b[0m                                     Traceback (most recent call last)",
      "\u001b[1;32m~\\AppData\\Local\\Temp\\ipykernel_19040\\579111146.py\u001b[0m in \u001b[0;36m<module>\u001b[1;34m\u001b[0m\n\u001b[1;32m----> 1\u001b[1;33m \u001b[0mcv2\u001b[0m\u001b[1;33m.\u001b[0m\u001b[0mfillPoly\u001b[0m\u001b[1;33m(\u001b[0m\u001b[0mnp\u001b[0m\u001b[1;33m.\u001b[0m\u001b[0mzeros\u001b[0m\u001b[1;33m(\u001b[0m\u001b[1;33m(\u001b[0m\u001b[1;36m100\u001b[0m\u001b[1;33m,\u001b[0m\u001b[1;36m100\u001b[0m\u001b[1;33m)\u001b[0m\u001b[1;33m)\u001b[0m\u001b[1;33m,\u001b[0m\u001b[0mnp\u001b[0m\u001b[1;33m.\u001b[0m\u001b[0marray\u001b[0m\u001b[1;33m(\u001b[0m\u001b[0mt\u001b[0m\u001b[1;33m)\u001b[0m\u001b[1;33m,\u001b[0m\u001b[0mcolor\u001b[0m\u001b[1;33m=\u001b[0m\u001b[1;36m20\u001b[0m\u001b[1;33m)\u001b[0m\u001b[1;33m\u001b[0m\u001b[1;33m\u001b[0m\u001b[0m\n\u001b[0m",
      "\u001b[1;31merror\u001b[0m: OpenCV(4.6.0) D:\\a\\opencv-python\\opencv-python\\opencv\\modules\\imgproc\\src\\drawing.cpp:2396: error: (-215:Assertion failed) p.checkVector(2, CV_32S) >= 0 in function 'cv::fillPoly'\n"
     ]
    }
   ],
   "source": [
    "cv2.fillPoly(np.zeros((100,100)),np.array(t),color=20)"
   ]
  },
  {
   "cell_type": "code",
   "execution_count": 68,
   "id": "0c569ee4-7009-4a26-af6a-a0a3e4870d75",
   "metadata": {},
   "outputs": [
    {
     "data": {
      "text/plain": [
       "(3, 2)"
      ]
     },
     "execution_count": 68,
     "metadata": {},
     "output_type": "execute_result"
    }
   ],
   "source": []
  },
  {
   "cell_type": "code",
   "execution_count": 53,
   "id": "b3f56707-92c2-4831-8e3b-b6a6e4257947",
   "metadata": {},
   "outputs": [
    {
     "data": {
      "text/plain": [
       "shapely.geometry.polygon.Polygon"
      ]
     },
     "execution_count": 53,
     "metadata": {},
     "output_type": "execute_result"
    }
   ],
   "source": [
    "Polygon"
   ]
  },
  {
   "cell_type": "code",
   "execution_count": null,
   "id": "ebf43881-43b0-4b57-ac6b-4068bfa737eb",
   "metadata": {},
   "outputs": [],
   "source": [
    "torch.ten"
   ]
  },
  {
   "cell_type": "code",
   "execution_count": 35,
   "id": "3a79d1d6-7c46-4413-86bd-8317594b743f",
   "metadata": {},
   "outputs": [
    {
     "data": {
      "text/plain": [
       "Index(['type', 'geometry', 'properties', 'image_name', 'image_path',\n",
       "       'WSI_size', 'levels', 'downsample_levels', 'coordinates', 'polygon',\n",
       "       'area', 'circumference', 'class_name', 'colour_RGB'],\n",
       "      dtype='object')"
      ]
     },
     "execution_count": 35,
     "metadata": {},
     "output_type": "execute_result"
    }
   ],
   "source": [
    "anno_df.columns\n"
   ]
  },
  {
   "cell_type": "code",
   "execution_count": 25,
   "id": "3ce539b2-eef4-4023-b687-4a04cc431463",
   "metadata": {},
   "outputs": [
    {
     "data": {
      "text/html": [
       "<div>\n",
       "<style scoped>\n",
       "    .dataframe tbody tr th:only-of-type {\n",
       "        vertical-align: middle;\n",
       "    }\n",
       "\n",
       "    .dataframe tbody tr th {\n",
       "        vertical-align: top;\n",
       "    }\n",
       "\n",
       "    .dataframe thead th {\n",
       "        text-align: right;\n",
       "    }\n",
       "</style>\n",
       "<table border=\"1\" class=\"dataframe\">\n",
       "  <thead>\n",
       "    <tr style=\"text-align: right;\">\n",
       "      <th></th>\n",
       "      <th>0</th>\n",
       "    </tr>\n",
       "    <tr>\n",
       "      <th>Group</th>\n",
       "      <th></th>\n",
       "    </tr>\n",
       "  </thead>\n",
       "  <tbody>\n",
       "    <tr>\n",
       "      <th>A</th>\n",
       "      <td>(9, 3.0)</td>\n",
       "    </tr>\n",
       "    <tr>\n",
       "      <th>B</th>\n",
       "      <td>(12, 4.0)</td>\n",
       "    </tr>\n",
       "  </tbody>\n",
       "</table>\n",
       "</div>"
      ],
      "text/plain": [
       "               0\n",
       "Group           \n",
       "A       (9, 3.0)\n",
       "B      (12, 4.0)"
      ]
     },
     "execution_count": 25,
     "metadata": {},
     "output_type": "execute_result"
    }
   ],
   "source": [
    "results_df = pd.DataFrame(results)\n",
    "results_df"
   ]
  },
  {
   "cell_type": "code",
   "execution_count": 172,
   "id": "77b8197e-d646-40f8-9252-c978dbaca798",
   "metadata": {},
   "outputs": [
    {
     "data": {
      "text/html": [
       "<div>\n",
       "<style scoped>\n",
       "    .dataframe tbody tr th:only-of-type {\n",
       "        vertical-align: middle;\n",
       "    }\n",
       "\n",
       "    .dataframe tbody tr th {\n",
       "        vertical-align: top;\n",
       "    }\n",
       "\n",
       "    .dataframe thead th {\n",
       "        text-align: right;\n",
       "    }\n",
       "</style>\n",
       "<table border=\"1\" class=\"dataframe\">\n",
       "  <thead>\n",
       "    <tr style=\"text-align: right;\">\n",
       "      <th></th>\n",
       "      <th>GB</th>\n",
       "      <th>Value</th>\n",
       "    </tr>\n",
       "  </thead>\n",
       "  <tbody>\n",
       "    <tr>\n",
       "      <th>0</th>\n",
       "      <td>A</td>\n",
       "      <td>1</td>\n",
       "    </tr>\n",
       "    <tr>\n",
       "      <th>2</th>\n",
       "      <td>A</td>\n",
       "      <td>3</td>\n",
       "    </tr>\n",
       "    <tr>\n",
       "      <th>4</th>\n",
       "      <td>A</td>\n",
       "      <td>5</td>\n",
       "    </tr>\n",
       "  </tbody>\n",
       "</table>\n",
       "</div>"
      ],
      "text/plain": [
       "  GB  Value\n",
       "0  A      1\n",
       "2  A      3\n",
       "4  A      5"
      ]
     },
     "execution_count": 172,
     "metadata": {},
     "output_type": "execute_result"
    }
   ],
   "source": [
    "df.groupby('GB').get_group('A')"
   ]
  },
  {
   "cell_type": "code",
   "execution_count": 148,
   "id": "616551c0-8360-41c5-be1f-dca521bd9b09",
   "metadata": {},
   "outputs": [
    {
     "name": "stdout",
     "output_type": "stream",
     "text": [
      "> \u001b[1;32mc:\\users\\ananya\\appdata\\local\\temp\\ipykernel_19040\\1438047986.py\u001b[0m(14)\u001b[0;36mcustom_function\u001b[1;34m()\u001b[0m\n",
      "\n"
     ]
    },
    {
     "name": "stdin",
     "output_type": "stream",
     "text": [
      "ipdb>  group\n"
     ]
    },
    {
     "name": "stdout",
     "output_type": "stream",
     "text": [
      "  GB  Value\n",
      "0  A      1\n",
      "2  A      3\n",
      "4  A      5\n"
     ]
    },
    {
     "name": "stdin",
     "output_type": "stream",
     "text": [
      "ipdb>  q\n"
     ]
    },
    {
     "ename": "BdbQuit",
     "evalue": "",
     "output_type": "error",
     "traceback": [
      "\u001b[1;31m---------------------------------------------------------------------------\u001b[0m",
      "\u001b[1;31mBdbQuit\u001b[0m                                   Traceback (most recent call last)",
      "\u001b[1;32m~\\AppData\\Local\\Temp\\ipykernel_19040\\1438047986.py\u001b[0m in \u001b[0;36m<module>\u001b[1;34m\u001b[0m\n\u001b[0;32m     19\u001b[0m \u001b[1;33m\u001b[0m\u001b[0m\n\u001b[0;32m     20\u001b[0m \u001b[1;31m# Group the DataFrame by 'Group' and apply the custom function to each group\u001b[0m\u001b[1;33m\u001b[0m\u001b[1;33m\u001b[0m\u001b[1;33m\u001b[0m\u001b[0m\n\u001b[1;32m---> 21\u001b[1;33m \u001b[0mresults\u001b[0m \u001b[1;33m=\u001b[0m \u001b[0mdf\u001b[0m\u001b[1;33m.\u001b[0m\u001b[0mgroupby\u001b[0m\u001b[1;33m(\u001b[0m\u001b[1;34m'GB'\u001b[0m\u001b[1;33m)\u001b[0m\u001b[1;33m.\u001b[0m\u001b[0mapply\u001b[0m\u001b[1;33m(\u001b[0m\u001b[0mcustom_function\u001b[0m\u001b[1;33m)\u001b[0m\u001b[1;33m\u001b[0m\u001b[1;33m\u001b[0m\u001b[0m\n\u001b[0m\u001b[0;32m     22\u001b[0m \u001b[1;33m\u001b[0m\u001b[0m\n\u001b[0;32m     23\u001b[0m \u001b[1;31m# Convert the results to a DataFrame\u001b[0m\u001b[1;33m\u001b[0m\u001b[1;33m\u001b[0m\u001b[1;33m\u001b[0m\u001b[0m\n",
      "\u001b[1;32mD:\\Anaconda3\\envs\\fastai2022\\lib\\site-packages\\pandas\\core\\groupby\\groupby.py\u001b[0m in \u001b[0;36mapply\u001b[1;34m(self, func, *args, **kwargs)\u001b[0m\n\u001b[0;32m   1273\u001b[0m         \u001b[1;32mwith\u001b[0m \u001b[0moption_context\u001b[0m\u001b[1;33m(\u001b[0m\u001b[1;34m\"mode.chained_assignment\"\u001b[0m\u001b[1;33m,\u001b[0m \u001b[1;32mNone\u001b[0m\u001b[1;33m)\u001b[0m\u001b[1;33m:\u001b[0m\u001b[1;33m\u001b[0m\u001b[1;33m\u001b[0m\u001b[0m\n\u001b[0;32m   1274\u001b[0m             \u001b[1;32mtry\u001b[0m\u001b[1;33m:\u001b[0m\u001b[1;33m\u001b[0m\u001b[1;33m\u001b[0m\u001b[0m\n\u001b[1;32m-> 1275\u001b[1;33m                 \u001b[0mresult\u001b[0m \u001b[1;33m=\u001b[0m \u001b[0mself\u001b[0m\u001b[1;33m.\u001b[0m\u001b[0m_python_apply_general\u001b[0m\u001b[1;33m(\u001b[0m\u001b[0mf\u001b[0m\u001b[1;33m,\u001b[0m \u001b[0mself\u001b[0m\u001b[1;33m.\u001b[0m\u001b[0m_selected_obj\u001b[0m\u001b[1;33m)\u001b[0m\u001b[1;33m\u001b[0m\u001b[1;33m\u001b[0m\u001b[0m\n\u001b[0m\u001b[0;32m   1276\u001b[0m             \u001b[1;32mexcept\u001b[0m \u001b[0mTypeError\u001b[0m\u001b[1;33m:\u001b[0m\u001b[1;33m\u001b[0m\u001b[1;33m\u001b[0m\u001b[0m\n\u001b[0;32m   1277\u001b[0m                 \u001b[1;31m# gh-20949\u001b[0m\u001b[1;33m\u001b[0m\u001b[1;33m\u001b[0m\u001b[1;33m\u001b[0m\u001b[0m\n",
      "\u001b[1;32mD:\\Anaconda3\\envs\\fastai2022\\lib\\site-packages\\pandas\\core\\groupby\\groupby.py\u001b[0m in \u001b[0;36m_python_apply_general\u001b[1;34m(self, f, data)\u001b[0m\n\u001b[0;32m   1307\u001b[0m             \u001b[0mdata\u001b[0m \u001b[0mafter\u001b[0m \u001b[0mapplying\u001b[0m \u001b[0mf\u001b[0m\u001b[1;33m\u001b[0m\u001b[1;33m\u001b[0m\u001b[0m\n\u001b[0;32m   1308\u001b[0m         \"\"\"\n\u001b[1;32m-> 1309\u001b[1;33m         \u001b[0mkeys\u001b[0m\u001b[1;33m,\u001b[0m \u001b[0mvalues\u001b[0m\u001b[1;33m,\u001b[0m \u001b[0mmutated\u001b[0m \u001b[1;33m=\u001b[0m \u001b[0mself\u001b[0m\u001b[1;33m.\u001b[0m\u001b[0mgrouper\u001b[0m\u001b[1;33m.\u001b[0m\u001b[0mapply\u001b[0m\u001b[1;33m(\u001b[0m\u001b[0mf\u001b[0m\u001b[1;33m,\u001b[0m \u001b[0mdata\u001b[0m\u001b[1;33m,\u001b[0m \u001b[0mself\u001b[0m\u001b[1;33m.\u001b[0m\u001b[0maxis\u001b[0m\u001b[1;33m)\u001b[0m\u001b[1;33m\u001b[0m\u001b[1;33m\u001b[0m\u001b[0m\n\u001b[0m\u001b[0;32m   1310\u001b[0m \u001b[1;33m\u001b[0m\u001b[0m\n\u001b[0;32m   1311\u001b[0m         return self._wrap_applied_output(\n",
      "\u001b[1;32mD:\\Anaconda3\\envs\\fastai2022\\lib\\site-packages\\pandas\\core\\groupby\\ops.py\u001b[0m in \u001b[0;36mapply\u001b[1;34m(self, f, data, axis)\u001b[0m\n\u001b[0;32m    813\u001b[0m             \u001b[1;32mtry\u001b[0m\u001b[1;33m:\u001b[0m\u001b[1;33m\u001b[0m\u001b[1;33m\u001b[0m\u001b[0m\n\u001b[0;32m    814\u001b[0m                 \u001b[0msdata\u001b[0m \u001b[1;33m=\u001b[0m \u001b[0msplitter\u001b[0m\u001b[1;33m.\u001b[0m\u001b[0msorted_data\u001b[0m\u001b[1;33m\u001b[0m\u001b[1;33m\u001b[0m\u001b[0m\n\u001b[1;32m--> 815\u001b[1;33m                 \u001b[0mresult_values\u001b[0m\u001b[1;33m,\u001b[0m \u001b[0mmutated\u001b[0m \u001b[1;33m=\u001b[0m \u001b[0msplitter\u001b[0m\u001b[1;33m.\u001b[0m\u001b[0mfast_apply\u001b[0m\u001b[1;33m(\u001b[0m\u001b[0mf\u001b[0m\u001b[1;33m,\u001b[0m \u001b[0msdata\u001b[0m\u001b[1;33m,\u001b[0m \u001b[0mgroup_keys\u001b[0m\u001b[1;33m)\u001b[0m\u001b[1;33m\u001b[0m\u001b[1;33m\u001b[0m\u001b[0m\n\u001b[0m\u001b[0;32m    816\u001b[0m \u001b[1;33m\u001b[0m\u001b[0m\n\u001b[0;32m    817\u001b[0m             \u001b[1;32mexcept\u001b[0m \u001b[0mIndexError\u001b[0m\u001b[1;33m:\u001b[0m\u001b[1;33m\u001b[0m\u001b[1;33m\u001b[0m\u001b[0m\n",
      "\u001b[1;32mD:\\Anaconda3\\envs\\fastai2022\\lib\\site-packages\\pandas\\core\\groupby\\ops.py\u001b[0m in \u001b[0;36mfast_apply\u001b[1;34m(self, f, sdata, names)\u001b[0m\n\u001b[0;32m   1358\u001b[0m         \u001b[1;31m# must return keys::list, values::list, mutated::bool\u001b[0m\u001b[1;33m\u001b[0m\u001b[1;33m\u001b[0m\u001b[1;33m\u001b[0m\u001b[0m\n\u001b[0;32m   1359\u001b[0m         \u001b[0mstarts\u001b[0m\u001b[1;33m,\u001b[0m \u001b[0mends\u001b[0m \u001b[1;33m=\u001b[0m \u001b[0mlib\u001b[0m\u001b[1;33m.\u001b[0m\u001b[0mgenerate_slices\u001b[0m\u001b[1;33m(\u001b[0m\u001b[0mself\u001b[0m\u001b[1;33m.\u001b[0m\u001b[0mslabels\u001b[0m\u001b[1;33m,\u001b[0m \u001b[0mself\u001b[0m\u001b[1;33m.\u001b[0m\u001b[0mngroups\u001b[0m\u001b[1;33m)\u001b[0m\u001b[1;33m\u001b[0m\u001b[1;33m\u001b[0m\u001b[0m\n\u001b[1;32m-> 1360\u001b[1;33m         \u001b[1;32mreturn\u001b[0m \u001b[0mlibreduction\u001b[0m\u001b[1;33m.\u001b[0m\u001b[0mapply_frame_axis0\u001b[0m\u001b[1;33m(\u001b[0m\u001b[0msdata\u001b[0m\u001b[1;33m,\u001b[0m \u001b[0mf\u001b[0m\u001b[1;33m,\u001b[0m \u001b[0mnames\u001b[0m\u001b[1;33m,\u001b[0m \u001b[0mstarts\u001b[0m\u001b[1;33m,\u001b[0m \u001b[0mends\u001b[0m\u001b[1;33m)\u001b[0m\u001b[1;33m\u001b[0m\u001b[1;33m\u001b[0m\u001b[0m\n\u001b[0m\u001b[0;32m   1361\u001b[0m \u001b[1;33m\u001b[0m\u001b[0m\n\u001b[0;32m   1362\u001b[0m     \u001b[1;32mdef\u001b[0m \u001b[0m_chop\u001b[0m\u001b[1;33m(\u001b[0m\u001b[0mself\u001b[0m\u001b[1;33m,\u001b[0m \u001b[0msdata\u001b[0m\u001b[1;33m:\u001b[0m \u001b[0mDataFrame\u001b[0m\u001b[1;33m,\u001b[0m \u001b[0mslice_obj\u001b[0m\u001b[1;33m:\u001b[0m \u001b[0mslice\u001b[0m\u001b[1;33m)\u001b[0m \u001b[1;33m->\u001b[0m \u001b[0mDataFrame\u001b[0m\u001b[1;33m:\u001b[0m\u001b[1;33m\u001b[0m\u001b[1;33m\u001b[0m\u001b[0m\n",
      "\u001b[1;32mD:\\Anaconda3\\envs\\fastai2022\\lib\\site-packages\\pandas\\_libs\\reduction.pyx\u001b[0m in \u001b[0;36mpandas._libs.reduction.apply_frame_axis0\u001b[1;34m()\u001b[0m\n",
      "\u001b[1;32m~\\AppData\\Local\\Temp\\ipykernel_19040\\1438047986.py\u001b[0m in \u001b[0;36mcustom_function\u001b[1;34m(group)\u001b[0m\n\u001b[0;32m     12\u001b[0m     \u001b[1;31m# Compute the sum of the 'Value' column for the group\u001b[0m\u001b[1;33m\u001b[0m\u001b[1;33m\u001b[0m\u001b[1;33m\u001b[0m\u001b[0m\n\u001b[0;32m     13\u001b[0m     \u001b[0mpdb\u001b[0m\u001b[1;33m.\u001b[0m\u001b[0mset_trace\u001b[0m\u001b[1;33m(\u001b[0m\u001b[1;33m)\u001b[0m\u001b[1;33m\u001b[0m\u001b[1;33m\u001b[0m\u001b[0m\n\u001b[1;32m---> 14\u001b[1;33m     \u001b[0mtotal\u001b[0m \u001b[1;33m=\u001b[0m \u001b[0mgroup\u001b[0m\u001b[1;33m[\u001b[0m\u001b[1;34m'Value'\u001b[0m\u001b[1;33m]\u001b[0m\u001b[1;33m.\u001b[0m\u001b[0msum\u001b[0m\u001b[1;33m(\u001b[0m\u001b[1;33m)\u001b[0m\u001b[1;33m\u001b[0m\u001b[1;33m\u001b[0m\u001b[0m\n\u001b[0m\u001b[0;32m     15\u001b[0m     \u001b[1;31m# Compute the mean of the 'Value' column for the group\u001b[0m\u001b[1;33m\u001b[0m\u001b[1;33m\u001b[0m\u001b[1;33m\u001b[0m\u001b[0m\n\u001b[0;32m     16\u001b[0m     \u001b[0maverage\u001b[0m \u001b[1;33m=\u001b[0m \u001b[0mgroup\u001b[0m\u001b[1;33m[\u001b[0m\u001b[1;34m'Value'\u001b[0m\u001b[1;33m]\u001b[0m\u001b[1;33m.\u001b[0m\u001b[0mmean\u001b[0m\u001b[1;33m(\u001b[0m\u001b[1;33m)\u001b[0m\u001b[1;33m\u001b[0m\u001b[1;33m\u001b[0m\u001b[0m\n",
      "\u001b[1;32m~\\AppData\\Local\\Temp\\ipykernel_19040\\1438047986.py\u001b[0m in \u001b[0;36mcustom_function\u001b[1;34m(group)\u001b[0m\n\u001b[0;32m     12\u001b[0m     \u001b[1;31m# Compute the sum of the 'Value' column for the group\u001b[0m\u001b[1;33m\u001b[0m\u001b[1;33m\u001b[0m\u001b[1;33m\u001b[0m\u001b[0m\n\u001b[0;32m     13\u001b[0m     \u001b[0mpdb\u001b[0m\u001b[1;33m.\u001b[0m\u001b[0mset_trace\u001b[0m\u001b[1;33m(\u001b[0m\u001b[1;33m)\u001b[0m\u001b[1;33m\u001b[0m\u001b[1;33m\u001b[0m\u001b[0m\n\u001b[1;32m---> 14\u001b[1;33m     \u001b[0mtotal\u001b[0m \u001b[1;33m=\u001b[0m \u001b[0mgroup\u001b[0m\u001b[1;33m[\u001b[0m\u001b[1;34m'Value'\u001b[0m\u001b[1;33m]\u001b[0m\u001b[1;33m.\u001b[0m\u001b[0msum\u001b[0m\u001b[1;33m(\u001b[0m\u001b[1;33m)\u001b[0m\u001b[1;33m\u001b[0m\u001b[1;33m\u001b[0m\u001b[0m\n\u001b[0m\u001b[0;32m     15\u001b[0m     \u001b[1;31m# Compute the mean of the 'Value' column for the group\u001b[0m\u001b[1;33m\u001b[0m\u001b[1;33m\u001b[0m\u001b[1;33m\u001b[0m\u001b[0m\n\u001b[0;32m     16\u001b[0m     \u001b[0maverage\u001b[0m \u001b[1;33m=\u001b[0m \u001b[0mgroup\u001b[0m\u001b[1;33m[\u001b[0m\u001b[1;34m'Value'\u001b[0m\u001b[1;33m]\u001b[0m\u001b[1;33m.\u001b[0m\u001b[0mmean\u001b[0m\u001b[1;33m(\u001b[0m\u001b[1;33m)\u001b[0m\u001b[1;33m\u001b[0m\u001b[1;33m\u001b[0m\u001b[0m\n",
      "\u001b[1;32mD:\\Anaconda3\\envs\\fastai2022\\lib\\bdb.py\u001b[0m in \u001b[0;36mtrace_dispatch\u001b[1;34m(self, frame, event, arg)\u001b[0m\n\u001b[0;32m     86\u001b[0m             \u001b[1;32mreturn\u001b[0m \u001b[1;31m# None\u001b[0m\u001b[1;33m\u001b[0m\u001b[1;33m\u001b[0m\u001b[0m\n\u001b[0;32m     87\u001b[0m         \u001b[1;32mif\u001b[0m \u001b[0mevent\u001b[0m \u001b[1;33m==\u001b[0m \u001b[1;34m'line'\u001b[0m\u001b[1;33m:\u001b[0m\u001b[1;33m\u001b[0m\u001b[1;33m\u001b[0m\u001b[0m\n\u001b[1;32m---> 88\u001b[1;33m             \u001b[1;32mreturn\u001b[0m \u001b[0mself\u001b[0m\u001b[1;33m.\u001b[0m\u001b[0mdispatch_line\u001b[0m\u001b[1;33m(\u001b[0m\u001b[0mframe\u001b[0m\u001b[1;33m)\u001b[0m\u001b[1;33m\u001b[0m\u001b[1;33m\u001b[0m\u001b[0m\n\u001b[0m\u001b[0;32m     89\u001b[0m         \u001b[1;32mif\u001b[0m \u001b[0mevent\u001b[0m \u001b[1;33m==\u001b[0m \u001b[1;34m'call'\u001b[0m\u001b[1;33m:\u001b[0m\u001b[1;33m\u001b[0m\u001b[1;33m\u001b[0m\u001b[0m\n\u001b[0;32m     90\u001b[0m             \u001b[1;32mreturn\u001b[0m \u001b[0mself\u001b[0m\u001b[1;33m.\u001b[0m\u001b[0mdispatch_call\u001b[0m\u001b[1;33m(\u001b[0m\u001b[0mframe\u001b[0m\u001b[1;33m,\u001b[0m \u001b[0marg\u001b[0m\u001b[1;33m)\u001b[0m\u001b[1;33m\u001b[0m\u001b[1;33m\u001b[0m\u001b[0m\n",
      "\u001b[1;32mD:\\Anaconda3\\envs\\fastai2022\\lib\\bdb.py\u001b[0m in \u001b[0;36mdispatch_line\u001b[1;34m(self, frame)\u001b[0m\n\u001b[0;32m    111\u001b[0m         \u001b[1;32mif\u001b[0m \u001b[0mself\u001b[0m\u001b[1;33m.\u001b[0m\u001b[0mstop_here\u001b[0m\u001b[1;33m(\u001b[0m\u001b[0mframe\u001b[0m\u001b[1;33m)\u001b[0m \u001b[1;32mor\u001b[0m \u001b[0mself\u001b[0m\u001b[1;33m.\u001b[0m\u001b[0mbreak_here\u001b[0m\u001b[1;33m(\u001b[0m\u001b[0mframe\u001b[0m\u001b[1;33m)\u001b[0m\u001b[1;33m:\u001b[0m\u001b[1;33m\u001b[0m\u001b[1;33m\u001b[0m\u001b[0m\n\u001b[0;32m    112\u001b[0m             \u001b[0mself\u001b[0m\u001b[1;33m.\u001b[0m\u001b[0muser_line\u001b[0m\u001b[1;33m(\u001b[0m\u001b[0mframe\u001b[0m\u001b[1;33m)\u001b[0m\u001b[1;33m\u001b[0m\u001b[1;33m\u001b[0m\u001b[0m\n\u001b[1;32m--> 113\u001b[1;33m             \u001b[1;32mif\u001b[0m \u001b[0mself\u001b[0m\u001b[1;33m.\u001b[0m\u001b[0mquitting\u001b[0m\u001b[1;33m:\u001b[0m \u001b[1;32mraise\u001b[0m \u001b[0mBdbQuit\u001b[0m\u001b[1;33m\u001b[0m\u001b[1;33m\u001b[0m\u001b[0m\n\u001b[0m\u001b[0;32m    114\u001b[0m         \u001b[1;32mreturn\u001b[0m \u001b[0mself\u001b[0m\u001b[1;33m.\u001b[0m\u001b[0mtrace_dispatch\u001b[0m\u001b[1;33m\u001b[0m\u001b[1;33m\u001b[0m\u001b[0m\n\u001b[0;32m    115\u001b[0m \u001b[1;33m\u001b[0m\u001b[0m\n",
      "\u001b[1;31mBdbQuit\u001b[0m: "
     ]
    }
   ],
   "source": [
    "import pandas as pd\n",
    "\n",
    "# Create a DataFrame\n",
    "data = {\n",
    "    'GB': ['A', 'B', 'A', 'B', 'A', 'B'],\n",
    "    'Value': [1, 2, 3, 4, 5, 6]\n",
    "}\n",
    "df = pd.DataFrame(data)\n",
    "\n",
    "# Define a custom function to apply to each group\n",
    "def custom_function(group):\n",
    "    # Compute the sum of the 'Value' column for the group\n",
    "    pdb.set_trace()\n",
    "    total = group['Value'].sum()\n",
    "    # Compute the mean of the 'Value' column for the group\n",
    "    average = group['Value'].mean()\n",
    "    # Return a tuple of the total and average\n",
    "    return total*average\n",
    "\n",
    "# Group the DataFrame by 'Group' and apply the custom function to each group\n",
    "results = df.groupby('GB').apply(custom_function)\n",
    "\n",
    "# Convert the results to a DataFrame\n",
    "#results_df = pd.DataFrame(results, columns=['Total', 'Average'])\n",
    "\n",
    "# Print the results\n",
    "print(results)\n"
   ]
  },
  {
   "cell_type": "code",
   "execution_count": 274,
   "id": "374eace6-d9d9-444f-8983-25ff65dee7a8",
   "metadata": {
    "tags": []
   },
   "outputs": [
    {
     "data": {
      "text/plain": [
       "(2, 14)"
      ]
     },
     "execution_count": 274,
     "metadata": {},
     "output_type": "execute_result"
    }
   ],
   "source": [
    "image_name,anno_class=row['image_name'],row['class_name']\n",
    "image_anno_data=anno_df[(anno_df['image_name']==image_name) & (anno_df['class_name']==anno_class)]\n",
    "image_anno_data.shape"
   ]
  },
  {
   "cell_type": "code",
   "execution_count": 335,
   "id": "2a99e1ef-ec0f-45da-8453-df2e9f1545ba",
   "metadata": {
    "tags": []
   },
   "outputs": [
    {
     "data": {
      "text/plain": [
       "8.0"
      ]
     },
     "execution_count": 335,
     "metadata": {},
     "output_type": "execute_result"
    }
   ],
   "source": [
    "row['downsample_levels'][zoom_level_idx.item()]"
   ]
  },
  {
   "cell_type": "code",
   "execution_count": 331,
   "id": "14e0de2b-d5e8-4387-996c-30dc8bfe82cc",
   "metadata": {},
   "outputs": [
    {
     "data": {
      "text/plain": [
       "tensor([3])"
      ]
     },
     "execution_count": 331,
     "metadata": {},
     "output_type": "execute_result"
    }
   ],
   "source": [
    "zoom_level_idx"
   ]
  },
  {
   "cell_type": "code",
   "execution_count": 373,
   "id": "77c3a219-bc7b-4f8f-86e4-2d586a1be3a8",
   "metadata": {},
   "outputs": [
    {
     "data": {
      "text/plain": [
       "8"
      ]
     },
     "execution_count": 373,
     "metadata": {},
     "output_type": "execute_result"
    }
   ],
   "source": [
    "crop=Polygon(crop)\n",
    "coords=np.array(crop.exterior.coords,dtype=np.int32)\n",
    "downsample_factor=int(row['downsample_levels'][zoom_level_idx.item()])\n",
    "downsample_factor"
   ]
  },
  {
   "cell_type": "code",
   "execution_count": 358,
   "id": "6ed129b2-7e6c-42da-a4d1-003f5d6b3c22",
   "metadata": {},
   "outputs": [],
   "source": [
    "intersects=[(np.array(crop.intersection(poly).exterior.coords,dtype=np.int32)-coords[3])//downsample_factor\n",
    "            for poly in image_anno_data['polygon'] if crop.intersects(poly)]\n",
    "mask=np.zeros((256,256),dtype=np.uint8)\n",
    "cv2.fillPoly(mask,intersects,color=255)"
   ]
  },
  {
   "cell_type": "code",
   "execution_count": 372,
   "id": "063463b8-d517-4863-910d-a66c4737f658",
   "metadata": {},
   "outputs": [
    {
     "data": {
      "text/plain": [
       "array([[54270, 72995],\n",
       "       [56318, 72995],\n",
       "       [56318, 70947],\n",
       "       [54270, 70947],\n",
       "       [54270, 72995]])"
      ]
     },
     "execution_count": 372,
     "metadata": {},
     "output_type": "execute_result"
    }
   ],
   "source": [
    "coords"
   ]
  },
  {
   "cell_type": "code",
   "execution_count": 306,
   "id": "081b9b17-2978-4bb4-8429-08129702403d",
   "metadata": {},
   "outputs": [],
   "source": [
    "slide=OpenSlide(row['image_path'])"
   ]
  },
  {
   "cell_type": "code",
   "execution_count": 311,
   "id": "84d2a06f-2f0d-4675-a6da-0b305cf94965",
   "metadata": {},
   "outputs": [
    {
     "data": {
      "text/plain": [
       "<function Tensor.item>"
      ]
     },
     "execution_count": 311,
     "metadata": {},
     "output_type": "execute_result"
    }
   ],
   "source": [
    "zoom_level_idx.item"
   ]
  },
  {
   "cell_type": "code",
   "execution_count": 322,
   "id": "096cb2f2-be12-4312-b848-d4630a5308ed",
   "metadata": {},
   "outputs": [
    {
     "data": {
      "text/plain": [
       "(54270, 70947)"
      ]
     },
     "execution_count": 322,
     "metadata": {},
     "output_type": "execute_result"
    }
   ],
   "source": [
    "tuple(coords[3].astype(np.int32))"
   ]
  },
  {
   "cell_type": "code",
   "execution_count": 316,
   "id": "6dc20b11-df90-400e-aa68-8a71bf2ea8f2",
   "metadata": {},
   "outputs": [
    {
     "data": {
      "text/plain": [
       "3"
      ]
     },
     "execution_count": 316,
     "metadata": {},
     "output_type": "execute_result"
    }
   ],
   "source": [
    "zoom_level_idx.item()"
   ]
  },
  {
   "cell_type": "code",
   "execution_count": 320,
   "id": "85b5a113-bc26-4442-8c0f-0bd8763c1961",
   "metadata": {},
   "outputs": [
    {
     "data": {
      "text/plain": [
       "WindowsPath('WSI_download/WSI_data/images/4518_Beta48_S1T1R1.tiff')"
      ]
     },
     "execution_count": 320,
     "metadata": {},
     "output_type": "execute_result"
    }
   ],
   "source": [
    "row['image_path']"
   ]
  },
  {
   "cell_type": "code",
   "execution_count": 323,
   "id": "357726d8-efac-4a7d-93d6-19cdb691cfc0",
   "metadata": {},
   "outputs": [
    {
     "data": {
      "image/png": "[encoded data removed]",
      "text/plain": [
       "<PIL.Image.Image image mode=RGBA size=256x256>"
      ]
     },
     "execution_count": 323,
     "metadata": {},
     "output_type": "execute_result"
    }
   ],
   "source": [
    "slide.read_region(tuple(coords[3].astype(np.int32)),3,(256,256))"
   ]
  },
  {
   "cell_type": "code",
   "execution_count": 366,
   "id": "edbc481f-c7da-44fc-acb9-5665c7d92add",
   "metadata": {},
   "outputs": [
    {
     "data": {
      "text/plain": [
       "array([[0, 0, 0, ..., 0, 0, 0],\n",
       "       [0, 0, 0, ..., 0, 0, 0],\n",
       "       [0, 0, 0, ..., 0, 0, 0],\n",
       "       ...,\n",
       "       [0, 0, 0, ..., 0, 0, 0],\n",
       "       [0, 0, 0, ..., 0, 0, 0],\n",
       "       [0, 0, 0, ..., 0, 0, 0]], dtype=uint8)"
      ]
     },
     "execution_count": 366,
     "metadata": {},
     "output_type": "execute_result"
    }
   ],
   "source": [
    "mask=np.zeros((256,256),dtype=np.uint8)\n",
    "cv2.fillPoly(mask,intersects,color=255)"
   ]
  },
  {
   "cell_type": "code",
   "execution_count": 367,
   "id": "8f72b5c7-d8b6-45b6-80a8-bc093e3aa818",
   "metadata": {},
   "outputs": [
    {
     "data": {
      "text/plain": [
       "2627010"
      ]
     },
     "execution_count": 367,
     "metadata": {},
     "output_type": "execute_result"
    }
   ],
   "source": [
    "mask.sum()"
   ]
  },
  {
   "cell_type": "code",
   "execution_count": 368,
   "id": "43b7ff41-9d4e-4c63-b89f-00af1286593c",
   "metadata": {},
   "outputs": [],
   "source": [
    "import matplotlib.pyplot as plt"
   ]
  },
  {
   "cell_type": "code",
   "execution_count": 369,
   "id": "72ae9b8d-2d0b-4501-be90-32aac66cce96",
   "metadata": {},
   "outputs": [
    {
     "data": {
      "text/plain": [
       "<matplotlib.image.AxesImage at 0x23de8a40dc8>"
      ]
     },
     "execution_count": 369,
     "metadata": {},
     "output_type": "execute_result"
    },
    {
     "data": {
      "image/png": "[encoded data removed]",
      "text/plain": [
       "<Figure size 432x288 with 1 Axes>"
      ]
     },
     "metadata": {
      "needs_background": "light"
     },
     "output_type": "display_data"
    }
   ],
   "source": [
    "plt.imshow(mask)"
   ]
  },
  {
   "cell_type": "code",
   "execution_count": 347,
   "id": "6da0c681-f078-47ac-b169-9b4b0d8d8d17",
   "metadata": {},
   "outputs": [
    {
     "data": {
      "text/plain": [
       "dtype('float64')"
      ]
     },
     "execution_count": 347,
     "metadata": {},
     "output_type": "execute_result"
    }
   ],
   "source": [
    "intersects[0].dtype"
   ]
  },
  {
   "cell_type": "code",
   "execution_count": 329,
   "id": "42621443-38b7-4db2-8d43-cc8f0a03fb28",
   "metadata": {},
   "outputs": [
    {
     "data": {
      "text/plain": [
       "(243, 2)"
      ]
     },
     "execution_count": 329,
     "metadata": {},
     "output_type": "execute_result"
    }
   ],
   "source": [
    "intersects[0].shape"
   ]
  },
  {
   "cell_type": "code",
   "execution_count": 286,
   "id": "078c8c7e-9f23-486c-a829-29579c52d613",
   "metadata": {},
   "outputs": [
    {
     "data": {
      "image/svg+xml": [
       "<svg xmlns=\"http://www.w3.org/2000/svg\" xmlns:xlink=\"http://www.w3.org/1999/xlink\" width=\"300\" height=\"300\" viewBox=\"55162.92 71609.92 979.1600000000035 2054.1600000000035\" preserveAspectRatio=\"xMinYMin meet\"><g transform=\"matrix(1,0,0,-1,0,145274.0)\"><path fill-rule=\"evenodd\" fill=\"#66cc99\" stroke=\"#555555\" stroke-width=\"13.694400000000023\" opacity=\"0.6\" d=\"M 55349.0,71686.0 L 55331.0,71695.0 L 55313.0,71741.0 L 55294.0,71741.0 L 55294.0,71751.0 L 55285.0,71751.0 L 55276.0,71760.0 L 55267.0,71760.0 L 55267.0,71769.0 L 55258.0,71778.0 L 55248.0,71787.0 L 55248.0,71797.0 L 55248.0,71806.0 L 55248.0,71815.0 L 55248.0,71824.0 L 55258.0,71833.0 L 55258.0,71852.0 L 55258.0,71861.0 L 55258.0,71879.0 L 55258.0,71888.0 L 55258.0,71907.0 L 55267.0,71916.0 L 55276.0,71925.0 L 55276.0,71934.0 L 55276.0,71944.0 L 55276.0,71962.0 L 55294.0,71971.0 L 55313.0,71989.0 L 55340.0,71989.0 L 55340.0,71999.0 L 55359.0,71999.0 L 55359.0,72008.0 L 55359.0,72017.0 L 55368.0,72017.0 L 55368.0,72026.0 L 55368.0,72035.0 L 55368.0,72045.0 L 55377.0,72054.0 L 55377.0,72063.0 L 55377.0,72081.0 L 55377.0,72090.0 L 55377.0,72100.0 L 55377.0,72109.0 L 55377.0,72118.0 L 55377.0,72127.0 L 55377.0,72136.0 L 55377.0,72155.0 L 55377.0,72164.0 L 55377.0,72173.0 L 55377.0,72182.0 L 55377.0,72192.0 L 55377.0,72201.0 L 55368.0,72210.0 L 55359.0,72210.0 L 55359.0,72219.0 L 55349.0,72228.0 L 55349.0,72237.0 L 55331.0,72256.0 L 55322.0,72256.0 L 55313.0,72265.0 L 55294.0,72274.0 L 55285.0,72274.0 L 55276.0,72293.0 L 55267.0,72293.0 L 55267.0,72302.0 L 55258.0,72311.0 L 55258.0,72320.0 L 55248.0,72320.0 L 55239.0,72329.0 L 55239.0,72339.0 L 55239.0,72348.0 L 55239.0,72357.0 L 55239.0,72366.0 L 55239.0,72375.0 L 55239.0,72384.0 L 55239.0,72394.0 L 55239.0,72403.0 L 55239.0,72412.0 L 55239.0,72421.0 L 55239.0,72430.0 L 55239.0,72440.0 L 55239.0,72458.0 L 55239.0,72467.0 L 55239.0,72476.0 L 55239.0,72485.0 L 55239.0,72495.0 L 55248.0,72504.0 L 55248.0,72513.0 L 55248.0,72522.0 L 55248.0,72531.0 L 55248.0,72541.0 L 55258.0,72550.0 L 55258.0,72559.0 L 55258.0,72568.0 L 55258.0,72587.0 L 55258.0,72596.0 L 55258.0,72605.0 L 55258.0,72614.0 L 55258.0,72623.0 L 55258.0,72632.0 L 55267.0,72642.0 L 55267.0,72651.0 L 55267.0,72660.0 L 55276.0,72669.0 L 55285.0,72688.0 L 55285.0,72697.0 L 55294.0,72715.0 L 55294.0,72724.0 L 55303.0,72743.0 L 55303.0,72752.0 L 55313.0,72752.0 L 55313.0,72770.0 L 55313.0,72779.0 L 55322.0,72798.0 L 55322.0,72807.0 L 55322.0,72825.0 L 55340.0,72853.0 L 55340.0,72862.0 L 55340.0,72871.0 L 55340.0,72880.0 L 55340.0,72890.0 L 55340.0,72899.0 L 55340.0,72908.0 L 55340.0,72917.0 L 55340.0,72926.0 L 55340.0,72936.0 L 55349.0,72936.0 L 55349.0,72954.0 L 55349.0,72963.0 L 55349.0,72972.0 L 55349.0,72982.0 L 55349.0,72991.0 L 55359.0,73000.0 L 55368.0,73009.0 L 55368.0,73018.0 L 55368.0,73027.0 L 55368.0,73037.0 L 55368.0,73046.0 L 55368.0,73064.0 L 55368.0,73073.0 L 55368.0,73083.0 L 55377.0,73101.0 L 55377.0,73110.0 L 55377.0,73119.0 L 55377.0,73129.0 L 55395.0,73147.0 L 55395.0,73165.0 L 55395.0,73174.0 L 55395.0,73184.0 L 55395.0,73193.0 L 55414.0,73220.0 L 55432.0,73248.0 L 55432.0,73257.0 L 55441.0,73276.0 L 55441.0,73285.0 L 55450.0,73303.0 L 55460.0,73321.0 L 55460.0,73331.0 L 55469.0,73331.0 L 55469.0,73349.0 L 55469.0,73358.0 L 55469.0,73377.0 L 55478.0,73386.0 L 55478.0,73404.0 L 55478.0,73413.0 L 55478.0,73432.0 L 55487.0,73459.0 L 55487.0,73468.0 L 55496.0,73478.0 L 55496.0,73496.0 L 55496.0,73505.0 L 55496.0,73514.0 L 55496.0,73524.0 L 55496.0,73533.0 L 55506.0,73533.0 L 55506.0,73542.0 L 55515.0,73542.0 L 55515.0,73551.0 L 55533.0,73560.0 L 55551.0,73560.0 L 55551.0,73569.0 L 55570.0,73579.0 L 55579.0,73579.0 L 55597.0,73588.0 L 55754.0,73588.0 L 55763.0,73579.0 L 55809.0,73579.0 L 55818.0,73560.0 L 55864.0,73560.0 L 55873.0,73551.0 L 55901.0,73551.0 L 55910.0,73542.0 L 55928.0,73533.0 L 55956.0,73533.0 L 55956.0,73524.0 L 55974.0,73524.0 L 55992.0,73505.0 L 56002.0,73496.0 L 56020.0,73496.0 L 56020.0,73487.0 L 56029.0,73487.0 L 56038.0,73478.0 L 56038.0,73468.0 L 56038.0,73459.0 L 56048.0,73450.0 L 56057.0,73432.0 L 56066.0,73413.0 L 56066.0,73404.0 L 56066.0,73395.0 L 56066.0,73386.0 L 56066.0,73377.0 L 56066.0,73367.0 L 56066.0,73358.0 L 56066.0,73349.0 L 56066.0,73340.0 L 56066.0,73331.0 L 56066.0,73321.0 L 56066.0,73312.0 L 56066.0,73303.0 L 56066.0,73294.0 L 56066.0,73285.0 L 56066.0,73276.0 L 56066.0,73266.0 L 56066.0,73248.0 L 56066.0,73239.0 L 56057.0,73220.0 L 56057.0,73211.0 L 56057.0,73193.0 L 56057.0,73184.0 L 56057.0,73174.0 L 56057.0,73165.0 L 56057.0,73147.0 L 56057.0,73138.0 L 56057.0,73129.0 L 56057.0,73110.0 L 56048.0,73092.0 L 56048.0,73073.0 L 56038.0,73055.0 L 56038.0,73037.0 L 56038.0,73018.0 L 56038.0,73009.0 L 56029.0,72991.0 L 56029.0,72982.0 L 56029.0,72972.0 L 56029.0,72963.0 L 56029.0,72954.0 L 56020.0,72917.0 L 56020.0,72908.0 L 56020.0,72899.0 L 56020.0,72880.0 L 56020.0,72871.0 L 56020.0,72862.0 L 56020.0,72853.0 L 56011.0,72835.0 L 56011.0,72825.0 L 56011.0,72807.0 L 56011.0,72798.0 L 56002.0,72789.0 L 56002.0,72770.0 L 55992.0,72752.0 L 55992.0,72743.0 L 55983.0,72715.0 L 55965.0,72697.0 L 55965.0,72688.0 L 55965.0,72678.0 L 55965.0,72669.0 L 55965.0,72660.0 L 55956.0,72651.0 L 55946.0,72632.0 L 55937.0,72614.0 L 55937.0,72605.0 L 55937.0,72596.0 L 55928.0,72587.0 L 55919.0,72577.0 L 55910.0,72568.0 L 55910.0,72559.0 L 55910.0,72550.0 L 55901.0,72541.0 L 55891.0,72522.0 L 55882.0,72522.0 L 55882.0,72513.0 L 55882.0,72495.0 L 55873.0,72495.0 L 55873.0,72485.0 L 55864.0,72467.0 L 55855.0,72458.0 L 55855.0,72440.0 L 55845.0,72430.0 L 55845.0,72421.0 L 55845.0,72412.0 L 55836.0,72394.0 L 55827.0,72375.0 L 55818.0,72348.0 L 55809.0,72329.0 L 55790.0,72311.0 L 55790.0,72302.0 L 55790.0,72283.0 L 55781.0,72274.0 L 55781.0,72265.0 L 55772.0,72256.0 L 55772.0,72247.0 L 55763.0,72228.0 L 55754.0,72201.0 L 55754.0,72182.0 L 55735.0,72164.0 L 55726.0,72136.0 L 55717.0,72118.0 L 55708.0,72100.0 L 55698.0,72081.0 L 55689.0,72063.0 L 55689.0,72054.0 L 55680.0,72045.0 L 55671.0,72035.0 L 55671.0,72026.0 L 55671.0,72017.0 L 55671.0,72008.0 L 55662.0,71999.0 L 55653.0,71980.0 L 55643.0,71980.0 L 55643.0,71971.0 L 55634.0,71971.0 L 55634.0,71962.0 L 55625.0,71944.0 L 55616.0,71934.0 L 55607.0,71925.0 L 55597.0,71916.0 L 55579.0,71898.0 L 55570.0,71879.0 L 55561.0,71861.0 L 55551.0,71861.0 L 55542.0,71852.0 L 55542.0,71842.0 L 55533.0,71833.0 L 55533.0,71824.0 L 55524.0,71824.0 L 55524.0,71815.0 L 55515.0,71806.0 L 55506.0,71797.0 L 55478.0,71769.0 L 55478.0,71760.0 L 55469.0,71760.0 L 55460.0,71741.0 L 55450.0,71741.0 L 55450.0,71723.0 L 55450.0,71714.0 L 55450.0,71705.0 L 55441.0,71705.0 L 55432.0,71695.0 L 55423.0,71686.0 L 55349.0,71686.0 z\" /></g></svg>"
      ],
      "text/plain": [
       "<shapely.geometry.polygon.Polygon at 0x23de6aee588>"
      ]
     },
     "execution_count": 286,
     "metadata": {},
     "output_type": "execute_result"
    }
   ],
   "source": [
    " image_anno_data['polygon'].iloc[0]`"
   ]
  },
  {
   "cell_type": "code",
   "execution_count": 288,
   "id": "3a779686-cd4a-4544-a348-d59a7b57151e",
   "metadata": {},
   "outputs": [
    {
     "data": {
      "text/plain": [
       "array([[54270., 72995.],\n",
       "       [56318., 72995.],\n",
       "       [56318., 70947.],\n",
       "       [54270., 70947.],\n",
       "       [54270., 72995.]])"
      ]
     },
     "execution_count": 288,
     "metadata": {},
     "output_type": "execute_result"
    }
   ],
   "source": [
    "np.array(crop.exterior.coords)"
   ]
  },
  {
   "cell_type": "code",
   "execution_count": null,
   "id": "1853df06-63e4-4360-ae95-963f44f86be8",
   "metadata": {},
   "outputs": [],
   "source": []
  },
  {
   "cell_type": "code",
   "execution_count": 271,
   "id": "e3b37c80-b68f-4c9f-a387-8c71240f5a89",
   "metadata": {},
   "outputs": [
    {
     "data": {
      "text/plain": [
       "0    True\n",
       "1    True\n",
       "2    True\n",
       "3    True\n",
       "4    True\n",
       "5    True\n",
       "6    True\n",
       "7    True\n",
       "8    True\n",
       "9    True\n",
       "Name: image_name, dtype: bool"
      ]
     },
     "execution_count": 271,
     "metadata": {},
     "output_type": "execute_result"
    }
   ],
   "source": [
    "anno_df['image_name']==image_name"
   ]
  },
  {
   "cell_type": "code",
   "execution_count": 267,
   "id": "8d8024ed-44df-48e7-950f-fb83708fc8df",
   "metadata": {},
   "outputs": [
    {
     "data": {
      "text/plain": [
       "0         Region*\n",
       "1        Positive\n",
       "2    Immune cells\n",
       "3        Necrosis\n",
       "4         Ignore*\n",
       "5           Tumor\n",
       "6        Necrosis\n",
       "7        Necrosis\n",
       "8        Positive\n",
       "9           urban\n",
       "Name: class_name, dtype: object"
      ]
     },
     "execution_count": 267,
     "metadata": {},
     "output_type": "execute_result"
    }
   ],
   "source": [
    "image_anno_data['class_name']"
   ]
  },
  {
   "cell_type": "code",
   "execution_count": 198,
   "id": "a039cb7b-2ff7-436e-a88f-e5dc0dfb9da8",
   "metadata": {},
   "outputs": [],
   "source": [
    "row=anno_df.iloc[3]"
   ]
  },
  {
   "cell_type": "code",
   "execution_count": 204,
   "id": "8d202849-f8f2-49f4-820e-503bfdfb0ba1",
   "metadata": {},
   "outputs": [
    {
     "data": {
      "text/plain": [
       "array([429])"
      ]
     },
     "execution_count": 204,
     "metadata": {},
     "output_type": "execute_result"
    }
   ],
   "source": [
    "np.random.choice(range(len(row['coordinates'])),1)"
   ]
  },
  {
   "cell_type": "code",
   "execution_count": 263,
   "id": "a6da76b5-221e-4c5b-bd77-0bfed0f54355",
   "metadata": {},
   "outputs": [
    {
     "data": {
      "text/plain": [
       "Index(['type', 'geometry', 'properties', 'image_name', 'image_path',\n",
       "       'WSI_size', 'levels', 'downsample_levels', 'coordinates', 'polygon',\n",
       "       'area', 'circumference', 'class_name', 'colour_RGB'],\n",
       "      dtype='object')"
      ]
     },
     "execution_count": 263,
     "metadata": {},
     "output_type": "execute_result"
    }
   ],
   "source": [
    "anno_df.columns"
   ]
  },
  {
   "cell_type": "code",
   "execution_count": null,
   "id": "550de723-3455-4ccc-ad29-14a7d8e491fa",
   "metadata": {},
   "outputs": [],
   "source": []
  }
 ],
 "metadata": {
  "kernelspec": {
   "display_name": "Python 3 (ipykernel)",
   "language": "python",
   "name": "python3"
  },
  "language_info": {
   "codemirror_mode": {
    "name": "ipython",
    "version": 3
   },
   "file_extension": ".py",
   "mimetype": "text/x-python",
   "name": "python",
   "nbconvert_exporter": "python",
   "pygments_lexer": "ipython3",
   "version": "3.11.4"
  }
 },
 "nbformat": 4,
 "nbformat_minor": 5
}
